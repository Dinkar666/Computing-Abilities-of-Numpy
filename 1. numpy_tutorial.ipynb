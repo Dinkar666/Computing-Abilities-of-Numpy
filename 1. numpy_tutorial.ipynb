{
 "cells": [
  {
   "cell_type": "markdown",
   "metadata": {},
   "source": [
    "# 0. Brief description to the notebook\n",
    "\n",
    "Numpy is a very fast and efficient way of creating and dealing with arrays in a computing language. This notebook deals with all the built-in functions and techniques used while using numpy library. Some occasional use of other libraries such as `matplotlib` and `sympy` may be seen in plotting instances and even displaying the output in $\\LaTeX$ formatting.\\\n",
    "List of many many mathematical functions here:\n",
    "\n",
    "https://numpy.org/doc/stable/reference/routines.math.html\n",
    "\n",
    "## Topics Covered\n",
    "- array from a list\n",
    "- linspace and arange\n",
    "- diagonal matrix\n",
    "- Operations on Arrays of same size\n",
    "- Broadcasting (arrays of different size)\n",
    "- reshape,resize,flatten,ravel the arrays\n",
    "- slicing the array\n",
    "- reverse the array trick\n",
    "- <mark>Lambda function</mark>\n",
    "- `np.vectorize()`\n",
    "- plotting using matplotlib\n",
    "- sort/positivize/reverse/mean/product/max/min of the array\n",
    "- Statistics on arrays: mean/variance/standard deviation/finding unique values in the array/handling random numbers\n",
    "- Calculus: gradient() and cumsum()\n",
    "- multi-dim arrays\n",
    "- <mark>meshgrid</mark> for 2D functions\n",
    "- concept of <mark>AXES</mark>\n",
    "- join/split array /insert value/delete value\n",
    "- Linear algebra module(`np.linalg.`) : det,power,eigenval,eigenvect,solution of sys of linear equations\n",
    "- Great practical/physics based examples"
   ]
  },
  {
   "cell_type": "code",
   "execution_count": 395,
   "metadata": {},
   "outputs": [],
   "source": [
    "import numpy as np\n",
    "import matplotlib.pyplot as plt\n",
    "from sympy.interactive import printing\n",
    "printing.init_printing(use_latex=True)\n",
    "from IPython.display import display,Math\n",
    "from sympy import *\n",
    "import sympy as sp"
   ]
  },
  {
   "cell_type": "markdown",
   "metadata": {},
   "source": [
    "# 1. Creating Arrays\n",
    "## 1.1 Creation of a numpy array from a list"
   ]
  },
  {
   "cell_type": "code",
   "execution_count": 396,
   "metadata": {},
   "outputs": [
    {
     "data": {
      "text/plain": [
       "'List created:'"
      ]
     },
     "metadata": {},
     "output_type": "display_data"
    },
    {
     "data": {
      "image/png": "[encoded data removed]",
      "text/latex": [
       "$\\displaystyle \\left[ 1, \\  10, \\  100, \\  1000\\right]$"
      ],
      "text/plain": [
       "[1, 10, 100, 1000]"
      ]
     },
     "metadata": {},
     "output_type": "display_data"
    },
    {
     "data": {
      "text/plain": [
       "'list till 3rd element'"
      ]
     },
     "metadata": {},
     "output_type": "display_data"
    },
    {
     "data": {
      "image/png": "[encoded data removed]",
      "text/latex": [
       "$\\displaystyle \\left[ 1, \\  10, \\  100\\right]$"
      ],
      "text/plain": [
       "[1, 10, 100]"
      ]
     },
     "metadata": {},
     "output_type": "display_data"
    },
    {
     "data": {
      "text/plain": [
       "array([   1,   10,  100, 1000])"
      ]
     },
     "metadata": {},
     "output_type": "display_data"
    },
    {
     "data": {
      "text/plain": [
       "'multiply the array by 2'"
      ]
     },
     "metadata": {},
     "output_type": "display_data"
    },
    {
     "data": {
      "text/plain": [
       "array([   2,   20,  200, 2000])"
      ]
     },
     "metadata": {},
     "output_type": "display_data"
    }
   ],
   "source": [
    "my_list=[1,10,100,1000] # it is a list\n",
    "my_array=np.array(my_list) # it will be an array (a list is fed to an array)\n",
    "display(\"List created:\",my_list)\n",
    "display(\"list till 3rd element\",my_list[:3])  # Check section 3 of Slicing of list\n",
    "display(my_array)\n",
    "display(\"multiply the array by 2\",my_array*2)"
   ]
  },
  {
   "cell_type": "markdown",
   "metadata": {},
   "source": [
    "## 1.2 Other Important numpy arrays\n"
   ]
  },
  {
   "cell_type": "code",
   "execution_count": 397,
   "metadata": {},
   "outputs": [
    {
     "data": {
      "text/plain": [
       "'array of 4 numbers'"
      ]
     },
     "metadata": {},
     "output_type": "display_data"
    },
    {
     "data": {
      "text/plain": [
       "array([3, 5, 7, 4])"
      ]
     },
     "metadata": {},
     "output_type": "display_data"
    },
    {
     "data": {
      "text/plain": [
       "'array of 10 zeros'"
      ]
     },
     "metadata": {},
     "output_type": "display_data"
    },
    {
     "data": {
      "text/plain": [
       "array([0., 0., 0., 0., 0., 0., 0., 0., 0., 0.])"
      ]
     },
     "metadata": {},
     "output_type": "display_data"
    },
    {
     "data": {
      "text/plain": [
       "'array of 10 ones'"
      ]
     },
     "metadata": {},
     "output_type": "display_data"
    },
    {
     "data": {
      "text/plain": [
       "array([1., 1., 1., 1., 1., 1., 1., 1., 1., 1.])"
      ]
     },
     "metadata": {},
     "output_type": "display_data"
    },
    {
     "data": {
      "text/plain": [
       "'array of 10 random numbers'"
      ]
     },
     "metadata": {},
     "output_type": "display_data"
    },
    {
     "data": {
      "text/plain": [
       "array([0.07117885, 0.202438  , 0.32510943, 0.49229984, 0.35978026,\n",
       "       0.04899696, 0.17272573, 0.42146088, 0.65352317, 0.85270244])"
      ]
     },
     "metadata": {},
     "output_type": "display_data"
    },
    {
     "data": {
      "text/plain": [
       "'array of 10 random numbers distributed acc. to gaussian of mean=0 and SD=1 '"
      ]
     },
     "metadata": {},
     "output_type": "display_data"
    },
    {
     "data": {
      "text/plain": [
       "array([ 2.32889325, -1.02024053,  0.7386154 ,  0.51769924, -1.15790361,\n",
       "        0.12020059, -1.75795049,  1.91624071, -0.13810964, -0.45803765])"
      ]
     },
     "metadata": {},
     "output_type": "display_data"
    },
    {
     "data": {
      "text/plain": [
       "'array of equally spaced 100 numbers b/w 0 and 10'"
      ]
     },
     "metadata": {},
     "output_type": "display_data"
    },
    {
     "data": {
      "text/plain": [
       "array([ 0.        ,  0.1010101 ,  0.2020202 ,  0.3030303 ,  0.4040404 ,\n",
       "        0.50505051,  0.60606061,  0.70707071,  0.80808081,  0.90909091,\n",
       "        1.01010101,  1.11111111,  1.21212121,  1.31313131,  1.41414141,\n",
       "        1.51515152,  1.61616162,  1.71717172,  1.81818182,  1.91919192,\n",
       "        2.02020202,  2.12121212,  2.22222222,  2.32323232,  2.42424242,\n",
       "        2.52525253,  2.62626263,  2.72727273,  2.82828283,  2.92929293,\n",
       "        3.03030303,  3.13131313,  3.23232323,  3.33333333,  3.43434343,\n",
       "        3.53535354,  3.63636364,  3.73737374,  3.83838384,  3.93939394,\n",
       "        4.04040404,  4.14141414,  4.24242424,  4.34343434,  4.44444444,\n",
       "        4.54545455,  4.64646465,  4.74747475,  4.84848485,  4.94949495,\n",
       "        5.05050505,  5.15151515,  5.25252525,  5.35353535,  5.45454545,\n",
       "        5.55555556,  5.65656566,  5.75757576,  5.85858586,  5.95959596,\n",
       "        6.06060606,  6.16161616,  6.26262626,  6.36363636,  6.46464646,\n",
       "        6.56565657,  6.66666667,  6.76767677,  6.86868687,  6.96969697,\n",
       "        7.07070707,  7.17171717,  7.27272727,  7.37373737,  7.47474747,\n",
       "        7.57575758,  7.67676768,  7.77777778,  7.87878788,  7.97979798,\n",
       "        8.08080808,  8.18181818,  8.28282828,  8.38383838,  8.48484848,\n",
       "        8.58585859,  8.68686869,  8.78787879,  8.88888889,  8.98989899,\n",
       "        9.09090909,  9.19191919,  9.29292929,  9.39393939,  9.49494949,\n",
       "        9.5959596 ,  9.6969697 ,  9.7979798 ,  9.8989899 , 10.        ])"
      ]
     },
     "metadata": {},
     "output_type": "display_data"
    },
    {
     "data": {
      "text/plain": [
       "'array of 100 numbers b/w 0 and 10 w/ spacing of 0.02'"
      ]
     },
     "metadata": {},
     "output_type": "display_data"
    },
    {
     "data": {
      "text/plain": [
       "array([0.  , 0.02, 0.04, 0.06, 0.08, 0.1 , 0.12, 0.14, 0.16, 0.18, 0.2 ,\n",
       "       0.22, 0.24, 0.26, 0.28, 0.3 , 0.32, 0.34, 0.36, 0.38, 0.4 , 0.42,\n",
       "       0.44, 0.46, 0.48, 0.5 , 0.52, 0.54, 0.56, 0.58, 0.6 , 0.62, 0.64,\n",
       "       0.66, 0.68, 0.7 , 0.72, 0.74, 0.76, 0.78, 0.8 , 0.82, 0.84, 0.86,\n",
       "       0.88, 0.9 , 0.92, 0.94, 0.96, 0.98, 1.  , 1.02, 1.04, 1.06, 1.08,\n",
       "       1.1 , 1.12, 1.14, 1.16, 1.18, 1.2 , 1.22, 1.24, 1.26, 1.28, 1.3 ,\n",
       "       1.32, 1.34, 1.36, 1.38, 1.4 , 1.42, 1.44, 1.46, 1.48, 1.5 , 1.52,\n",
       "       1.54, 1.56, 1.58, 1.6 , 1.62, 1.64, 1.66, 1.68, 1.7 , 1.72, 1.74,\n",
       "       1.76, 1.78, 1.8 , 1.82, 1.84, 1.86, 1.88, 1.9 , 1.92, 1.94, 1.96,\n",
       "       1.98, 2.  , 2.02, 2.04, 2.06, 2.08, 2.1 , 2.12, 2.14, 2.16, 2.18,\n",
       "       2.2 , 2.22, 2.24, 2.26, 2.28, 2.3 , 2.32, 2.34, 2.36, 2.38, 2.4 ,\n",
       "       2.42, 2.44, 2.46, 2.48, 2.5 , 2.52, 2.54, 2.56, 2.58, 2.6 , 2.62,\n",
       "       2.64, 2.66, 2.68, 2.7 , 2.72, 2.74, 2.76, 2.78, 2.8 , 2.82, 2.84,\n",
       "       2.86, 2.88, 2.9 , 2.92, 2.94, 2.96, 2.98, 3.  , 3.02, 3.04, 3.06,\n",
       "       3.08, 3.1 , 3.12, 3.14, 3.16, 3.18, 3.2 , 3.22, 3.24, 3.26, 3.28,\n",
       "       3.3 , 3.32, 3.34, 3.36, 3.38, 3.4 , 3.42, 3.44, 3.46, 3.48, 3.5 ,\n",
       "       3.52, 3.54, 3.56, 3.58, 3.6 , 3.62, 3.64, 3.66, 3.68, 3.7 , 3.72,\n",
       "       3.74, 3.76, 3.78, 3.8 , 3.82, 3.84, 3.86, 3.88, 3.9 , 3.92, 3.94,\n",
       "       3.96, 3.98, 4.  , 4.02, 4.04, 4.06, 4.08, 4.1 , 4.12, 4.14, 4.16,\n",
       "       4.18, 4.2 , 4.22, 4.24, 4.26, 4.28, 4.3 , 4.32, 4.34, 4.36, 4.38,\n",
       "       4.4 , 4.42, 4.44, 4.46, 4.48, 4.5 , 4.52, 4.54, 4.56, 4.58, 4.6 ,\n",
       "       4.62, 4.64, 4.66, 4.68, 4.7 , 4.72, 4.74, 4.76, 4.78, 4.8 , 4.82,\n",
       "       4.84, 4.86, 4.88, 4.9 , 4.92, 4.94, 4.96, 4.98, 5.  , 5.02, 5.04,\n",
       "       5.06, 5.08, 5.1 , 5.12, 5.14, 5.16, 5.18, 5.2 , 5.22, 5.24, 5.26,\n",
       "       5.28, 5.3 , 5.32, 5.34, 5.36, 5.38, 5.4 , 5.42, 5.44, 5.46, 5.48,\n",
       "       5.5 , 5.52, 5.54, 5.56, 5.58, 5.6 , 5.62, 5.64, 5.66, 5.68, 5.7 ,\n",
       "       5.72, 5.74, 5.76, 5.78, 5.8 , 5.82, 5.84, 5.86, 5.88, 5.9 , 5.92,\n",
       "       5.94, 5.96, 5.98, 6.  , 6.02, 6.04, 6.06, 6.08, 6.1 , 6.12, 6.14,\n",
       "       6.16, 6.18, 6.2 , 6.22, 6.24, 6.26, 6.28, 6.3 , 6.32, 6.34, 6.36,\n",
       "       6.38, 6.4 , 6.42, 6.44, 6.46, 6.48, 6.5 , 6.52, 6.54, 6.56, 6.58,\n",
       "       6.6 , 6.62, 6.64, 6.66, 6.68, 6.7 , 6.72, 6.74, 6.76, 6.78, 6.8 ,\n",
       "       6.82, 6.84, 6.86, 6.88, 6.9 , 6.92, 6.94, 6.96, 6.98, 7.  , 7.02,\n",
       "       7.04, 7.06, 7.08, 7.1 , 7.12, 7.14, 7.16, 7.18, 7.2 , 7.22, 7.24,\n",
       "       7.26, 7.28, 7.3 , 7.32, 7.34, 7.36, 7.38, 7.4 , 7.42, 7.44, 7.46,\n",
       "       7.48, 7.5 , 7.52, 7.54, 7.56, 7.58, 7.6 , 7.62, 7.64, 7.66, 7.68,\n",
       "       7.7 , 7.72, 7.74, 7.76, 7.78, 7.8 , 7.82, 7.84, 7.86, 7.88, 7.9 ,\n",
       "       7.92, 7.94, 7.96, 7.98, 8.  , 8.02, 8.04, 8.06, 8.08, 8.1 , 8.12,\n",
       "       8.14, 8.16, 8.18, 8.2 , 8.22, 8.24, 8.26, 8.28, 8.3 , 8.32, 8.34,\n",
       "       8.36, 8.38, 8.4 , 8.42, 8.44, 8.46, 8.48, 8.5 , 8.52, 8.54, 8.56,\n",
       "       8.58, 8.6 , 8.62, 8.64, 8.66, 8.68, 8.7 , 8.72, 8.74, 8.76, 8.78,\n",
       "       8.8 , 8.82, 8.84, 8.86, 8.88, 8.9 , 8.92, 8.94, 8.96, 8.98, 9.  ,\n",
       "       9.02, 9.04, 9.06, 9.08, 9.1 , 9.12, 9.14, 9.16, 9.18, 9.2 , 9.22,\n",
       "       9.24, 9.26, 9.28, 9.3 , 9.32, 9.34, 9.36, 9.38, 9.4 , 9.42, 9.44,\n",
       "       9.46, 9.48, 9.5 , 9.52, 9.54, 9.56, 9.58, 9.6 , 9.62, 9.64, 9.66,\n",
       "       9.68, 9.7 , 9.72, 9.74, 9.76, 9.78, 9.8 , 9.82, 9.84, 9.86, 9.88,\n",
       "       9.9 , 9.92, 9.94, 9.96, 9.98])"
      ]
     },
     "metadata": {},
     "output_type": "display_data"
    }
   ],
   "source": [
    "A1=np.array([3,5,7,4]) \n",
    "A2=np.zeros(10)  #1D array with 10 zeros\n",
    "A3=np.ones(10)   #1D array with 10 ones\n",
    "A4=np.random.random(10)  #10 random numbers b/w 0 and 1\n",
    "A5=np.random.randn(10) # randn= random normal numbers= mean is 0 and SD is 1\n",
    "A6=np.linspace(0,10,100) # divide the line from 0 to 10 into 100 numbers (linearly spaced numbers) \n",
    "A7=np.arange(0,10,0.02) # going from 0 to 10 w/ spacing of 0.02 (arange(start,end,stepsize))\n",
    "display(\"array of 4 numbers\",A1,\"array of 10 zeros\",A2,\"array of 10 ones\",A3,\"array of 10 random numbers\",A4)\n",
    "display(\"array of 10 random numbers distributed acc. to gaussian of mean=0 and SD=1 \",A5)\n",
    "display(\"array of equally spaced 100 numbers b/w 0 and 10\",A6)\n",
    "display(\"array of 100 numbers b/w 0 and 10 w/ spacing of 0.02\",A7)"
   ]
  },
  {
   "cell_type": "markdown",
   "metadata": {},
   "source": [
    "## 1.3 Diagonal Matrix manipulations\n",
    "- `np.diag(1D array,position of diag by default set to 0)`\n",
    "- `np.diag(2D array,0 by default)` : returns the main(center) diagonal of a 2D matrix\\\n",
    "- `np.diag(array,1)` : 1st off diag above the main diag and so on can put any number in the 2nd arg\n",
    "- `np.diag()`: Only works with 1D or 2D\n",
    "-  np.diag([1,1,1,1]) $\\equiv$ np.identity(4)"
   ]
  },
  {
   "cell_type": "code",
   "execution_count": 398,
   "metadata": {},
   "outputs": [
    {
     "data": {
      "text/plain": [
       "'Euclidean matrix'"
      ]
     },
     "metadata": {},
     "output_type": "display_data"
    },
    {
     "data": {
      "text/plain": [
       "array([[1, 0, 0, 0],\n",
       "       [0, 1, 0, 0],\n",
       "       [0, 0, 1, 0],\n",
       "       [0, 0, 0, 1]])"
      ]
     },
     "metadata": {},
     "output_type": "display_data"
    },
    {
     "data": {
      "text/plain": [
       "'diagonal matrix'"
      ]
     },
     "metadata": {},
     "output_type": "display_data"
    },
    {
     "data": {
      "text/plain": [
       "array([[1, 0, 0, 0],\n",
       "       [0, 2, 0, 0],\n",
       "       [0, 0, 3, 0],\n",
       "       [0, 0, 0, 4]])"
      ]
     },
     "metadata": {},
     "output_type": "display_data"
    },
    {
     "data": {
      "text/plain": [
       "'minkowski matrix'"
      ]
     },
     "metadata": {},
     "output_type": "display_data"
    },
    {
     "data": {
      "text/plain": [
       "array([[ 1,  0,  0,  0],\n",
       "       [ 0, -1,  0,  0],\n",
       "       [ 0,  0, -1,  0],\n",
       "       [ 0,  0,  0, -1]])"
      ]
     },
     "metadata": {},
     "output_type": "display_data"
    },
    {
     "data": {
      "text/plain": [
       "'given 2D array'"
      ]
     },
     "metadata": {},
     "output_type": "display_data"
    },
    {
     "data": {
      "text/plain": [
       "array([[1, 2, 6],\n",
       "       [3, 4, 8],\n",
       "       [6, 7, 8]])"
      ]
     },
     "metadata": {},
     "output_type": "display_data"
    },
    {
     "data": {
      "text/plain": [
       "'main diagonal '"
      ]
     },
     "metadata": {},
     "output_type": "display_data"
    },
    {
     "data": {
      "text/plain": [
       "array([1, 4, 8])"
      ]
     },
     "metadata": {},
     "output_type": "display_data"
    },
    {
     "data": {
      "text/plain": [
       "'1st off diagonal '"
      ]
     },
     "metadata": {},
     "output_type": "display_data"
    },
    {
     "data": {
      "text/plain": [
       "array([2, 8])"
      ]
     },
     "metadata": {},
     "output_type": "display_data"
    }
   ],
   "source": [
    "dia1=np.diag([1,1,1,1])   # the same as  np.identity(4)\n",
    "display(\"Euclidean matrix\",dia1)\n",
    "dia2=np.diag([1,2,3,4])   # the same as \n",
    "display(\"diagonal matrix\",dia2)\n",
    "dia3=np.diag([1,-1,-1,-1])  # minkowski matrix \n",
    "display(\"minkowski matrix\",dia3)\n",
    "mat1=np.array([[1,2,6],[3,4,8],[6,7,8]])  #2D array \n",
    "display(\"given 2D array\",mat1)\n",
    "display(\"main diagonal \",np.diag(mat1))\n",
    "display(\"1st off diagonal \",np.diag(mat1,1))\n"
   ]
  },
  {
   "cell_type": "markdown",
   "metadata": {},
   "source": [
    "# 2. Array Operations"
   ]
  },
  {
   "cell_type": "code",
   "execution_count": 399,
   "metadata": {},
   "outputs": [
    {
     "name": "stdout",
     "output_type": "stream",
     "text": [
      "List to an array conversion: [ 4  8 15 16 23 42]\n",
      "<class 'numpy.ndarray'>\n",
      "0th element of the array 4\n",
      "last element of the array(-1): 42\n",
      "3rd value in Array changed: [ 4  8 50 16 23 42]\n",
      "1st 10 numbers: [ 0  1  2  3  4  5  6  7  8  9 10]\n",
      "numbers b/w 15-20: [15 16 17 18 19 20]\n",
      "numbers b/w 15-20 with spacing of 2: [15 17 19]\n"
     ]
    }
   ],
   "source": [
    "#Creation of np Array from a list\n",
    "list1=[4,8,15,16,23,42]\n",
    "array1=np.array(list1)\n",
    "print(\"List to an array conversion:\",array1)\n",
    "print(type(array1))\n",
    "print(\"0th element of the array\",array1[0])\n",
    "print(\"last element of the array(-1):\",array1[-1])\n",
    "array1[2]=50 # setting values\n",
    "print(\"3rd value in Array changed:\",array1)\n",
    "\n",
    "#creation of vectors with np.arange()\n",
    "list2=np.arange(11) #11 not included\n",
    "print(\"1st 10 numbers:\",list2)  # no need to write a list for this: there is a built in function \n",
    "list3=np.arange(15,21)  # can give range also:21 not included\n",
    "print(\"numbers b/w 15-20:\",list3)\n",
    "list4=np.arange(15,21,2)   # number of steps=2 \n",
    "print(\"numbers b/w 15-20 with spacing of 2:\",list4)\n"
   ]
  },
  {
   "cell_type": "code",
   "execution_count": 400,
   "metadata": {},
   "outputs": [
    {
     "name": "stdout",
     "output_type": "stream",
     "text": [
      "a1 = [1 2 3 4]\n",
      "a2 = [6 8 3 2]\n",
      "a1+a2 = [ 7 10  6  6]\n",
      "l1= [1, 2] \n",
      "l2= [3, 4] \n",
      "l1+l2= [1, 2, 3, 4] JUST CONCATENATION OF STRINGS/NOT ADDITION\n",
      "a1/a2:component wise division = [0.16666667 0.25       1.         2.        ]\n",
      "a1/a2:rounding of numbers =  [0.17 0.25 1.   2.  ]\n"
     ]
    }
   ],
   "source": [
    "arr1=np.arange(1,5)\n",
    "arr2=np.array([6,8,3,2])\n",
    "add=arr1+arr2\n",
    "print(\"a1 =\",arr1)\n",
    "print('a2 =',arr2)\n",
    "print(\"a1+a2 =\",add)\n",
    "l1=[1,2]\n",
    "l2=[3,4]\n",
    "print(\"l1=\",l1,\"\\nl2=\",l2,'\\nl1+l2=',l1+l2,\"JUST CONCATENATION OF STRINGS/NOT ADDITION\") \n",
    "div=arr1/arr2\n",
    "print(\"a1/a2:component wise division =\",div)\n",
    "print(\"a1/a2:rounding of numbers = \",np.around(div,2))  #round() won't work use around(var,# of decimals) for array rounding\n",
    " "
   ]
  },
  {
   "cell_type": "code",
   "execution_count": 401,
   "metadata": {},
   "outputs": [
    {
     "data": {
      "text/plain": [
       "array([3, 5, 7, 4])"
      ]
     },
     "metadata": {},
     "output_type": "display_data"
    },
    {
     "data": {
      "text/plain": [
       "array([ 6, 10, 14,  8])"
      ]
     },
     "metadata": {},
     "output_type": "display_data"
    },
    {
     "data": {
      "text/plain": [
       "array([0.33333333, 0.2       , 0.14285714, 0.25      ])"
      ]
     },
     "metadata": {},
     "output_type": "display_data"
    },
    {
     "data": {
      "text/plain": [
       "array([False,  True,  True, False])"
      ]
     },
     "metadata": {},
     "output_type": "display_data"
    },
    {
     "data": {
      "text/plain": [
       "'numbers in A1>4'"
      ]
     },
     "metadata": {},
     "output_type": "display_data"
    },
    {
     "data": {
      "text/plain": [
       "array([5, 7])"
      ]
     },
     "metadata": {},
     "output_type": "display_data"
    },
    {
     "data": {
      "text/plain": [
       "array([5.33333333, 7.2       , 9.14285714, 6.25      ])"
      ]
     },
     "metadata": {},
     "output_type": "display_data"
    }
   ],
   "source": [
    "display(A1)\n",
    "display(2*A1)  #broadcasting: stretching the size of a number to make it an array and performig operations with an array\n",
    "display(1/A1)  # component wise division\n",
    "display(A1>4)\n",
    "display(\"numbers in A1>4\",A1[A1>4])\n",
    "display(1/A1 + A1 + 2) # component wise calculation of 1/x+x^2+2\n",
    "\n"
   ]
  },
  {
   "cell_type": "markdown",
   "metadata": {},
   "source": [
    "## 2.1 universal functions\n",
    "- those that operate on the entire array element by element"
   ]
  },
  {
   "cell_type": "code",
   "execution_count": 402,
   "metadata": {},
   "outputs": [
    {
     "data": {
      "text/plain": [
       "'Vector V1:'"
      ]
     },
     "metadata": {},
     "output_type": "display_data"
    },
    {
     "data": {
      "text/plain": [
       "array([1, 2, 3, 4])"
      ]
     },
     "metadata": {},
     "output_type": "display_data"
    },
    {
     "data": {
      "text/latex": [
       "$\\displaystyle e^{V_{1}} \\hspace{0.2cm} is$"
      ],
      "text/plain": [
       "<IPython.core.display.Math object>"
      ]
     },
     "metadata": {},
     "output_type": "display_data"
    },
    {
     "data": {
      "text/plain": [
       "array([ 2.71828183,  7.3890561 , 20.08553692, 54.59815003])"
      ]
     },
     "metadata": {},
     "output_type": "display_data"
    },
    {
     "data": {
      "text/latex": [
       "$\\displaystyle \\cos(\\pi V_{1}) \\hspace{0.2cm} is$"
      ],
      "text/plain": [
       "<IPython.core.display.Math object>"
      ]
     },
     "metadata": {},
     "output_type": "display_data"
    },
    {
     "data": {
      "text/plain": [
       "array([-1.,  1., -1.,  1.])"
      ]
     },
     "metadata": {},
     "output_type": "display_data"
    },
    {
     "data": {
      "text/latex": [
       "$\\displaystyle \\log(eV_{1}) \\hspace{0.2cm} is$"
      ],
      "text/plain": [
       "<IPython.core.display.Math object>"
      ]
     },
     "metadata": {},
     "output_type": "display_data"
    },
    {
     "data": {
      "text/plain": [
       "array([1.        , 1.69314718, 2.09861229, 2.38629436])"
      ]
     },
     "metadata": {},
     "output_type": "display_data"
    }
   ],
   "source": [
    "vector=np.arange(1,5)\n",
    "display(\"Vector V1:\",vector)\n",
    "display(Math(r'e^{V_{1}} \\hspace{0.2cm} is'),np.exp(vector))\n",
    "display(Math(r'\\cos(\\pi V_{1}) \\hspace{0.2cm} is'),np.cos(np.pi*vector))\n",
    "display(Math(r'\\log(eV_{1}) \\hspace{0.2cm} is'),np.log(np.e*vector))"
   ]
  },
  {
   "cell_type": "code",
   "execution_count": null,
   "metadata": {},
   "outputs": [],
   "source": []
  },
  {
   "cell_type": "markdown",
   "metadata": {},
   "source": [
    "## 2.2 Broadcasting\n",
    "to perform the matrix operations on matrix of different sizes and shapes\n",
    "\n",
    "**Broadcasting rules**(Where is it possible and where not)\n",
    "\n",
    "- **Rule 1:** if the 2 arrays differ in their number of dimensions,the shape of one with fewer dimension is padded with ones on its leading side(LEFT)\n",
    "- **Rule 2:** if the shape of 2 doesn't match in any dimension,the array with shape=1 is stretched to match the other shape\n",
    "- **Rule 3:** if in any dimension sizes disagree and neither=1 $\\implies$ ERROR"
   ]
  },
  {
   "cell_type": "code",
   "execution_count": 403,
   "metadata": {},
   "outputs": [
    {
     "data": {
      "text/plain": [
       "\"a1+a2 can't be broadcasted\""
      ]
     },
     "metadata": {},
     "output_type": "display_data"
    }
   ],
   "source": [
    "#Example 1\n",
    "a1=np.array([1,2,3])  # dim=1 and size=3 \n",
    "a2=np.array([4,5,6,7])  # dim=1 and size=4  => dim same and size differ => error/broadcasting can't be done (rule 3)\n",
    "display(\"a1+a2 can't be broadcasted\")"
   ]
  },
  {
   "cell_type": "code",
   "execution_count": 404,
   "metadata": {},
   "outputs": [
    {
     "data": {
      "text/plain": [
       "'a3 shape is :'"
      ]
     },
     "metadata": {},
     "output_type": "display_data"
    },
    {
     "data": {
      "image/png": "[encoded data removed]",
      "text/latex": [
       "$\\displaystyle \\left( 3, \\  2\\right)$"
      ],
      "text/plain": [
       "(3, 2)"
      ]
     },
     "metadata": {},
     "output_type": "display_data"
    },
    {
     "data": {
      "text/plain": [
       "'a4 shape is:'"
      ]
     },
     "metadata": {},
     "output_type": "display_data"
    },
    {
     "data": {
      "image/png": "[encoded data removed]",
      "text/latex": [
       "$\\displaystyle \\left( 2,\\right)$"
      ],
      "text/plain": [
       "(2,)"
      ]
     },
     "metadata": {},
     "output_type": "display_data"
    },
    {
     "data": {
      "text/plain": [
       "'a3+a4 (can be broadcasted)'"
      ]
     },
     "metadata": {},
     "output_type": "display_data"
    },
    {
     "data": {
      "text/plain": [
       "array([[11, 22],\n",
       "       [13, 24],\n",
       "       [15, 26]])"
      ]
     },
     "metadata": {},
     "output_type": "display_data"
    }
   ],
   "source": [
    "#example 2\n",
    "a3=np.array([[1,2],[3,4],[5,6]]) #dim=2 and shape=(3,2) size=3\n",
    "a4=np.array([10,20])       #dim=1 and shape =(2,) => dim differ(rule 1)=> Make shape=(1,2)=> size=2 :compare from trailing end(RHS): val=2 in both and broadcast rules apply move to next (3 and 1) size doesn't match but one dim=1 rules applied\n",
    "display(\"a3 shape is :\",a3.shape)\n",
    "display(\"a4 shape is:\",a4.shape) \n",
    "display(\"a3+a4 (can be broadcasted)\",a3+a4)\n"
   ]
  },
  {
   "cell_type": "code",
   "execution_count": 405,
   "metadata": {},
   "outputs": [
    {
     "data": {
      "text/plain": [
       "\"a3+a5 can't be broadcasted\""
      ]
     },
     "metadata": {},
     "output_type": "display_data"
    }
   ],
   "source": [
    "#example 3\n",
    "#a3 has dim=2 and size=4,shape=(3,2)\n",
    "a5=np.array([1,2,3]) #dim=1, size=3,shape= (3,) rule 2=> add 1 to the LHS on shape (1,3)=> one of them has val=2 and one of them val=3 => rules don't apply\n",
    "display(\"a3+a5 can't be broadcasted\")\n"
   ]
  },
  {
   "cell_type": "code",
   "execution_count": 406,
   "metadata": {},
   "outputs": [
    {
     "data": {
      "text/plain": [
       "\"A1+A2 can't be broadcasted \""
      ]
     },
     "metadata": {},
     "output_type": "display_data"
    }
   ],
   "source": [
    "#example 4:\n",
    "A1=np.array([[1,2],[3,4],[5,6]])  #dim=2 shape=(3,2)\n",
    "A2=np.array([[10,20],[30,40]])   #dim=2 shape=(2,2)\n",
    "display(\"A1+A2 can't be broadcasted \")   #1st val from RHS matches in both but the 2nd values are 3 and 2 and not the same or 1=> no broadcast\n"
   ]
  },
  {
   "cell_type": "code",
   "execution_count": 407,
   "metadata": {},
   "outputs": [
    {
     "data": {
      "text/plain": [
       "'b1+b2(can be broadcasted)'"
      ]
     },
     "metadata": {},
     "output_type": "display_data"
    },
    {
     "data": {
      "text/plain": [
       "array([[2, 3, 4],\n",
       "       [3, 4, 5],\n",
       "       [4, 5, 6]])"
      ]
     },
     "metadata": {},
     "output_type": "display_data"
    }
   ],
   "source": [
    "#example 5:\n",
    "b1=np.array([1,2,3])  #dim=1, shape=(3,)=> stretch it's shape to (1,3) \n",
    "b2=np.array([[1],[2],[3]]) #dim=2 shape=(3,1)  : its 1st value comparision is 3 and 1 and one of them is 1=> rules apply=> broadcast\n",
    "display(\"b1+b2(can be broadcasted)\",b1+b2)"
   ]
  },
  {
   "cell_type": "markdown",
   "metadata": {},
   "source": [
    "## 2.3 Reshape and resize an array\n",
    "- `reshape(array,shape,order)` : there are 2 types of orders, namely, 'C' $\\implies$ row-wise order (by default) and 'F' $\\implies$ coulmn-wise\n",
    "- size= # of elements in the matrix\n",
    "- size(array)=size(reshaped array)\n",
    "- `resize(array,shape)`: if newsize>oldsize $\\implies$ elements start to repeat from the beginning"
   ]
  },
  {
   "cell_type": "code",
   "execution_count": 408,
   "metadata": {},
   "outputs": [
    {
     "data": {
      "text/plain": [
       "'1D array of 10 numbers '"
      ]
     },
     "metadata": {},
     "output_type": "display_data"
    },
    {
     "data": {
      "text/plain": [
       "array([0, 1, 2, 3, 4, 5, 6, 7, 8, 9])"
      ]
     },
     "metadata": {},
     "output_type": "display_data"
    },
    {
     "data": {
      "text/plain": [
       "'reshape into 5x2'"
      ]
     },
     "metadata": {},
     "output_type": "display_data"
    },
    {
     "data": {
      "text/plain": [
       "array([[0, 1],\n",
       "       [2, 3],\n",
       "       [4, 5],\n",
       "       [6, 7],\n",
       "       [8, 9]])"
      ]
     },
     "metadata": {},
     "output_type": "display_data"
    },
    {
     "data": {
      "text/plain": [
       "'shape of reshaped array:'"
      ]
     },
     "metadata": {},
     "output_type": "display_data"
    },
    {
     "data": {
      "image/png": "[encoded data removed]",
      "text/latex": [
       "$\\displaystyle \\left( 5, \\  2\\right)$"
      ],
      "text/plain": [
       "(5, 2)"
      ]
     },
     "metadata": {},
     "output_type": "display_data"
    },
    {
     "data": {
      "text/plain": [
       "'reshape array column-wise'"
      ]
     },
     "metadata": {},
     "output_type": "display_data"
    },
    {
     "data": {
      "text/plain": [
       "array([[0, 5],\n",
       "       [1, 6],\n",
       "       [2, 7],\n",
       "       [3, 8],\n",
       "       [4, 9]])"
      ]
     },
     "metadata": {},
     "output_type": "display_data"
    },
    {
     "data": {
      "text/plain": [
       "'1D array reshaped into 4x3'"
      ]
     },
     "metadata": {},
     "output_type": "display_data"
    },
    {
     "data": {
      "text/plain": [
       "array([[0, 1, 2],\n",
       "       [3, 4, 5],\n",
       "       [6, 7, 8],\n",
       "       [9, 0, 1]])"
      ]
     },
     "metadata": {},
     "output_type": "display_data"
    }
   ],
   "source": [
    "b1=np.arange(10)\n",
    "display(\"1D array of 10 numbers \",b1)\n",
    "b2=b1.reshape(5,2) # by default the order is row wise(order='C')\n",
    "display(\"reshape into 5x2\",b2)\n",
    "display(\"shape of reshaped array:\",b2.shape)\n",
    "b3=b1.reshape(5,2,order='F')\n",
    "display(\"reshape array column-wise\",b3)\n",
    "b4=np.resize(b1,(4,3))  #it changes the size and starts repeating the values from the beginning\n",
    "display(\"1D array reshaped into 4x3\",b4)\n"
   ]
  },
  {
   "cell_type": "markdown",
   "metadata": {},
   "source": [
    "## 2.4 Flatenning arrays\n",
    "- `.flatten(order)` : returns a copy of array collapsed into 1D\\\n",
    "> orders can be:\n",
    "> - C  : row order (C style)\n",
    "> - F  : column order(Fortran style)\n",
    "\n",
    "- `.flatten()` is a method of ndarray object not a library function"
   ]
  },
  {
   "cell_type": "code",
   "execution_count": 409,
   "metadata": {},
   "outputs": [
    {
     "data": {
      "text/plain": [
       "'given a 3D array'"
      ]
     },
     "metadata": {},
     "output_type": "display_data"
    },
    {
     "data": {
      "text/plain": [
       "array([[[ 1,  2,  3],\n",
       "        [ 3,  4,  5],\n",
       "        [ 6,  7,  8],\n",
       "        [ 9, 10, 11]]])"
      ]
     },
     "metadata": {},
     "output_type": "display_data"
    },
    {
     "data": {
      "text/plain": [
       "'flattened array(row wise)'"
      ]
     },
     "metadata": {},
     "output_type": "display_data"
    },
    {
     "data": {
      "text/plain": [
       "array([ 1,  2,  3,  3,  4,  5,  6,  7,  8,  9, 10, 11])"
      ]
     },
     "metadata": {},
     "output_type": "display_data"
    },
    {
     "data": {
      "text/plain": [
       "'flattened array(column-wise)'"
      ]
     },
     "metadata": {},
     "output_type": "display_data"
    },
    {
     "data": {
      "text/plain": [
       "array([ 1,  3,  6,  9,  2,  4,  7, 10,  3,  5,  8, 11])"
      ]
     },
     "metadata": {},
     "output_type": "display_data"
    }
   ],
   "source": [
    "b5= np.array([[[1,2,3],[3,4,5],[6,7,8],[9,10,11]]])  # tip: 3 [] means 3d array \n",
    "display(\"given a 3D array\",b5)\n",
    "display('flattened array(row wise)',b5.flatten('C'))\n",
    "display('flattened array(column-wise)',b5.flatten('F'))"
   ]
  },
  {
   "cell_type": "markdown",
   "metadata": {},
   "source": [
    "> `.ravel()` : returns a view(orig changed) of array collapsed into 1D\n",
    "> \n",
    ">  it is a numpy library level function"
   ]
  },
  {
   "cell_type": "code",
   "execution_count": 410,
   "metadata": {},
   "outputs": [
    {
     "data": {
      "text/plain": [
       "'given 2D array'"
      ]
     },
     "metadata": {},
     "output_type": "display_data"
    },
    {
     "data": {
      "text/plain": [
       "array([[10, 20],\n",
       "       [30, 40]])"
      ]
     },
     "metadata": {},
     "output_type": "display_data"
    },
    {
     "data": {
      "text/plain": [
       "'unravel it '"
      ]
     },
     "metadata": {},
     "output_type": "display_data"
    },
    {
     "data": {
      "text/plain": [
       "array([10, 20, 30, 40])"
      ]
     },
     "metadata": {},
     "output_type": "display_data"
    },
    {
     "data": {
      "text/plain": [
       "'unravel it(column wise'"
      ]
     },
     "metadata": {},
     "output_type": "display_data"
    },
    {
     "data": {
      "text/plain": [
       "array([10, 30, 20, 40])"
      ]
     },
     "metadata": {},
     "output_type": "display_data"
    }
   ],
   "source": [
    "b6=np.array([[10,20],[30,40]])\n",
    "display(\"given 2D array\",b6)\n",
    "display(\"unravel it \",b6.ravel())\n",
    "display(\"unravel it(column wise\",b6.ravel(order='F'))"
   ]
  },
  {
   "cell_type": "markdown",
   "metadata": {},
   "source": [
    "## 2.5 Copy/View (using reshape and copy)"
   ]
  },
  {
   "cell_type": "markdown",
   "metadata": {},
   "source": [
    "### 2.5.1 Check basic attributes of arrays\n",
    "- `ndim`,`shape`,`size`"
   ]
  },
  {
   "cell_type": "code",
   "execution_count": 411,
   "metadata": {},
   "outputs": [
    {
     "data": {
      "text/plain": [
       "'the dimension of the array:'"
      ]
     },
     "metadata": {},
     "output_type": "display_data"
    },
    {
     "data": {
      "image/png": "[encoded data removed]",
      "text/latex": [
       "$\\displaystyle 2$"
      ],
      "text/plain": [
       "2"
      ]
     },
     "metadata": {},
     "output_type": "display_data"
    },
    {
     "data": {
      "text/plain": [
       "'the number of entries in array'"
      ]
     },
     "metadata": {},
     "output_type": "display_data"
    },
    {
     "data": {
      "image/png": "[encoded data removed]",
      "text/latex": [
       "$\\displaystyle 6$"
      ],
      "text/plain": [
       "6"
      ]
     },
     "metadata": {},
     "output_type": "display_data"
    },
    {
     "data": {
      "text/plain": [
       "'(Rows,Columns)= '"
      ]
     },
     "metadata": {},
     "output_type": "display_data"
    },
    {
     "data": {
      "image/png": "[encoded data removed]",
      "text/latex": [
       "$\\displaystyle \\left( 3, \\  2\\right)$"
      ],
      "text/plain": [
       "(3, 2)"
      ]
     },
     "metadata": {},
     "output_type": "display_data"
    },
    {
     "data": {
      "text/plain": [
       "'shape of the vector V1(not work)'"
      ]
     },
     "metadata": {},
     "output_type": "display_data"
    },
    {
     "data": {
      "image/png": "[encoded data removed]",
      "text/latex": [
       "$\\displaystyle \\left( 5,\\right)$"
      ],
      "text/plain": [
       "(5,)"
      ]
     },
     "metadata": {},
     "output_type": "display_data"
    },
    {
     "data": {
      "text/plain": [
       "'vector V1:'"
      ]
     },
     "metadata": {},
     "output_type": "display_data"
    },
    {
     "data": {
      "text/plain": [
       "array([ 1,  3,  6,  9, 11])"
      ]
     },
     "metadata": {},
     "output_type": "display_data"
    },
    {
     "data": {
      "text/plain": [
       "'V1 converted into a row matrix'"
      ]
     },
     "metadata": {},
     "output_type": "display_data"
    },
    {
     "data": {
      "text/plain": [
       "array([[ 1,  3,  6,  9, 11]])"
      ]
     },
     "metadata": {},
     "output_type": "display_data"
    },
    {
     "data": {
      "text/plain": [
       "'V1 row has shape:'"
      ]
     },
     "metadata": {},
     "output_type": "display_data"
    },
    {
     "data": {
      "image/png": "[encoded data removed]",
      "text/latex": [
       "$\\displaystyle \\left( 1, \\  5\\right)$"
      ],
      "text/plain": [
       "(1, 5)"
      ]
     },
     "metadata": {},
     "output_type": "display_data"
    },
    {
     "data": {
      "text/plain": [
       "'V1 converted into a column matrix'"
      ]
     },
     "metadata": {},
     "output_type": "display_data"
    },
    {
     "data": {
      "text/plain": [
       "array([[ 1],\n",
       "       [ 3],\n",
       "       [ 6],\n",
       "       [ 9],\n",
       "       [11]])"
      ]
     },
     "metadata": {},
     "output_type": "display_data"
    },
    {
     "data": {
      "text/plain": [
       "'V1 column has shape:'"
      ]
     },
     "metadata": {},
     "output_type": "display_data"
    },
    {
     "data": {
      "image/png": "[encoded data removed]",
      "text/latex": [
       "$\\displaystyle \\left( 5, \\  1\\right)$"
      ],
      "text/plain": [
       "(5, 1)"
      ]
     },
     "metadata": {},
     "output_type": "display_data"
    }
   ],
   "source": [
    "V1=np.array([1,3,6,9,11])\n",
    "M1=np.array([[1,2],[2,4],[1,5]])\n",
    "display(\"the dimension of the array:\",M1.ndim) \n",
    "display(\"the number of entries in array\",M1.size)\n",
    "display(\"(Rows,Columns)= \",M1.shape)  #tuple doesnt support assignment\n",
    "display(\"shape of the vector V1(not work)\",V1.shape) \n",
    "display('vector V1:',V1)\n",
    "# convert it into 1x5 matrix\n",
    "V1_row=V1[np.newaxis,:]\n",
    "display(\"V1 converted into a row matrix\",V1_row)\n",
    "display(\"V1 row has shape:\",V1_row.shape)\n",
    "V1_col=V1[:,np.newaxis]\n",
    "display(\"V1 converted into a column matrix\",V1_col)\n",
    "display(\"V1 column has shape:\",V1_col.shape)"
   ]
  },
  {
   "cell_type": "markdown",
   "metadata": {},
   "source": [
    "### 2.5.2 View by `reshape` and copy "
   ]
  },
  {
   "cell_type": "code",
   "execution_count": 412,
   "metadata": {},
   "outputs": [
    {
     "data": {
      "text/plain": [
       "'numbers from 1 to 100'"
      ]
     },
     "metadata": {},
     "output_type": "display_data"
    },
    {
     "data": {
      "text/plain": [
       "array([  1,   2,   3,   4,   5,   6,   7,   8,   9,  10,  11,  12,  13,\n",
       "        14,  15,  16,  17,  18,  19,  20,  21,  22,  23,  24,  25,  26,\n",
       "        27,  28,  29,  30,  31,  32,  33,  34,  35,  36,  37,  38,  39,\n",
       "        40,  41,  42,  43,  44,  45,  46,  47,  48,  49,  50,  51,  52,\n",
       "        53,  54,  55,  56,  57,  58,  59,  60,  61,  62,  63,  64,  65,\n",
       "        66,  67,  68,  69,  70,  71,  72,  73,  74,  75,  76,  77,  78,\n",
       "        79,  80,  81,  82,  83,  84,  85,  86,  87,  88,  89,  90,  91,\n",
       "        92,  93,  94,  95,  96,  97,  98,  99, 100])"
      ]
     },
     "metadata": {},
     "output_type": "display_data"
    },
    {
     "data": {
      "text/plain": [
       "'numbers from 1-100 in 10x10 grid'"
      ]
     },
     "metadata": {},
     "output_type": "display_data"
    },
    {
     "data": {
      "text/plain": [
       "array([[  1,   2,   3,   4,   5,   6,   7,   8,   9,  10],\n",
       "       [ 11,  12,  13,  14,  15,  16,  17,  18,  19,  20],\n",
       "       [ 21,  22,  23,  24,  25,  26,  27,  28,  29,  30],\n",
       "       [ 31,  32,  33,  34,  35,  36,  37,  38,  39,  40],\n",
       "       [ 41,  42,  43,  44,  45,  46,  47,  48,  49,  50],\n",
       "       [ 51,  52,  53,  54,  55,  56,  57,  58,  59,  60],\n",
       "       [ 61,  62,  63,  64,  65,  66,  67,  68,  69,  70],\n",
       "       [ 71,  72,  73,  74,  75,  76,  77,  78,  79,  80],\n",
       "       [ 81,  82,  83,  84,  85,  86,  87,  88,  89,  90],\n",
       "       [ 91,  92,  93,  94,  95,  96,  97,  98,  99, 100]])"
      ]
     },
     "metadata": {},
     "output_type": "display_data"
    },
    {
     "data": {
      "text/plain": [
       "'(Rows,column) = '"
      ]
     },
     "metadata": {},
     "output_type": "display_data"
    },
    {
     "data": {
      "image/png": "[encoded data removed]",
      "text/latex": [
       "$\\displaystyle \\left( 10, \\  10\\right)$"
      ],
      "text/plain": [
       "(10, 10)"
      ]
     },
     "metadata": {},
     "output_type": "display_data"
    },
    {
     "data": {
      "text/plain": [
       "'orig number array w/ (0,0) entry changed to -20 '"
      ]
     },
     "metadata": {},
     "output_type": "display_data"
    },
    {
     "data": {
      "text/plain": [
       "array([-20,   2,   3,   4,   5,   6,   7,   8,   9,  10,  11,  12,  13,\n",
       "        14,  15,  16,  17,  18,  19,  20,  21,  22,  23,  24,  25,  26,\n",
       "        27,  28,  29,  30,  31,  32,  33,  34,  35,  36,  37,  38,  39,\n",
       "        40,  41,  42,  43,  44,  45,  46,  47,  48,  49,  50,  51,  52,\n",
       "        53,  54,  55,  56,  57,  58,  59,  60,  61,  62,  63,  64,  65,\n",
       "        66,  67,  68,  69,  70,  71,  72,  73,  74,  75,  76,  77,  78,\n",
       "        79,  80,  81,  82,  83,  84,  85,  86,  87,  88,  89,  90,  91,\n",
       "        92,  93,  94,  95,  96,  97,  98,  99, 100])"
      ]
     },
     "metadata": {},
     "output_type": "display_data"
    },
    {
     "data": {
      "text/plain": [
       "'50x2 matrix reshaped:'"
      ]
     },
     "metadata": {},
     "output_type": "display_data"
    },
    {
     "data": {
      "text/plain": [
       "array([[-20,   2],\n",
       "       [  3,   4],\n",
       "       [  5,   6],\n",
       "       [  7,   8],\n",
       "       [  9,  10],\n",
       "       [ 11,  12],\n",
       "       [ 13,  14],\n",
       "       [ 15,  16],\n",
       "       [ 17,  18],\n",
       "       [ 19,  20],\n",
       "       [ 21,  22],\n",
       "       [ 23,  24],\n",
       "       [ 25,  26],\n",
       "       [ 27,  28],\n",
       "       [ 29,  30],\n",
       "       [ 31,  32],\n",
       "       [ 33,  34],\n",
       "       [ 35,  36],\n",
       "       [ 37,  38],\n",
       "       [ 39,  40],\n",
       "       [ 41,  42],\n",
       "       [ 43,  44],\n",
       "       [ 45,  46],\n",
       "       [ 47,  48],\n",
       "       [ 49,  50],\n",
       "       [ 51,  52],\n",
       "       [ 53,  54],\n",
       "       [ 55,  56],\n",
       "       [ 57,  58],\n",
       "       [ 59,  60],\n",
       "       [ 61,  62],\n",
       "       [ 63,  64],\n",
       "       [ 65,  66],\n",
       "       [ 67,  68],\n",
       "       [ 69,  70],\n",
       "       [ 71,  72],\n",
       "       [ 73,  74],\n",
       "       [ 75,  76],\n",
       "       [ 77,  78],\n",
       "       [ 79,  80],\n",
       "       [ 81,  82],\n",
       "       [ 83,  84],\n",
       "       [ 85,  86],\n",
       "       [ 87,  88],\n",
       "       [ 89,  90],\n",
       "       [ 91,  92],\n",
       "       [ 93,  94],\n",
       "       [ 95,  96],\n",
       "       [ 97,  98],\n",
       "       [ 99, 100]])"
      ]
     },
     "metadata": {},
     "output_type": "display_data"
    }
   ],
   "source": [
    "num=np.arange(1,101)\n",
    "display(\"numbers from 1 to 100\",num)\n",
    "matrix=num.reshape(10,10) # Reshape() creates a View (Orig modified)\n",
    "display(\"numbers from 1-100 in 10x10 grid\",matrix)\n",
    "display(\"(Rows,column) = \",matrix.shape)\n",
    "matrix[0,0]=-20\n",
    "display(\"orig number array w/ (0,0) entry changed to -20 \",num)\n",
    "#matrix.reshape(50,2)  # to create 100 entries you need 2 columns(TOO MUCH CALCULATION!!)\n",
    "display(\"50x2 matrix reshaped:\",matrix.reshape(50,-1))  # put in 50 rows and let python figure out # of columns to make 100 entries\n"
   ]
  },
  {
   "cell_type": "code",
   "execution_count": 413,
   "metadata": {},
   "outputs": [
    {
     "data": {
      "text/plain": [
       "array([-20,   2,   3,   4,   5,   6,   7,   8,   9,  10,  11,  12,  13,\n",
       "        14,  15,  16,  17,  18,  19,  20,  21,  22,  23,  24,  25,  26,\n",
       "        27,  28,  29,  30,  31,  32,  33,  34,  35,  36,  37,  38,  39,\n",
       "        40,  41,  42,  43,  44,  45,  46,  47,  48,  49,  50,  51,  52,\n",
       "        53,  54,  55,  56,  57,  58,  59,  60,  61,  62,  63,  64,  65,\n",
       "        66,  67,  68,  69,  70,  71,  72,  73,  74,  75,  76,  77,  78,\n",
       "        79,  80,  81,  82,  83,  84,  85,  86,  87,  88,  89,  90,  91,\n",
       "        92,  93,  94,  95,  96,  97,  98,  99, 100])"
      ]
     },
     "metadata": {},
     "output_type": "display_data"
    },
    {
     "data": {
      "text/plain": [
       "array([-20,   2,   3,   4,   5,   6,   7,   8,   9,  10,  11,  12,  13,\n",
       "        14,  15,  16,  17,  18,  19,  20,  21,  22,  23,  24,  25,  26,\n",
       "        27,  28,  29,  30,  31,  32,  33,  34,  35,  36,  37,  38,  39,\n",
       "        40,  41,  42,  43,  44,  45,  46,  47,  48,  49,  50,  51,  52,\n",
       "        53,  54,  55,  56,  57,  58,  59,  60,  61,  62,  63,  64,  65,\n",
       "        66,  67,  68,  69,  70,  71,  72,  73,  74,  75,  76,  77,  78,\n",
       "        79,  80,  81,  82,  83,  84,  85,  86,  87,  88,  89,  90,  91,\n",
       "        92,  93,  94,  95,  96,  97,  98,  99, 100])"
      ]
     },
     "metadata": {},
     "output_type": "display_data"
    },
    {
     "data": {
      "text/plain": [
       "'it can create a copy:'"
      ]
     },
     "metadata": {},
     "output_type": "display_data"
    },
    {
     "data": {
      "text/plain": [
       "array([[-20,   2,   3,   4,   5,   6,   7,   8,   9,  10],\n",
       "       [ 11,  12,  13,  14,  15,  16,  17,  18,  19,  20],\n",
       "       [ 21,  22,  23,  24,  25,  26,  27,  28,  29,  30],\n",
       "       [ 31,  32,  33,  34,  35,  36,  37,  38,  39,  40],\n",
       "       [ 41,  42,  43,  44,  45,  46,  47,  48,  49,  50],\n",
       "       [ 51,  52,  53,  54,  55,  56,  57,  58,  59,  60],\n",
       "       [ 61,  62,  63,  64,  65,  66,  67,  68,  69,  70],\n",
       "       [ 71,  72,  73,  74,  75,  76,  77,  78,  79,  80],\n",
       "       [ 81,  82,  83,  84,  85,  86,  87,  88,  89,  90],\n",
       "       [ 91,  92,  93,  94,  95,  96,  97,  98,  99, 100]])"
      ]
     },
     "metadata": {},
     "output_type": "display_data"
    }
   ],
   "source": [
    "#going from higher d array to 1 D\n",
    "display(matrix.reshape(-1))  # it gives back the 1d array  (It Creates a VIEW)\n",
    "display(matrix.flatten() )  # it gives a COPY\n",
    "display(\"it can create a copy:\",np.copy(matrix))"
   ]
  },
  {
   "cell_type": "markdown",
   "metadata": {},
   "source": [
    "# 3. Array Indexing/Slicing/datatypes\n",
    "## 3.1 Syntax of [onwards:upto] (upto excluded)\n",
    "- [n] select $n^{th}$ element (NOTE: counting starts from)\n",
    "- [n:]  $n^{th}$ element onwards upto the end\n",
    "- [:n]  beginning onwards upto $n^{th}$ element(not included)\n",
    "- [-n]  select $n^{th}$ element from the end\n",
    "- [n:m]  select $m^{th}$ element onwards upto $n^{th}$ element (not included)\n",
    "- [n:m:a] select $m^{th}$ element onwards upto $n^{th}$ element (not included) in the steps of a\n",
    "- [::-1]  <mark>Reverse the array</mark>"
   ]
  },
  {
   "cell_type": "code",
   "execution_count": 414,
   "metadata": {},
   "outputs": [
    {
     "data": {
      "text/plain": [
       "array([ 2,  4,  6,  8, 10])"
      ]
     },
     "metadata": {},
     "output_type": "display_data"
    },
    {
     "data": {
      "text/plain": [
       "np.int64(8)"
      ]
     },
     "metadata": {},
     "output_type": "display_data"
    },
    {
     "data": {
      "text/plain": [
       "array([ 6,  8, 10])"
      ]
     },
     "metadata": {},
     "output_type": "display_data"
    },
    {
     "data": {
      "text/plain": [
       "array([2, 4, 6])"
      ]
     },
     "metadata": {},
     "output_type": "display_data"
    },
    {
     "data": {
      "text/plain": [
       "array([4, 6])"
      ]
     },
     "metadata": {},
     "output_type": "display_data"
    }
   ],
   "source": [
    "A1=np.array([2,4,6,8,10])\n",
    "display(A1)\n",
    "display(A1[3])  #simple element indexing\n",
    "display(A1[2:]) # 2: means 2nd to very end  (\"2nd onwards\")\n",
    "display(A1[:-2]) # :-2 means from beginning to -2th element(ie 2nd element from last:not included) (\"upto 2nd from last\")\n",
    "display(A1[1:-2]) # from 1st to 2nd last element  (\"1st onwards upto 2nd last\")\n"
   ]
  },
  {
   "cell_type": "code",
   "execution_count": 415,
   "metadata": {},
   "outputs": [
    {
     "name": "stdout",
     "output_type": "stream",
     "text": [
      "the size of a1 =  3\n",
      "24\n",
      "[1 2 3]\n",
      "all the elements 1st onwards: [2 3]\n",
      "all upto 2nd element: [1 2 3]\n",
      "all 1st onwards upto 2nd [2 3]\n",
      "[1 2]\n",
      "[1 3]\n",
      "reverse of a1 = [3 2 1]\n"
     ]
    }
   ],
   "source": [
    "#More Examples\n",
    "print(\"the size of a1 = \",a1.size)  # size of array\n",
    "print(a1.nbytes) #byte size\n",
    "print(a1)\n",
    "print(\"all the elements 1st onwards:\",a1[1:])\n",
    "print(\"all upto 2nd element:\",a1[:3])  #3 is excluded\n",
    "print('all 1st onwards upto 2nd',a1[1:3])  \n",
    "print(a1[0:-1])  #can also use -ve indices\n",
    "print(a1[:4:2])  #array[onwards:upto:steps of #]\n",
    "\n",
    "rev_a1=a1[::-1]#reverse an array  (using steps=-1)\n",
    "print(\"reverse of a1 =\",rev_a1)"
   ]
  },
  {
   "cell_type": "markdown",
   "metadata": {},
   "source": [
    "## 3.2 Boolean Indexing and Lambda function\n",
    "- A>n : returns array of T/F ; T if condition(A>n) satisfied and F if not\n",
    "- A[A>n] : returns the corresponding values of the array of T/F"
   ]
  },
  {
   "cell_type": "code",
   "execution_count": 416,
   "metadata": {},
   "outputs": [
    {
     "data": {
      "text/plain": [
       "'A1 is '"
      ]
     },
     "metadata": {},
     "output_type": "display_data"
    },
    {
     "data": {
      "text/plain": [
       "array([ 2,  4,  6,  8, 10])"
      ]
     },
     "metadata": {},
     "output_type": "display_data"
    },
    {
     "data": {
      "text/plain": [
       "'elements of A1>3'"
      ]
     },
     "metadata": {},
     "output_type": "display_data"
    },
    {
     "data": {
      "text/plain": [
       "array([False,  True,  True,  True,  True])"
      ]
     },
     "metadata": {},
     "output_type": "display_data"
    },
    {
     "data": {
      "text/plain": [
       "'A1>3:'"
      ]
     },
     "metadata": {},
     "output_type": "display_data"
    },
    {
     "data": {
      "text/plain": [
       "array([ 4,  6,  8, 10])"
      ]
     },
     "metadata": {},
     "output_type": "display_data"
    },
    {
     "data": {
      "text/plain": [
       "'names of particles'"
      ]
     },
     "metadata": {},
     "output_type": "display_data"
    },
    {
     "data": {
      "text/plain": [
       "array(['electron', 'quark', 'gluon', 'higgs boson', 'neutrino', 'neutron'],\n",
       "      dtype='<U11')"
      ]
     },
     "metadata": {},
     "output_type": "display_data"
    }
   ],
   "source": [
    "#Boolean indexing\n",
    "display(\"A1 is \",A1)\n",
    "display(\"elements of A1>3\",A1>3)  #it is an array itself\n",
    "display(\"A1>3:\",A1[A1>3])\n",
    "names=np.array(['electron','quark','gluon','higgs boson','neutrino','neutron'])\n",
    "display(\"names of particles\",names)\n"
   ]
  },
  {
   "cell_type": "code",
   "execution_count": 417,
   "metadata": {},
   "outputs": [
    {
     "data": {
      "text/plain": [
       "'the array A1:'"
      ]
     },
     "metadata": {},
     "output_type": "display_data"
    },
    {
     "data": {
      "text/plain": [
       "array([ 2,  4,  6,  8, 10])"
      ]
     },
     "metadata": {},
     "output_type": "display_data"
    },
    {
     "data": {
      "text/plain": [
       "'divisibility test of 4'"
      ]
     },
     "metadata": {},
     "output_type": "display_data"
    },
    {
     "data": {
      "text/plain": [
       "array([False,  True, False,  True, False])"
      ]
     },
     "metadata": {},
     "output_type": "display_data"
    },
    {
     "data": {
      "text/plain": [
       "'the numbers divisible by 4 in A1:'"
      ]
     },
     "metadata": {},
     "output_type": "display_data"
    },
    {
     "data": {
      "text/plain": [
       "array([4, 8])"
      ]
     },
     "metadata": {},
     "output_type": "display_data"
    }
   ],
   "source": [
    "display('the array A1:',A1)\n",
    "display('divisibility test of 4',A1%4==0)  # if A1 divided by 4 leaves remainder 0(divisibility by 4)\n",
    "display(\"the numbers divisible by 4 in A1:\",A1[A1%4==0]) "
   ]
  },
  {
   "cell_type": "markdown",
   "metadata": {},
   "source": [
    "### 3.1.1 Lambda function's applications\n",
    "- Nice way of creating functions\n",
    "- `lambda arguments : expressions` : it maps arguments to expression and can be named something and used as a function\n",
    "- $x\\rightarrow f(x) : $it maps the variable x to $f$\n",
    "- $x,y,z\\rightarrow f(x,y,z) : $it maps the variables x y and z to $f$\n",
    "- input a string,outputs the $i^{th}$ index letter"
   ]
  },
  {
   "cell_type": "code",
   "execution_count": 418,
   "metadata": {},
   "outputs": [
    {
     "data": {
      "text/latex": [
       "$\\displaystyle  \\text{for a=1,b=2,c=3 : } \\log(a)^\\frac{1}{4}+b^{4/5}\\frac{\\sqrt c}{42}  = 0.0718018002945997$"
      ],
      "text/plain": [
       "<IPython.core.display.Math object>"
      ]
     },
     "metadata": {},
     "output_type": "display_data"
    }
   ],
   "source": [
    "#example 1\n",
    "fun1=lambda a:(np.sqrt(a))/np.log(a)  # a maps to sqrt(a)/log(a)\n",
    "#inp1=int(input(\"enter a number to evaluate,x:\"))\n",
    "#display(Math(rf'\\frac{{\\sqrt x}}{{\\log(x)}} = { sp.latex(fun1(inp1))}'))\n",
    "\n",
    "#example 2\n",
    "fun2=lambda a,b,c : (((np.log(a))**(1/4))+(b)**(4/5)*(np.sqrt(c)/42))\n",
    "display(Math(rf' \\text{{for a=1,b=2,c=3 : }} \\log(a)^\\frac{{1}}{{4}}+b^{{4/5}}\\frac{{\\sqrt c}}{{42}}  = { sp.latex(fun2(1,2,3))}'))\n",
    "\n"
   ]
  },
  {
   "cell_type": "markdown",
   "metadata": {},
   "source": [
    "### 3.1.2 Lambda function with vectorize()\n",
    "- `np.vectorize(pyfunc,)(array of string)`  : It takes in a python func and acts on an array and returns boolean values(T/F)  (MOST COMMON USAGE)"
   ]
  },
  {
   "cell_type": "code",
   "execution_count": 419,
   "metadata": {},
   "outputs": [
    {
     "data": {
      "text/plain": [
       "'the 1st letter in the name quark is:'"
      ]
     },
     "metadata": {},
     "output_type": "display_data"
    },
    {
     "data": {
      "text/plain": [
       "'q'"
      ]
     },
     "metadata": {},
     "output_type": "display_data"
    },
    {
     "data": {
      "text/plain": [
       "'the given array of names is: '"
      ]
     },
     "metadata": {},
     "output_type": "display_data"
    },
    {
     "data": {
      "text/plain": [
       "array(['electron', 'quark', 'gluon', 'higgs boson', 'neutrino', 'neutron'],\n",
       "      dtype='<U11')"
      ]
     },
     "metadata": {},
     "output_type": "display_data"
    },
    {
     "data": {
      "text/plain": [
       "'the 1st letters of names of particles'"
      ]
     },
     "metadata": {},
     "output_type": "display_data"
    },
    {
     "data": {
      "text/plain": [
       "array(['e', 'q', 'g', 'h', 'n', 'n'], dtype='<U1')"
      ]
     },
     "metadata": {},
     "output_type": "display_data"
    },
    {
     "data": {
      "text/plain": [
       "'if the name starts with n'"
      ]
     },
     "metadata": {},
     "output_type": "display_data"
    },
    {
     "data": {
      "text/plain": [
       "array([False, False, False, False,  True,  True])"
      ]
     },
     "metadata": {},
     "output_type": "display_data"
    },
    {
     "data": {
      "text/plain": [
       "'the names that start with n are'"
      ]
     },
     "metadata": {},
     "output_type": "display_data"
    },
    {
     "data": {
      "text/plain": [
       "array(['neutrino', 'neutron'], dtype='<U11')"
      ]
     },
     "metadata": {},
     "output_type": "display_data"
    }
   ],
   "source": [
    "#example 3\n",
    "# a function inputs a string and outputs the ith indexed letter:\n",
    "\n",
    "#Method 1:\n",
    "#inpu=input('enter a particle:')\n",
    "#display(\"the 3rd letter in the {} is \".format(inpu),f(inpu))\n",
    "\n",
    "#method 2: \n",
    "f= lambda s:s[0]  # s is mapped to the 0th element of s(array of string)\n",
    "display(\"the 1st letter in the name quark is:\",f('quark'))\n",
    "display(\"the given array of names is: \",names)\n",
    "\n",
    "#vectorize: it is a boolean array : takes in an input and gives the 1st letter of each word\n",
    "display(\"the 1st letters of names of particles\",np.vectorize(f)(names)) # array form of the 1st letters of all names\n",
    "\n",
    "first_letter_n= np.vectorize(f)(names)=='n' # check if true or false(an array form of names starting with n)\n",
    "display(\"if the name starts with n\",first_letter_n)\n",
    "display(\"the names that start with n are\",names[first_letter_n])   # index of the names array is all true"
   ]
  },
  {
   "cell_type": "markdown",
   "metadata": {},
   "source": [
    "# 4. Plotting using numpy and matplotlib\n",
    "- `plt.style.available`  : to check the styles that are available\n",
    "- `plt.style.use('default')` : to set the style of the plots\n",
    "- `import scienceplots ` and ` plt.style.use(['science'])`  : science plot style\n",
    "- `plt.figure(figsize=(3,3))` : to set the size of the plot \n"
   ]
  },
  {
   "cell_type": "markdown",
   "metadata": {},
   "source": [
    "## 4.1 Plotting with matplotlib"
   ]
  },
  {
   "cell_type": "code",
   "execution_count": 420,
   "metadata": {},
   "outputs": [
    {
     "name": "stderr",
     "output_type": "stream",
     "text": [
      "<>:17: SyntaxWarning: invalid escape sequence '\\i'\n",
      "<>:17: SyntaxWarning: invalid escape sequence '\\i'\n",
      "/tmp/ipykernel_2431/3623744192.py:17: SyntaxWarning: invalid escape sequence '\\i'\n",
      "  plt.title('$f(x)=cos(x): x\\in[0,2\\pi]$')\n"
     ]
    },
    {
     "data": {
      "text/plain": [
       "[<matplotlib.lines.Line2D at 0x7909ea7d3110>]"
      ]
     },
     "metadata": {},
     "output_type": "display_data"
    },
    {
     "data": {
      "text/plain": [
       "[<matplotlib.lines.Line2D at 0x7909ea7ff4d0>]"
      ]
     },
     "metadata": {},
     "output_type": "display_data"
    },
    {
     "data": {
      "text/plain": [
       "[<matplotlib.lines.Line2D at 0x7909ea637890>]"
      ]
     },
     "metadata": {},
     "output_type": "display_data"
    },
    {
     "data": {
      "text/plain": [
       "[<matplotlib.lines.Line2D at 0x7909ea67bc50>]"
      ]
     },
     "metadata": {},
     "output_type": "display_data"
    },
    {
     "data": {
      "text/plain": [
       "[<matplotlib.lines.Line2D at 0x7909ea6e0050>]"
      ]
     },
     "execution_count": 420,
     "metadata": {},
     "output_type": "execute_result"
    },
    {
     "data": {
      "image/png": "[encoded data removed]",
      "text/plain": [
       "<Figure size 300x300 with 1 Axes>"
      ]
     },
     "metadata": {},
     "output_type": "display_data"
    },
    {
     "data": {
      "image/png": "[encoded data removed]",
      "text/plain": [
       "<Figure size 300x300 with 1 Axes>"
      ]
     },
     "metadata": {},
     "output_type": "display_data"
    },
    {
     "data": {
      "image/png": "[encoded data removed]",
      "text/plain": [
       "<Figure size 300x300 with 1 Axes>"
      ]
     },
     "metadata": {},
     "output_type": "display_data"
    },
    {
     "data": {
      "image/png": "[encoded data removed]",
      "text/plain": [
       "<Figure size 300x300 with 1 Axes>"
      ]
     },
     "metadata": {},
     "output_type": "display_data"
    },
    {
     "data": {
      "image/png": "[encoded data removed]",
      "text/plain": [
       "<Figure size 300x300 with 1 Axes>"
      ]
     },
     "metadata": {},
     "output_type": "display_data"
    }
   ],
   "source": [
    "plt.style.use(['science'])\n",
    "# Example 1 (using arange)\n",
    "x=np.arange(5)\n",
    "y=np.sin(x)\n",
    "plt.figure(figsize=(3,3))\n",
    "plt.xlabel('x')\n",
    "plt.ylabel(r'y = sin(x)')\n",
    "plt.title('Boxxy f(x)=sin(x)')\n",
    "display(plt.plot(x,y))\n",
    "\n",
    "#example 2 (using linspace)\n",
    "plt.figure(figsize=(3,3))\n",
    "x=np.linspace(0,2*np.pi,100)\n",
    "y=np.cos(x)\n",
    "plt.xlabel('x')\n",
    "plt.ylabel(r'y = cos(x)')\n",
    "plt.title('$f(x)=cos(x): x\\in[0,2\\pi]$')\n",
    "plt.grid()\n",
    "display(plt.plot(x,y))\n",
    "\n",
    "#example 3\n",
    "plt.figure(figsize=(3,3))\n",
    "x=np.linspace(0,1,100)\n",
    "y=x**2\n",
    "plot1=plt.plot(x,y)\n",
    "plt.xlabel('x')\n",
    "plt.ylabel(r'$y = x^2$')\n",
    "plt.title('$f(x)=x^2$')\n",
    "display(plot1)\n",
    "\n",
    "#example 4 (using functions)\n",
    "plt.figure(figsize=(3,3))\n",
    "def f(x):\n",
    "    return x**2*np.sin(x)/np.exp(x)\n",
    "\n",
    "x=np.linspace(0,10,100)\n",
    "y=f(x)\n",
    "\n",
    "plt.xlabel('x')\n",
    "plt.ylabel(r'y')\n",
    "plt.title(r'$f(x)=\\frac{x^2 \\sin x}{e^{x}}$')\n",
    "display(plt.plot(x,y))\n",
    "\n",
    "#example 5\n",
    "plt.figure(figsize=(3,3))\n",
    "x=np.linspace(0,1,100)\n",
    "y=x**2*np.sin(10*x)\n",
    "plt.xlabel('x')\n",
    "plt.ylabel(r'y')\n",
    "plt.title(r'$f(x)=x^2 \\sin 10x$')\n",
    "plt.plot(x,y)"
   ]
  },
  {
   "cell_type": "markdown",
   "metadata": {},
   "source": [
    "### 4.1.1 Bar plots\n",
    "- `plt.bar(categories-x axis,datapoints-y axis)`"
   ]
  },
  {
   "cell_type": "code",
   "execution_count": 421,
   "metadata": {},
   "outputs": [
    {
     "data": {
      "text/plain": [
       "<matplotlib.collections.PathCollection at 0x7909ea2cdd10>"
      ]
     },
     "execution_count": 421,
     "metadata": {},
     "output_type": "execute_result"
    },
    {
     "data": {
      "image/png": "[encoded data removed]",
      "text/plain": [
       "<Figure size 350x262.5 with 1 Axes>"
      ]
     },
     "metadata": {},
     "output_type": "display_data"
    }
   ],
   "source": [
    "rain=np.array([5,1,12,0,3])\n",
    "day=np.arange(1,len(rain)+1)  # 1,2,3,4,5\n",
    "plt.bar(day,rain)   #bar(categories(x axis),data points(y axis))\n",
    "plt.xlabel('days')\n",
    "plt.ylabel('Rain in mm')\n",
    "plt.scatter(day,rain)"
   ]
  },
  {
   "cell_type": "markdown",
   "metadata": {},
   "source": [
    "# 5. Statistical Functions and Calculus "
   ]
  },
  {
   "cell_type": "markdown",
   "metadata": {},
   "source": [
    "## 5.1 Sorting and aggregate function"
   ]
  },
  {
   "cell_type": "code",
   "execution_count": 422,
   "metadata": {},
   "outputs": [
    {
     "name": "stdout",
     "output_type": "stream",
     "text": [
      "array a1 = [ 4 15 15  8 42 23]\n",
      "the sorted array is =  [ 4  8 15 15 23 42]\n",
      "array a2 = [ 1 67 34 13 98 11]\n",
      "sorted array is =  [ 1 11 13 34 67 98]\n"
     ]
    }
   ],
   "source": [
    "#method 1: storing using sort()\n",
    "ar1=np.array([4,15,15,8,42,23])\n",
    "print(\"array a1 =\",ar1)\n",
    "ar1.sort()  #common mistake it to print a1.sort() : method for in-place sorting(orig is modified)\n",
    "print(\"the sorted array is = \",ar1)\n",
    "ar2=np.array([1,67,34,13,98,11])\n",
    "print(\"array a2 =\",ar2)\n",
    "print(\"sorted array is = \",np.sort(ar2)) # needs to be printed and called\n"
   ]
  },
  {
   "cell_type": "code",
   "execution_count": 423,
   "metadata": {},
   "outputs": [
    {
     "name": "stdout",
     "output_type": "stream",
     "text": [
      "orignal array: [ 4  8 15 16 23 42]\n",
      "reversed array: [42 23 16 15  8  4]\n",
      "modified array(16->32):  [42 23 32 15  8  4]\n",
      "Now see the orig array: [ 4  8 15 32 23 42]\n",
      "array b1 [-90   8  15  32  23  42]\n",
      "positivized b1: [90  8 15 32 23 42]\n",
      "orig b1 [-90   8  15  32  23  42]\n"
     ]
    }
   ],
   "source": [
    "Ar1=np.array([4,8,15,16,23,42])\n",
    "rev_a1=Ar1[::-1]  # reverse array by -ve slicing steps\n",
    "print(\"orignal array:\",Ar1)\n",
    "print(\"reversed array:\",rev_a1)\n",
    "rev_a1[2]=32 # set the value\n",
    "print('modified array(16->32): ',rev_a1)\n",
    "print('Now see the orig array:',Ar1) # it also changes the orignal forever ----SLICING CREATED A 'VIEW'\n",
    "\n",
    "Ar1[0]=-90\n",
    "br1=Ar1\n",
    "print('array b1',br1)\n",
    "pos_b1=np.abs(br1)\n",
    "print(\"positivized b1:\",pos_b1)\n",
    "print('orig b1',br1)  # original does not change. NP.ABS() CREATES A COPY\n"
   ]
  },
  {
   "cell_type": "markdown",
   "metadata": {},
   "source": [
    "## 5.2 Mean, standard deviation, and percentiles of arrays"
   ]
  },
  {
   "cell_type": "markdown",
   "metadata": {},
   "source": [
    "gaussian/normal distribution variable $X$ has a mean=0 and SD=1 \\\n",
    "$2X\\implies$ the gaussian expands and SD = 2 \\\n",
    "$2X+10\\implies$ the gaussian shifts by 10 and the mean=10\n",
    "\n",
    "\n"
   ]
  },
  {
   "cell_type": "code",
   "execution_count": 424,
   "metadata": {},
   "outputs": [
    {
     "name": "stdout",
     "output_type": "stream",
     "text": [
      "the array is : [ 4  8 15 16 23 42]\n",
      "the sum of all numbers: 108\n",
      "the sum of numbers in array: 108\n",
      "mean of array: 18.0\n",
      "the product of numbers in array 7418880\n",
      "max in array 42\n",
      "min in array 4\n",
      "index at which val is max 5\n",
      "index at which val is min 0\n"
     ]
    }
   ],
   "source": [
    "Ar1=np.array([4,8,15,16,23,42])\n",
    "#display(\"operation that can be done on array A1:\",dir(A1))#\n",
    "# sum of all the numbers \n",
    "#method 1 (for loop method)\n",
    "print(\"the array is :\",Ar1)\n",
    "sum_of_Ar1=0\n",
    "for i in Ar1:\n",
    "    sum_of_Ar1=sum_of_Ar1+i\n",
    "print(\"the sum of all numbers:\" ,sum_of_Ar1)\n",
    "\n",
    "#method 2(built-in function)\n",
    "sum_of_array=np.sum(Ar1)\n",
    "print(\"the sum of numbers in array:\",sum_of_array)\n",
    "\n",
    "print(\"mean of array:\",np.mean(Ar1))\n",
    "print(\"the product of numbers in array\",np.prod(Ar1))\n",
    "print(\"max in array\",np.max(Ar1))\n",
    "print(\"min in array\",np.min(Ar1))\n",
    "print(\"index at which val is max\",np.argmax(Ar1))\n",
    "print(\"index at which val is min\",np.argmin(Ar1))\n"
   ]
  },
  {
   "cell_type": "code",
   "execution_count": 425,
   "metadata": {},
   "outputs": [
    {
     "data": {
      "text/plain": [
       "'the mean:'"
      ]
     },
     "metadata": {},
     "output_type": "display_data"
    },
    {
     "data": {
      "image/png": "[encoded data removed]",
      "text/latex": [
       "$\\displaystyle 18.0$"
      ],
      "text/plain": [
       "np.float64(18.0)"
      ]
     },
     "metadata": {},
     "output_type": "display_data"
    },
    {
     "data": {
      "text/plain": [
       "'standard deviation:most values lie b/w 16 and 30'"
      ]
     },
     "metadata": {},
     "output_type": "display_data"
    },
    {
     "data": {
      "image/png": "[encoded data removed]",
      "text/latex": [
       "$\\displaystyle 12.3153021346074$"
      ],
      "text/plain": [
       "np.float64(12.315302134607444)"
      ]
     },
     "metadata": {},
     "output_type": "display_data"
    },
    {
     "data": {
      "text/plain": [
       "'variance=sqr of std'"
      ]
     },
     "metadata": {},
     "output_type": "display_data"
    },
    {
     "data": {
      "image/png": "[encoded data removed]",
      "text/latex": [
       "$\\displaystyle 151.666666666667$"
      ],
      "text/plain": [
       "np.float64(151.66666666666666)"
      ]
     },
     "metadata": {},
     "output_type": "display_data"
    },
    {
     "data": {
      "text/plain": [
       "'Median'"
      ]
     },
     "metadata": {},
     "output_type": "display_data"
    },
    {
     "data": {
      "image/png": "[encoded data removed]",
      "text/latex": [
       "$\\displaystyle 15.5$"
      ],
      "text/plain": [
       "np.float64(15.5)"
      ]
     },
     "metadata": {},
     "output_type": "display_data"
    }
   ],
   "source": [
    "Ar1=np.array([4,8,15,16,23,42])\n",
    "display(\"the mean:\",np.mean(Ar1))\n",
    "display(\"standard deviation:most values lie b/w 16 and 30\",np.std(Ar1))\n",
    "display(\"variance=sqr of std\",np.var(Ar1))\n",
    "display(\"Median\",np.median(Ar1))\n"
   ]
  },
  {
   "cell_type": "code",
   "execution_count": 426,
   "metadata": {},
   "outputs": [
    {
     "data": {
      "text/plain": [
       "'the unique values in the array are:'"
      ]
     },
     "metadata": {},
     "output_type": "display_data"
    },
    {
     "data": {
      "text/plain": [
       "array([ 4,  8, 15, 23, 42])"
      ]
     },
     "metadata": {},
     "output_type": "display_data"
    },
    {
     "data": {
      "text/plain": [
       "'the unique values and # of times they appeard'"
      ]
     },
     "metadata": {},
     "output_type": "display_data"
    },
    {
     "data": {
      "text/plain": [
       "(array([ 4,  8, 15, 23, 42]), array([2, 2, 1, 3, 4]))"
      ]
     },
     "metadata": {},
     "output_type": "display_data"
    },
    {
     "data": {
      "text/plain": [
       "<BarContainer object of 5 artists>"
      ]
     },
     "execution_count": 426,
     "metadata": {},
     "output_type": "execute_result"
    },
    {
     "data": {
      "image/png": "[encoded data removed]",
      "text/plain": [
       "<Figure size 350x262.5 with 1 Axes>"
      ]
     },
     "metadata": {},
     "output_type": "display_data"
    }
   ],
   "source": [
    "Ar2=np.array([4,4,8,8,15,23,23,23,42,42,42,42])\n",
    "display(\"the unique values in the array are:\",np.unique(Ar2))\n",
    "display(\"the unique values and # of times they appeard\",np.unique(Ar2,return_counts=True))\n",
    "val,counts=np.unique(Ar2,return_counts=True)  #this is called TUPLE UNPACKING\n",
    "plt.bar(val,counts)"
   ]
  },
  {
   "cell_type": "code",
   "execution_count": 427,
   "metadata": {},
   "outputs": [
    {
     "data": {
      "text/plain": [
       "'10000 normally distributed random numbers of type 2X+10'"
      ]
     },
     "metadata": {},
     "output_type": "display_data"
    },
    {
     "data": {
      "text/plain": [
       "array([11.16538356,  7.86284136,  9.18915494, ...,  8.02736474,\n",
       "        6.51751603,  8.59049351], shape=(10000,))"
      ]
     },
     "metadata": {},
     "output_type": "display_data"
    },
    {
     "data": {
      "text/plain": [
       "'the mean of these numbers'"
      ]
     },
     "metadata": {},
     "output_type": "display_data"
    },
    {
     "data": {
      "image/png": "[encoded data removed]",
      "text/latex": [
       "$\\displaystyle 9.99998720020282$"
      ],
      "text/plain": [
       "np.float64(9.999987200202817)"
      ]
     },
     "metadata": {},
     "output_type": "display_data"
    },
    {
     "data": {
      "text/plain": [
       "'the standard deviation of these numbers in integer '"
      ]
     },
     "metadata": {},
     "output_type": "display_data"
    },
    {
     "data": {
      "image/png": "[encoded data removed]",
      "text/latex": [
       "$\\displaystyle 2$"
      ],
      "text/plain": [
       "2"
      ]
     },
     "metadata": {},
     "output_type": "display_data"
    },
    {
     "data": {
      "text/plain": [
       "'the 80 percentile of these numbers'"
      ]
     },
     "metadata": {},
     "output_type": "display_data"
    },
    {
     "data": {
      "image/png": "[encoded data removed]",
      "text/latex": [
       "$\\displaystyle 11.675834590601$"
      ],
      "text/plain": [
       "np.float64(11.675834590600976)"
      ]
     },
     "metadata": {},
     "output_type": "display_data"
    },
    {
     "data": {
      "text/plain": [
       "'80% of the numbers are less than 11.675834590600976'"
      ]
     },
     "metadata": {},
     "output_type": "display_data"
    }
   ],
   "source": [
    "a1=2*np.random.randn(10000) +10 # 10000 numbers with mean=10 and SD=2\n",
    "display(\"10000 normally distributed random numbers of type 2X+10\",a1)\n",
    "display(\"the mean of these numbers\",np.mean(a1))\n",
    "display(\"the standard deviation of these numbers in integer \",round(np.std(a1)))\n",
    "display(\"the 80 percentile of these numbers\",np.percentile(a1,80),\"80% of the numbers are less than {}\".format(np.percentile(a1,80))) \n"
   ]
  },
  {
   "cell_type": "markdown",
   "metadata": {},
   "source": [
    "## 5.3 Generators and Random numbers\n",
    "NOTE: they are based on an algorithm and are not safe for encryption and should not be used/trusted for cryptography\n",
    "\n",
    "- `random.default_rng()` : random number generator initializer and name it a variable(`rng`)\n",
    "- `rng.integer(start,end,size=a)` : 'a' random integers from 'start' to 'end'(not included) \n",
    "- `rng.random(n)` : 'n' random numbers \n",
    "- `rng.shuffle(array)` : shuffle the elements of array\n",
    "- `rng.choice(array,size=a)` :  choose 'a' elements from the array with replacement(by default) if w/o replacement,add `replace=False `\n",
    "- `rng.normal(mean,standard deviation,size)` : 'size' number of normal numbers with mean and standard deivation"
   ]
  },
  {
   "cell_type": "code",
   "execution_count": 428,
   "metadata": {},
   "outputs": [
    {
     "data": {
      "text/plain": [
       "'10 random integers from 0-10'"
      ]
     },
     "metadata": {},
     "output_type": "display_data"
    },
    {
     "data": {
      "text/plain": [
       "array([10,  6,  7,  8,  7,  7,  4,  2,  4,  6])"
      ]
     },
     "metadata": {},
     "output_type": "display_data"
    },
    {
     "data": {
      "text/plain": [
       "'creation of random 64 bits'"
      ]
     },
     "metadata": {},
     "output_type": "display_data"
    },
    {
     "data": {
      "text/plain": [
       "array([1, 0, 0, 1, 1, 0, 1, 1, 1, 1, 1, 0, 0, 1, 1, 1, 0, 0, 0, 1, 0, 1,\n",
       "       0, 1, 0, 0, 1, 1, 1, 0, 0, 0, 0, 0, 1, 0, 1, 1, 1, 1, 0, 1, 0, 0,\n",
       "       0, 1, 1, 1, 0, 1, 1, 0, 0, 1, 0, 0, 1, 1, 1, 0, 0, 0, 0, 0])"
      ]
     },
     "metadata": {},
     "output_type": "display_data"
    }
   ],
   "source": [
    "from numpy import random\n",
    "rng=random.default_rng() # this initiates a generator object\n",
    "display(\"10 random integers from 0-10\", rng.integers(0,11,size=10))\n",
    "display(\"creation of random 64 bits\",rng.integers(0,2,size=64))\n"
   ]
  },
  {
   "cell_type": "code",
   "execution_count": 429,
   "metadata": {},
   "outputs": [
    {
     "data": {
      "text/plain": [
       "'10 random numbers b/w 0 and 1'"
      ]
     },
     "metadata": {},
     "output_type": "display_data"
    },
    {
     "data": {
      "text/plain": [
       "array([0.21245521, 0.88092198, 0.21406702, 0.762215  , 0.39852991,\n",
       "       0.94871774, 0.19145775, 0.48870944, 0.2201873 , 0.34532272])"
      ]
     },
     "metadata": {},
     "output_type": "display_data"
    },
    {
     "data": {
      "text/plain": [
       "Text(0.5, 1.0, 'uniformly distributed randomness')"
      ]
     },
     "execution_count": 429,
     "metadata": {},
     "output_type": "execute_result"
    },
    {
     "data": {
      "image/png": "[encoded data removed]",
      "text/plain": [
       "<Figure size 350x262.5 with 1 Axes>"
      ]
     },
     "metadata": {},
     "output_type": "display_data"
    }
   ],
   "source": [
    "display('10 random numbers b/w 0 and 1',rng.random(10))  # 10 random numbers b/w 0 and 1\n",
    "x=rng.random(300)\n",
    "y=rng.random(300)\n",
    "plt.scatter(x,y)\n",
    "plt.title(\"uniformly distributed randomness\")"
   ]
  },
  {
   "cell_type": "code",
   "execution_count": 430,
   "metadata": {},
   "outputs": [
    {
     "data": {
      "text/plain": [
       "'the shufled array:'"
      ]
     },
     "metadata": {},
     "output_type": "display_data"
    },
    {
     "data": {
      "text/plain": [
       "array([42,  2,  8,  4, 16, 15])"
      ]
     },
     "metadata": {},
     "output_type": "display_data"
    },
    {
     "data": {
      "text/plain": [
       "'choose 3 elements from A1'"
      ]
     },
     "metadata": {},
     "output_type": "display_data"
    },
    {
     "data": {
      "text/plain": [
       "array([ 8,  2, 16])"
      ]
     },
     "metadata": {},
     "output_type": "display_data"
    }
   ],
   "source": [
    "#shuffle and choice function\n",
    "A1=np.array([4,8,15,16,2,42])\n",
    "rng.shuffle(A1)  # it created a view not a copy\n",
    "display('the shufled array:',A1)\n",
    "display(\"choose 3 elements from A1\",rng.choice(A1,size=3))  # choose with replacement(by default) if w/o replacement :type replace=false "
   ]
  },
  {
   "cell_type": "markdown",
   "metadata": {},
   "source": [
    "## 5.4 Normal Distributions\n",
    "- `Hist(function, bins= # of square boxes)` : one of the most important plot type <mark>HISTOGRAM</mark> \\\n",
    "More on Histogram :see Matplotlib series\\\n",
    "Reference: https://numpy.org/doc/stable/reference/random/generator.html"
   ]
  },
  {
   "cell_type": "code",
   "execution_count": 431,
   "metadata": {},
   "outputs": [
    {
     "data": {
      "text/plain": [
       "Text(0.5, 1.0, 'Normal distribution')"
      ]
     },
     "execution_count": 431,
     "metadata": {},
     "output_type": "execute_result"
    },
    {
     "data": {
      "image/png": "[encoded data removed]",
      "text/plain": [
       "<Figure size 350x262.5 with 1 Axes>"
      ]
     },
     "metadata": {},
     "output_type": "display_data"
    }
   ],
   "source": [
    "heights=rng.normal(1.75,0.15,1000)  #normal(mean,standard devation,size)  std = how much spread??\n",
    "plt.hist(heights,bins=50) \n",
    "plt.title('Normal distribution')\n"
   ]
  },
  {
   "cell_type": "markdown",
   "metadata": {},
   "source": [
    "## 5.5 Integrals and derivatives in numpy\n",
    " \n",
    "$\\displaystyle\\int{f(x)dx} = \\displaystyle\\sum_{i=0}^\\infty f(x_i) \\Delta x_{i} = \\text{cummulative sum}*(x_{i}-x_{i-1}) $\\\n",
    "$\\displaystyle\\frac{dy}{dx}\\approx \\frac{\\Delta{y}}{\\Delta{x}} = \\text{Gradient of the curve}$\n",
    "\n",
    "- `np.cumsum(array)` :returns array with each element being a cummulative sum of of all elements till that element\n",
    "- `np.gradient(y,x)` $\\equiv \\frac{dy}{dx}$ : gradient of 2 sets of values $\\approx$ `sp.diff(y,x)` (in SymPy)"
   ]
  },
  {
   "cell_type": "code",
   "execution_count": 432,
   "metadata": {},
   "outputs": [
    {
     "data": {
      "text/plain": [
       "'comment on cumsum: for INTEGRATION'"
      ]
     },
     "metadata": {},
     "output_type": "display_data"
    },
    {
     "data": {
      "text/plain": [
       "array([ 1,  3,  6, 10])"
      ]
     },
     "metadata": {},
     "output_type": "display_data"
    },
    {
     "data": {
      "text/plain": [
       "[<matplotlib.lines.Line2D at 0x7909e9ef7110>]"
      ]
     },
     "metadata": {},
     "output_type": "display_data"
    },
    {
     "data": {
      "text/plain": [
       "[<matplotlib.lines.Line2D at 0x7909e9ef7250>]"
      ]
     },
     "metadata": {},
     "output_type": "display_data"
    },
    {
     "data": {
      "text/plain": [
       "[<matplotlib.lines.Line2D at 0x7909e9ef7390>]"
      ]
     },
     "metadata": {},
     "output_type": "display_data"
    },
    {
     "data": {
      "text/plain": [
       "<matplotlib.legend.Legend at 0x7909e9ef6fd0>"
      ]
     },
     "execution_count": 432,
     "metadata": {},
     "output_type": "execute_result"
    },
    {
     "data": {
      "image/png": "[encoded data removed]",
      "text/plain": [
       "<Figure size 350x262.5 with 1 Axes>"
      ]
     },
     "metadata": {},
     "output_type": "display_data"
    }
   ],
   "source": [
    "display(\"comment on cumsum: for INTEGRATION\",np.cumsum(np.array([1,2,3,4])))  #1st elem in array is 1,2nd is sum of 1st 2 (ie 3),3rd is sum of 1st 2nd 3rd(ie 6)\n",
    "x=np.linspace(1,10,100) #can't put x=0 since it's indeterminate at that point / these are equally spaced 100 points\n",
    "y=1/x**2*np.sin(x)\n",
    "\n",
    "dydx=np.gradient(y,x)   # gradient of y wrt x\n",
    "y_int=np.cumsum(y) *(x[1]-x[0])  #integral wrt y = cumsum * delta(x)\n",
    "\n",
    "display(plt.plot(x,y,label=r'$y =\\frac{1}{x^{2}}sin(x)$'))   #LATEX IN MATHPLOTLIB : label=r'$.....math......$'\n",
    "display(plt.plot(x,dydx,label=r'$\\frac{dy}{dx}$'))\n",
    "display(plt.plot(x,y_int,label=r'$\\int{f(x)dx}$'))\n",
    "plt.xlabel('x')\n",
    "plt.ylabel(r'$\\int{f(x)dx}$ and $\\frac{dy}{dx}$') \n",
    "plt.legend()\n"
   ]
  },
  {
   "cell_type": "markdown",
   "metadata": {},
   "source": [
    "# 6. Interesting Examples\n",
    "- calculus mixed with statistics : mean,Sd,percentile ,curve tracing , arc length,area under the curve\n"
   ]
  },
  {
   "cell_type": "markdown",
   "metadata": {},
   "source": [
    "## Question 1 (cuve plot,mean,SD,percentile,gradient,maxima)\n",
    "\n",
    "Let $y=e^{-x/10} \\sin(x)$. Consider 10000 $ x $ intervals in the range $[0,10]$\n",
    "\n",
    "1. Plot the function $y$ vs. $x$ in the range $[0, 10]$. \n",
    "2. Compute the mean and standard deviation of $y$ for $x$ values in $[4,7]$\n",
    "3. For $x$ in the range $[4,7]$, find the value $y_m$ such that 80% of $y$ values are less than $y_m$\n",
    "4. Plot $dy/dx$ vs $x$\n",
    "5. Find the locations where $dy/dx=0$ "
   ]
  },
  {
   "cell_type": "code",
   "execution_count": 433,
   "metadata": {},
   "outputs": [
    {
     "data": {
      "text/plain": [
       "array([False, False, False, ..., False, False, False], shape=(10001,))"
      ]
     },
     "metadata": {},
     "output_type": "display_data"
    },
    {
     "data": {
      "text/plain": [
       "'mean and SD of y for x in [4,7]'"
      ]
     },
     "metadata": {},
     "output_type": "display_data"
    },
    {
     "data": {
      "image/png": "[encoded data removed]",
      "text/latex": [
       "$\\displaystyle -0.295602306896314$"
      ],
      "text/plain": [
       "np.float64(-0.2956023068963138)"
      ]
     },
     "metadata": {},
     "output_type": "display_data"
    },
    {
     "data": {
      "image/png": "[encoded data removed]",
      "text/latex": [
       "$\\displaystyle 0.314487538750851$"
      ],
      "text/plain": [
       "np.float64(0.31448753875085117)"
      ]
     },
     "metadata": {},
     "output_type": "display_data"
    },
    {
     "data": {
      "text/plain": [
       "'80% of the y val is less than this value :'"
      ]
     },
     "metadata": {},
     "output_type": "display_data"
    },
    {
     "data": {
      "image/png": "[encoded data removed]",
      "text/latex": [
       "$\\displaystyle 0.0614555127459066$"
      ],
      "text/plain": [
       "np.float64(0.06145551274590662)"
      ]
     },
     "metadata": {},
     "output_type": "display_data"
    },
    {
     "data": {
      "text/plain": [
       "'the derivative array is'"
      ]
     },
     "metadata": {},
     "output_type": "display_data"
    },
    {
     "data": {
      "text/plain": [
       "array([ 0.99989984,  0.99979935,  0.9995979 , ..., -0.28918296,\n",
       "       -0.28892346, -0.28879364], shape=(10001,))"
      ]
     },
     "metadata": {},
     "output_type": "display_data"
    },
    {
     "data": {
      "text/plain": [
       "'the derivative array excluding 1st elem'"
      ]
     },
     "metadata": {},
     "output_type": "display_data"
    },
    {
     "data": {
      "text/plain": [
       "array([ 0.99979935,  0.9995979 ,  0.99939548, ..., -0.28918296,\n",
       "       -0.28892346, -0.28879364], shape=(10000,))"
      ]
     },
     "metadata": {},
     "output_type": "display_data"
    },
    {
     "data": {
      "text/plain": [
       "'the derivative array excluding last elem'"
      ]
     },
     "metadata": {},
     "output_type": "display_data"
    },
    {
     "data": {
      "text/plain": [
       "array([ 0.99989984,  0.99979935,  0.9995979 , ..., -0.28944223,\n",
       "       -0.28918296, -0.28892346], shape=(10000,))"
      ]
     },
     "metadata": {},
     "output_type": "display_data"
    },
    {
     "data": {
      "text/plain": [
       "'x values where the derivative goes to 0'"
      ]
     },
     "metadata": {},
     "output_type": "display_data"
    },
    {
     "data": {
      "text/plain": [
       "array([1.472, 4.613, 7.755])"
      ]
     },
     "metadata": {},
     "output_type": "display_data"
    },
    {
     "data": {
      "text/plain": [
       "<matplotlib.legend.Legend at 0x7909e9c04690>"
      ]
     },
     "execution_count": 433,
     "metadata": {},
     "output_type": "execute_result"
    },
    {
     "data": {
      "image/png": "[encoded data removed]",
      "text/plain": [
       "<Figure size 350x262.5 with 1 Axes>"
      ]
     },
     "metadata": {},
     "output_type": "display_data"
    }
   ],
   "source": [
    "#1\n",
    "x=np.linspace(0,10,10001)  #10000 x intervals means 100001 points\n",
    "y=np.exp(-x/10)*np.sin(x)\n",
    "\n",
    "plt.plot(x,y,label=r'$y=e^{\\frac{-x}{10}}\\sin(x)$')\n",
    "\n",
    "\n",
    "#2\n",
    "ran_x = (x>=4)*(x<=7)  # x>=4 and x<=7 (x in b/w 4 and 7) \n",
    "display(ran_x)\n",
    "y[ran_x]               # take all y for which x is b/w 4 anf 7\n",
    "display(\"mean and SD of y for x in [4,7]\",np.mean(y[ran_x]),np.std(y[ran_x]))\n",
    "\n",
    "#3\n",
    "display(\"80% of the y val is less than this value :\",np.percentile(y[ran_x],80))\n",
    "\n",
    "#4 \n",
    "dydx=np.gradient(y,x) \n",
    "plt.plot(x,dydx,label=r'$\\frac{dy}{dx}$')\n",
    "\n",
    "#5\n",
    "display(\"the derivative array is\",dydx)\n",
    "display(\"the derivative array excluding 1st elem\",dydx[1:])\n",
    "display(\"the derivative array excluding last elem\",dydx[:-1])  \n",
    "display(\"x values where the derivative goes to 0\",x[1:][dydx[1:]*dydx[:-1]<0])          #dydx[1:]*dydx[:-1] means multiplying 2 consecutive elements in array of dydx: f(x1)*f(x2)<0(minima/maxima)\n",
    "plt.legend()\n",
    "\n"
   ]
  },
  {
   "cell_type": "markdown",
   "metadata": {},
   "source": [
    "## Question 2 (sum # except those divisible by 4 or 7)\n",
    "\n",
    "Sum together every number from 0 to 10000 except for those than can be divided by 4 or 7. Do this in one line of code"
   ]
  },
  {
   "cell_type": "code",
   "execution_count": 434,
   "metadata": {},
   "outputs": [
    {
     "data": {
      "text/plain": [
       "'the numbers from 0 to 10000'"
      ]
     },
     "metadata": {},
     "output_type": "display_data"
    },
    {
     "data": {
      "text/plain": [
       "array([    0,     1,     2, ...,  9998,  9999, 10000], shape=(10001,))"
      ]
     },
     "metadata": {},
     "output_type": "display_data"
    },
    {
     "data": {
      "text/plain": [
       "'all numbers not divisible by 4 or 7'"
      ]
     },
     "metadata": {},
     "output_type": "display_data"
    },
    {
     "data": {
      "text/plain": [
       "array([   1,    2,    3, ..., 9997, 9998, 9999], shape=(6429,))"
      ]
     },
     "metadata": {},
     "output_type": "display_data"
    },
    {
     "data": {
      "text/plain": [
       "'sum of all # except divisible by 4 or 7'"
      ]
     },
     "metadata": {},
     "output_type": "display_data"
    },
    {
     "data": {
      "text/plain": [
       "np.int64(32147142)"
      ]
     },
     "metadata": {},
     "output_type": "display_data"
    }
   ],
   "source": [
    "numb=np.arange(0,10001,1)\n",
    "\n",
    "a=(numb%4!=0)*(numb%7!=0)  #(Divisibility Condition)boolean operation : not divisible by 4 or 7\n",
    "\n",
    "display('the numbers from 0 to 10000',numb)  \n",
    "display('all numbers not divisible by 4 or 7',numb[a])  \n",
    "display(\"sum of all # except divisible by 4 or 7\",sum(numb[a]))\n",
    "\n",
    "#Method 2\n",
    "#Sum=np.cumsum(numb[a])\n",
    "#display(\"the cummulative sum of all the numbers except divi by 4 or 7\",Sum)\n",
    "#display(\"sum of all # from 0-10000 except divisible by 4 or 7\",Sum[len(Sum)-1])"
   ]
  },
  {
   "cell_type": "markdown",
   "metadata": {},
   "source": [
    "## Question 3 (flower petal curve tracing,area, arc length)\n",
    "\n",
    "Consider the flower petal $r(\\theta) = 1+\\frac{3}{4}\\sin(3 \\theta)$ for $0 \\leq \\theta \\leq 2 \\pi$\n",
    "\n",
    "1. Make a plot of the flower (find x and y points)\n",
    "2. Compute the area using the calculus formula $A = \\int_{0}^{2\\pi} \\frac{1}{2} r^2 d\\theta$\n",
    "3. Compute the arclength using the calculus formula $L = \\int_{0}^{2 \\pi} \\sqrt{r^2 + \\left(\\frac{dr}{d\\theta}\\right)^2} d\\theta$"
   ]
  },
  {
   "cell_type": "code",
   "execution_count": 435,
   "metadata": {},
   "outputs": [
    {
     "data": {
      "text/plain": [
       "[<matplotlib.lines.Line2D at 0x7909e9cf56d0>]"
      ]
     },
     "execution_count": 435,
     "metadata": {},
     "output_type": "execute_result"
    },
    {
     "data": {
      "image/png": "[encoded data removed]",
      "text/plain": [
       "<Figure size 350x262.5 with 1 Axes>"
      ]
     },
     "metadata": {},
     "output_type": "display_data"
    }
   ],
   "source": [
    "#1\n",
    "theta=np.linspace(0,2*np.pi,1000)\n",
    "r=1+(3/4)*np.sin(3*theta)\n",
    "#plt.plot(theta,r) WRONG CUZ PLOT IS NOT DONE ON R,THETA PLANE\n",
    "x=r*np.cos(theta)\n",
    "y=r*np.sin(theta)\n",
    "plt.plot(x,y)\n"
   ]
  },
  {
   "cell_type": "code",
   "execution_count": 436,
   "metadata": {},
   "outputs": [
    {
     "data": {
      "text/plain": [
       "'the area under the curve'"
      ]
     },
     "metadata": {},
     "output_type": "display_data"
    },
    {
     "data": {
      "image/png": "[encoded data removed]",
      "text/latex": [
       "$\\displaystyle 4.02831032480291$"
      ],
      "text/plain": [
       "np.float64(4.028310324802908)"
      ]
     },
     "metadata": {},
     "output_type": "display_data"
    }
   ],
   "source": [
    "#2\n",
    "A= 1/2 *sum(r**2)*(theta[1]-theta[0])\n",
    "display(\"the area under the curve\",A)\n"
   ]
  },
  {
   "cell_type": "code",
   "execution_count": 437,
   "metadata": {},
   "outputs": [
    {
     "data": {
      "text/plain": [
       "'the arc length of the curve is:'"
      ]
     },
     "metadata": {},
     "output_type": "display_data"
    },
    {
     "data": {
      "image/png": "[encoded data removed]",
      "text/latex": [
       "$\\displaystyle 11.6400215690139$"
      ],
      "text/plain": [
       "np.float64(11.640021569013872)"
      ]
     },
     "metadata": {},
     "output_type": "display_data"
    }
   ],
   "source": [
    "#3 \n",
    "L=sum(np.sqrt(r**2 + (np.gradient(r,theta)**2)))*(theta[1]-theta[0])\n",
    "display(\"the arc length of the curve is:\",L)"
   ]
  },
  {
   "cell_type": "markdown",
   "metadata": {},
   "source": [
    "## Question 4 ($E_{emitted}$ in BB radiation)\n",
    "\n",
    "The power emitted by a blackbody is $P = A \\sigma \\epsilon T^4$. After measuring the temperature of a star you find that $T(t) = T_0 \\frac{1}{1+e^{-kt}}$. Plot the total energy emitted by the star as a function of time using the fact that $E(t) = \\int_{t'=0}^{t'=t} P(t') dt' $\n"
   ]
  },
  {
   "cell_type": "markdown",
   "metadata": {},
   "source": [
    "**Solution**:\\\n",
    "In this formula there are lots of unknown $A,\\sigma,\\epsilon,T_{0}$. If $T=T(t)$ ie time dependent temperature then Power changes with time.\\\n",
    "You can only deal with dimensionless quantities.\\\n",
    "Can't deal with P directly.\\\n",
    "Instead,note  $\\frac{P}{A\\sigma\\epsilon}=T^{4}$ is a kind of uni-dimensional qty.\\\n",
    "division by $T_{0}$ can give us a dimentionless qty\\\n",
    "$$ \\therefore \\frac{P}{A\\sigma\\epsilon T_{0}^{4}}=\\left(\\frac{T}{T_{0}}\\right)^4\\\n",
    "\\implies \\underbrace{\\frac{P}{A\\sigma\\epsilon T_{0}^{4}}}_{P'=\\text{P in coding(ie rescaled dimless qty)}}= \\left( \\frac{1}{1+e^{-kt}}\\right)^4 $$\n"
   ]
  },
  {
   "cell_type": "markdown",
   "metadata": {},
   "source": [
    "this qty is a dim-less qty but, $k$ is still unknown $\\implies$ assume $kt$ to be one qty $\\implies kt=K$ dimensionless \\\n",
    "$kdt=dK$\n"
   ]
  },
  {
   "cell_type": "markdown",
   "metadata": {},
   "source": [
    "$E=\\displaystyle \\int P dt=\\int (A\\sigma\\epsilon T(t)^{4})dt \\implies$ time dependent integral  \n",
    "\n",
    "$\\because\\frac{P}{A\\sigma\\epsilon}=T^{4} \\implies \\frac{P}{A\\sigma\\epsilon T_{0}^{4}}=\\left(\\frac{T}{T_{0}}\\right)^4$\n",
    "\n",
    "$\\frac{E}{A\\sigma\\epsilon T_{0}^4}=\\displaystyle\\int \\frac{P}{A\\sigma\\epsilon T_{0}^4}dt=\\displaystyle\\int \\left(\\frac{T}{T_{0}}\\right)^4 dt=\\int \\left( \\frac{1}{1+e^{-kt}}\\right)^4 dt=\\int \\left( \\frac{1}{1+e^{-K}}\\right)^4 \\frac{dK}{k}\\implies \\underbrace{\\frac{Ek}{A\\sigma\\epsilon T_{0}^4}}_{E'=\\text{E in coding}}=\\int \\left( \\frac{1}{1+e^{-K}}\\right)^4 dK$"
   ]
  },
  {
   "cell_type": "code",
   "execution_count": 438,
   "metadata": {},
   "outputs": [
    {
     "data": {
      "text/plain": [
       "Text(0.5, 1.0, 'math function $\\\\int\\\\frac{1}{1+e^{-x}} dx$ graph')"
      ]
     },
     "execution_count": 438,
     "metadata": {},
     "output_type": "execute_result"
    },
    {
     "data": {
      "image/png": "[encoded data removed]",
      "text/plain": [
       "<Figure size 350x262.5 with 1 Axes>"
      ]
     },
     "metadata": {},
     "output_type": "display_data"
    }
   ],
   "source": [
    "K=np.linspace(0,3,100)  #K=kt\n",
    "dimless_qty=(1/(1+np.exp(-K)))**4  #the massaged integral (that can be handled in python)\n",
    "plt.plot(K,dimless_qty,label=r\" $ P'\\equiv\\frac{P}{A\\sigma\\epsilon T_{0}^{4}}$\")\n",
    "plt.xlabel(r'$kt$',fontsize=20)\n",
    "plt.ylabel(r\"$\\frac{1}{1+e^{-kt}}$\",fontsize=20)\n",
    "plt.title(r\"math function $\\int\\frac{1}{1+e^{-x}} dx$ graph\")"
   ]
  },
  {
   "cell_type": "code",
   "execution_count": 439,
   "metadata": {},
   "outputs": [
    {
     "data": {
      "text/plain": [
       "[<matplotlib.lines.Line2D at 0x7909e9ad07d0>]"
      ]
     },
     "execution_count": 439,
     "metadata": {},
     "output_type": "execute_result"
    },
    {
     "data": {
      "image/png": "[encoded data removed]",
      "text/plain": [
       "<Figure size 350x262.5 with 1 Axes>"
      ]
     },
     "metadata": {},
     "output_type": "display_data"
    }
   ],
   "source": [
    "plt.xlabel(r'$kt$',fontsize=20)\n",
    "plt.ylabel(r'$\\frac{Ek}{A\\sigma\\epsilon T_{0}^4}$',fontsize=20)\n",
    "plt.title(r\"Rescaled Energy integral $\\int\\frac{1}{1+e^{-kt}} d(kt)$ graph\")\n",
    "E=np.cumsum(dimless_qty)*(K[1]-K[0])\n",
    "plt.plot(K,E,label=r\"$E'\\equiv Ek$\")\n"
   ]
  },
  {
   "cell_type": "markdown",
   "metadata": {},
   "source": [
    "_________________\n",
    "# 7. Multi-Dimensional Arrays"
   ]
  },
  {
   "cell_type": "markdown",
   "metadata": {},
   "source": [
    "In order to create multi dimensional arrays, the operations work in a similar way as 1D or 2D\n",
    "- [Reference for array indexing and slicing(section 3)](#3.-Array-Indexing/Slicing/datatypes)"
   ]
  },
  {
   "cell_type": "markdown",
   "metadata": {},
   "source": [
    "## 7.1 Making and modifying a matrix(array) from a list \n",
    "- `np.array[list]` : list $\\rightarrow$ array\n",
    "- `arr.tolist()` : array $\\rightarrow$ list\n",
    "- `array[n][m]`$\\equiv$ `array[n,m]`: select $n^{th}$ row and $m^{th}$ column\n"
   ]
  },
  {
   "cell_type": "code",
   "execution_count": 440,
   "metadata": {},
   "outputs": [
    {
     "data": {
      "text/plain": [
       "'my list'"
      ]
     },
     "metadata": {},
     "output_type": "display_data"
    },
    {
     "data": {
      "image/png": "[encoded data removed]",
      "text/latex": [
       "$\\displaystyle \\left[ \\left[ 1, \\  2, \\  3\\right], \\  \\left[ 4, \\  5, \\  6\\right], \\  \\left[ 7, \\  8, \\  9\\right], \\  \\left[ 10, \\  11, \\  12\\right]\\right]$"
      ],
      "text/plain": [
       "[[1, 2, 3], [4, 5, 6], [7, 8, 9], [10, 11, 12]]"
      ]
     },
     "metadata": {},
     "output_type": "display_data"
    },
    {
     "data": {
      "text/plain": [
       "'matrix built out of the 2d array:'"
      ]
     },
     "metadata": {},
     "output_type": "display_data"
    },
    {
     "data": {
      "text/plain": [
       "array([[ 1,  2,  3],\n",
       "       [ 4,  5,  6],\n",
       "       [ 7,  8,  9],\n",
       "       [10, 11, 12]])"
      ]
     },
     "metadata": {},
     "output_type": "display_data"
    },
    {
     "data": {
      "text/plain": [
       "\"to get back to list from matrix(WON'T WORK)\""
      ]
     },
     "metadata": {},
     "output_type": "display_data"
    },
    {
     "data": {
      "text/plain": [
       "[array([1, 2, 3]), array([4, 5, 6]), array([7, 8, 9]), array([10, 11, 12])]"
      ]
     },
     "metadata": {},
     "output_type": "display_data"
    },
    {
     "data": {
      "text/plain": [
       "'matrix to list'"
      ]
     },
     "metadata": {},
     "output_type": "display_data"
    },
    {
     "data": {
      "image/png": "[encoded data removed]",
      "text/latex": [
       "$\\displaystyle \\left[ \\left[ 1, \\  2, \\  3\\right], \\  \\left[ 4, \\  5, \\  6\\right], \\  \\left[ 7, \\  8, \\  9\\right], \\  \\left[ 10, \\  11, \\  12\\right]\\right]$"
      ],
      "text/plain": [
       "[[1, 2, 3], [4, 5, 6], [7, 8, 9], [10, 11, 12]]"
      ]
     },
     "metadata": {},
     "output_type": "display_data"
    }
   ],
   "source": [
    "my_list2= [[1,2,3,],[4,5,6],[7,8,9],[10,11,12]]\n",
    "display(\"my list\",my_list2)\n",
    "matrix=np.array(my_list2)\n",
    "display(\"matrix built out of the 2d array:\",matrix)\n",
    "display(\"to get back to list from matrix(WON'T WORK)\",list(matrix))  #it will still give an array\n",
    "display(\"matrix to list\",matrix.tolist()) # gives original list\n"
   ]
  },
  {
   "cell_type": "code",
   "execution_count": 441,
   "metadata": {},
   "outputs": [
    {
     "data": {
      "text/plain": [
       "'1st row:'"
      ]
     },
     "metadata": {},
     "output_type": "display_data"
    },
    {
     "data": {
      "text/plain": [
       "array([1, 2, 3])"
      ]
     },
     "metadata": {},
     "output_type": "display_data"
    },
    {
     "data": {
      "text/plain": [
       "'3rd row and 2nd column'"
      ]
     },
     "metadata": {},
     "output_type": "display_data"
    },
    {
     "data": {
      "text/plain": [
       "np.int64(8)"
      ]
     },
     "metadata": {},
     "output_type": "display_data"
    },
    {
     "data": {
      "text/plain": [
       "'3rd row and 2nd column(Another way)'"
      ]
     },
     "metadata": {},
     "output_type": "display_data"
    },
    {
     "data": {
      "text/plain": [
       "np.int64(8)"
      ]
     },
     "metadata": {},
     "output_type": "display_data"
    },
    {
     "data": {
      "text/plain": [
       "'reassign 7 to 100'"
      ]
     },
     "metadata": {},
     "output_type": "display_data"
    },
    {
     "data": {
      "text/plain": [
       "array([[  1,   2,   3],\n",
       "       [  4,   5,   6],\n",
       "       [100,   8,   9],\n",
       "       [ 10,  11,  12]])"
      ]
     },
     "metadata": {},
     "output_type": "display_data"
    },
    {
     "data": {
      "text/plain": [
       "'last column'"
      ]
     },
     "metadata": {},
     "output_type": "display_data"
    },
    {
     "data": {
      "text/plain": [
       "array([ 3,  6,  9, 12])"
      ]
     },
     "metadata": {},
     "output_type": "display_data"
    }
   ],
   "source": [
    "#to take out specific values(rows)\n",
    "display(\"1st row:\",matrix[0])\n",
    "display(\"3rd row and 2nd column\",matrix[2][1])\n",
    "display(\"3rd row and 2nd column(Another way)\",matrix[2,1])\n",
    "matrix[2,0]=100\n",
    "display(\"reassign 7 to 100\",matrix)\n",
    "\n",
    "#to take out specific values(columns)\n",
    "display(\"last column\",matrix[:,2])  # all rows and 3rd column(NOTE:index counting starts from 0)"
   ]
  },
  {
   "cell_type": "code",
   "execution_count": 442,
   "metadata": {},
   "outputs": [
    {
     "data": {
      "text/plain": [
       "array([[4, 6, 4],\n",
       "       [1, 2, 2],\n",
       "       [6, 8, 7]])"
      ]
     },
     "metadata": {},
     "output_type": "display_data"
    },
    {
     "data": {
      "text/plain": [
       "array([[ 8, 12,  8],\n",
       "       [ 2,  4,  4],\n",
       "       [12, 16, 14]])"
      ]
     },
     "metadata": {},
     "output_type": "display_data"
    },
    {
     "data": {
      "text/plain": [
       "array([[0.5       , 0.33333333, 0.5       ],\n",
       "       [2.        , 1.        , 1.        ],\n",
       "       [0.33333333, 0.25      , 0.28571429]])"
      ]
     },
     "metadata": {},
     "output_type": "display_data"
    }
   ],
   "source": [
    "\n",
    "A1=np.array([[4,6,4],[1,2,2],[6,8,7]])   #2d array\n",
    "display((A1))\n",
    "display(2*A1) #component wise\n",
    "display(2/A1)\n"
   ]
  },
  {
   "cell_type": "markdown",
   "metadata": {},
   "source": [
    "## 7.2 Can turn any n-dimensional array to a 1d array using `ravel()`"
   ]
  },
  {
   "cell_type": "code",
   "execution_count": 443,
   "metadata": {},
   "outputs": [
    {
     "data": {
      "text/plain": [
       "'1d version of 2D array'"
      ]
     },
     "metadata": {},
     "output_type": "display_data"
    },
    {
     "data": {
      "text/plain": [
       "array([4, 6, 4, 1, 2, 2, 6, 8, 7])"
      ]
     },
     "metadata": {},
     "output_type": "display_data"
    }
   ],
   "source": [
    "display('1d version of 2D array',A1.ravel()) # it unravels the 2d"
   ]
  },
  {
   "cell_type": "markdown",
   "metadata": {},
   "source": [
    "## 7.3 Boolean indexing,Element indexing and slicing\n",
    "- [rows \"onwards:upto(excluded)\",column \"onwards:upto(excluded)\"]"
   ]
  },
  {
   "cell_type": "code",
   "execution_count": 444,
   "metadata": {},
   "outputs": [
    {
     "data": {
      "text/plain": [
       "'element>5'"
      ]
     },
     "metadata": {},
     "output_type": "display_data"
    },
    {
     "data": {
      "text/plain": [
       "array([[False,  True, False],\n",
       "       [False, False, False],\n",
       "       [ True,  True,  True]])"
      ]
     },
     "metadata": {},
     "output_type": "display_data"
    }
   ],
   "source": [
    "display(\"element>5\",A1>5)"
   ]
  },
  {
   "cell_type": "code",
   "execution_count": 445,
   "metadata": {},
   "outputs": [
    {
     "data": {
      "text/plain": [
       "'2d random array'"
      ]
     },
     "metadata": {},
     "output_type": "display_data"
    },
    {
     "data": {
      "text/plain": [
       "array([[ 1.25177795, -1.39272219,  0.27260486],\n",
       "       [-1.86937793, -0.21580418,  0.94847497],\n",
       "       [-0.22716141,  1.38413087, -1.53172054]])"
      ]
     },
     "metadata": {},
     "output_type": "display_data"
    },
    {
     "data": {
      "text/plain": [
       "''"
      ]
     },
     "metadata": {},
     "output_type": "display_data"
    },
    {
     "data": {
      "text/plain": [
       "array([-1.39272219, -0.22716141,  1.38413087, -1.53172054])"
      ]
     },
     "metadata": {},
     "output_type": "display_data"
    }
   ],
   "source": [
    "A2=np.random.randn(3,3)\n",
    "display(\"2d random array\",A2)\n",
    "display(\"\",A2[A1>5])   #will give elements at position True of A1 \n"
   ]
  },
  {
   "cell_type": "code",
   "execution_count": 446,
   "metadata": {},
   "outputs": [
    {
     "data": {
      "text/plain": [
       "'the 2d array:'"
      ]
     },
     "metadata": {},
     "output_type": "display_data"
    },
    {
     "data": {
      "text/plain": [
       "array([[4, 6, 4],\n",
       "       [1, 2, 2],\n",
       "       [6, 8, 7]])"
      ]
     },
     "metadata": {},
     "output_type": "display_data"
    },
    {
     "data": {
      "text/plain": [
       "'1st row of A1'"
      ]
     },
     "metadata": {},
     "output_type": "display_data"
    },
    {
     "data": {
      "text/plain": [
       "array([4, 6, 4])"
      ]
     },
     "metadata": {},
     "output_type": "display_data"
    },
    {
     "data": {
      "text/plain": [
       "'1st column of A1'"
      ]
     },
     "metadata": {},
     "output_type": "display_data"
    },
    {
     "data": {
      "text/plain": [
       "array([4, 1, 6])"
      ]
     },
     "metadata": {},
     "output_type": "display_data"
    },
    {
     "data": {
      "text/plain": [
       "'3rd column from 2nd row onwards'"
      ]
     },
     "metadata": {},
     "output_type": "display_data"
    },
    {
     "data": {
      "text/plain": [
       "array([2, 7])"
      ]
     },
     "metadata": {},
     "output_type": "display_data"
    },
    {
     "data": {
      "text/plain": [
       "array([[1, 2],\n",
       "       [6, 8]])"
      ]
     },
     "metadata": {},
     "output_type": "display_data"
    }
   ],
   "source": [
    "display(\"the 2d array:\",A1)\n",
    "display(\"1st row of A1\",A1[0])\n",
    "display(\"1st column of A1\",A1[:,0])  # go across all rows and only take 0th element in each  (\"all rows and 0th column\")\n",
    "display(\"3rd column from 2nd row onwards\",A1[1:,2]) #  go across all rows from 2nd onwards and only take  (\"1st row onwards\",2nd column)\n",
    "display(A1[1:,:2])  #from 1st row onwards,upto 1st column(0th and 1st) (\"1st row onwards and upto 1st rown\")"
   ]
  },
  {
   "cell_type": "markdown",
   "metadata": {},
   "source": [
    "# 8.Dealing with 2D functions"
   ]
  },
  {
   "cell_type": "code",
   "execution_count": 447,
   "metadata": {},
   "outputs": [],
   "source": [
    "#Function in 2 dimensions. Try this...(won't work)\n",
    "\n",
    "x=np.linspace(0,10,1000)\n",
    "y=np.linspace(0,10,1000)\n",
    "# z=x**2+y**2  this is like saying z=x^2+x^2 since both x and y are same array\n",
    "# you need to create a mesh/a grid\n",
    "\n"
   ]
  },
  {
   "cell_type": "markdown",
   "metadata": {},
   "source": [
    "## 8.1 Meshgrid function\n",
    "- `meshgrid()` helps coordinatize the space\n",
    "- creates 2D plots $f(x,y)$\n",
    "- generates combinations of 2 or more numbers \\\n",
    "**example with small sample**"
   ]
  },
  {
   "cell_type": "code",
   "execution_count": 448,
   "metadata": {},
   "outputs": [
    {
     "data": {
      "text/plain": [
       "'array x and array y are:'"
      ]
     },
     "metadata": {},
     "output_type": "display_data"
    },
    {
     "data": {
      "text/plain": [
       "array([0., 1., 2.])"
      ]
     },
     "metadata": {},
     "output_type": "display_data"
    },
    {
     "data": {
      "text/plain": [
       "array([0., 1., 2.])"
      ]
     },
     "metadata": {},
     "output_type": "display_data"
    },
    {
     "data": {
      "text/plain": [
       "'mesh grid xv and yv created :'"
      ]
     },
     "metadata": {},
     "output_type": "display_data"
    },
    {
     "data": {
      "text/plain": [
       "(array([[0., 1., 2.],\n",
       "        [0., 1., 2.],\n",
       "        [0., 1., 2.]]),\n",
       " array([[0., 0., 0.],\n",
       "        [1., 1., 1.],\n",
       "        [2., 2., 2.]]))"
      ]
     },
     "metadata": {},
     "output_type": "display_data"
    },
    {
     "data": {
      "text/plain": [
       "'the x values on meshgrid: WHERE YOU ARE ON X AXIS'"
      ]
     },
     "metadata": {},
     "output_type": "display_data"
    },
    {
     "data": {
      "text/plain": [
       "array([[0., 1., 2.],\n",
       "       [0., 1., 2.],\n",
       "       [0., 1., 2.]])"
      ]
     },
     "metadata": {},
     "output_type": "display_data"
    },
    {
     "data": {
      "text/plain": [
       "'the y values on meshgrid: WHERE YOU ARE ON Y AXIS'"
      ]
     },
     "metadata": {},
     "output_type": "display_data"
    },
    {
     "data": {
      "text/plain": [
       "array([[0., 0., 0.],\n",
       "       [1., 1., 1.],\n",
       "       [2., 2., 2.]])"
      ]
     },
     "metadata": {},
     "output_type": "display_data"
    }
   ],
   "source": [
    "x=np.linspace(0,2,3)\n",
    "y=np.linspace(0,2,3)\n",
    "display(\"array x and array y are:\",x,y)\n",
    "display(\"mesh grid xv and yv created :\",np.meshgrid(x,y))\n",
    "display(\"the x values on meshgrid: WHERE YOU ARE ON X AXIS\",np.meshgrid(x,y)[0])  # b is set to 0(I'm on a axis)\n",
    "display(\"the y values on meshgrid: WHERE YOU ARE ON Y AXIS\",np.meshgrid(x,y)[1])"
   ]
  },
  {
   "cell_type": "code",
   "execution_count": 449,
   "metadata": {},
   "outputs": [
    {
     "data": {
      "text/plain": [
       "array([[0., 1., 4.],\n",
       "       [1., 2., 5.],\n",
       "       [4., 5., 8.]])"
      ]
     },
     "execution_count": 449,
     "metadata": {},
     "output_type": "execute_result"
    },
    {
     "data": {
      "image/png": "[encoded data removed]",
      "text/plain": [
       "<Figure size 350x262.5 with 2 Axes>"
      ]
     },
     "metadata": {},
     "output_type": "display_data"
    }
   ],
   "source": [
    "#example 1\n",
    "xv,yv=np.meshgrid(x,y)  #easy to visualize in small numbers\n",
    "zv=xv**2+yv**2\n",
    "plt.contourf(xv,yv,zv,levels=30)  #levels means strips to spread it out more\n",
    "plt.colorbar()\n",
    "zv"
   ]
  },
  {
   "cell_type": "markdown",
   "metadata": {},
   "source": [
    "### 8.1.1 pcolormesh()\n",
    "\n",
    "`pcolormesh(xmeshgrid,ymeshgrid,f)` is typically preferred to plot 2d function. Other methods are : `imshow()`, `pcolor()`\n",
    "\n",
    "- example (gaussian decay)\n",
    "$f(x,y)=e^{-(x^2+y^2)} : -2\\leq x\\leq 2 , -1\\leq y\\leq 1$"
   ]
  },
  {
   "cell_type": "code",
   "execution_count": 450,
   "metadata": {},
   "outputs": [
    {
     "data": {
      "text/plain": [
       "<matplotlib.colorbar.Colorbar at 0x7909e9723d90>"
      ]
     },
     "execution_count": 450,
     "metadata": {},
     "output_type": "execute_result"
    },
    {
     "data": {
      "image/png": "[encoded data removed]",
      "text/plain": [
       "<Figure size 600x400 with 2 Axes>"
      ]
     },
     "metadata": {},
     "output_type": "display_data"
    }
   ],
   "source": [
    "#example 2 (Gaussian decay)\n",
    "x=np.linspace(-2,2,100)\n",
    "y=np.linspace(-1,1,100)\n",
    "xv,yv=np.meshgrid(x,y)\n",
    "func=np.exp(-xv**2-yv**2)\n",
    "plt.figure(figsize=(6,4))\n",
    "plt.pcolormesh(xv,yv,func,)\n",
    "plt.title(r'$f(x,y)=e^{-(x^2+y^2)} : -2\\leq x\\leq 2 , -1\\leq y\\leq 1$')\n",
    "plt.colorbar()"
   ]
  },
  {
   "cell_type": "markdown",
   "metadata": {},
   "source": [
    "### 8.1.2 Circular masks \n",
    "for a given image, to study a specific region it is a very helpful tool to create a mask \n",
    "\n",
    "Example:\n",
    "- $f(x,y) = \\begin{cases}  1 &  x^2+y^2 <1 \\\\ 0 & x^2+y^2\\geq1  \n",
    "            \\end {cases} $  : for $-5\\leq x\\leq 5 $ and $-5\\leq y \\leq 5$"
   ]
  },
  {
   "cell_type": "code",
   "execution_count": 451,
   "metadata": {},
   "outputs": [
    {
     "data": {
      "text/plain": [
       "<matplotlib.colorbar.Colorbar at 0x7909e96f8f50>"
      ]
     },
     "execution_count": 451,
     "metadata": {},
     "output_type": "execute_result"
    },
    {
     "data": {
      "image/png": "[encoded data removed]",
      "text/plain": [
       "<Figure size 400x300 with 2 Axes>"
      ]
     },
     "metadata": {},
     "output_type": "display_data"
    }
   ],
   "source": [
    "x=np.linspace(-5,5,500)\n",
    "y=np.linspace(-5,5,500)\n",
    "xv,yv=np.meshgrid(x,y)\n",
    "func2= (xv**2+yv**2<1) # gives a boolean array with T/F : T where condition is satisfied and F otherwise\n",
    "func2=(xv**2+yv**2<1).astype(float)  #converts the boolean array to a floating number type array (1s and 0s)\n",
    "plt.figure(figsize=(4,3))\n",
    "plt.pcolormesh(xv,yv,func2)\n",
    "plt.colorbar()"
   ]
  },
  {
   "cell_type": "markdown",
   "metadata": {},
   "source": [
    "# 9. Important Concept of Axes\n",
    "- Order of 3D array(#of 2D arrays,Row,Column)\n",
    "- Order of 2D array (Row,column)\n",
    "\n",
    "for 1D array\n",
    ">- `transpose(array)`: it reverses the order/shuffles the dimensions of array in reverse order (NO AXES,by default)\n",
    "\n",
    "for 2D array\n",
    ">- `tranpose(array,axes=(0,1))`: no tranpose  (counting goes 0,1,2..) notation: (row,col)$\\implies$row=0th and column=1st\n",
    ">- `tranpose(array,axes=(1,0))`: tranpose row and columns\n",
    ">- `swapaxes(array,axis1=1,axis2=0)`: to swap axis1(rows) and axis2(columns) \n",
    ">\n",
    "\n",
    "for 3D array\n",
    ">- if shape/order is (a,b,c)$\\implies$ a(0th) 2d matrices each with b(1st) rows and c(2nd) columns. \\\n",
    " To get b 2d matrices each with c columns and a rows $\\implies$ shape = (b,c,a) $\\implies$ axes=(1,2,0)\n",
    ">- `tranpose(array,axes=(0,1))`: no tranpose`\n",
    ">- `swapaxes(array,axis1,axis2)`"
   ]
  },
  {
   "cell_type": "markdown",
   "metadata": {},
   "source": [
    "## 9.1 transpose(matrix,axes=none)"
   ]
  },
  {
   "cell_type": "code",
   "execution_count": 452,
   "metadata": {},
   "outputs": [
    {
     "data": {
      "text/plain": [
       "'given 1d array/vector is:A='"
      ]
     },
     "metadata": {},
     "output_type": "display_data"
    },
    {
     "data": {
      "text/plain": [
       "array([ 1,  2,  3,  4,  5,  6,  7,  8,  9, 10])"
      ]
     },
     "metadata": {},
     "output_type": "display_data"
    },
    {
     "data": {
      "text/plain": [
       "'the reshaped matrix:M1'"
      ]
     },
     "metadata": {},
     "output_type": "display_data"
    },
    {
     "data": {
      "text/plain": [
       "array([[ 1,  2],\n",
       "       [ 3,  4],\n",
       "       [ 5,  6],\n",
       "       [ 7,  8],\n",
       "       [ 9, 10]])"
      ]
     },
     "metadata": {},
     "output_type": "display_data"
    },
    {
     "data": {
      "text/plain": [
       "'the shape of M1:'"
      ]
     },
     "metadata": {},
     "output_type": "display_data"
    },
    {
     "data": {
      "image/png": "[encoded data removed]",
      "text/latex": [
       "$\\displaystyle \\left( 5, \\  2\\right)$"
      ],
      "text/plain": [
       "(5, 2)"
      ]
     },
     "metadata": {},
     "output_type": "display_data"
    },
    {
     "data": {
      "text/plain": [
       "'the transpose of M1 matrix is:'"
      ]
     },
     "metadata": {},
     "output_type": "display_data"
    },
    {
     "data": {
      "text/plain": [
       "array([[ 1,  3,  5,  7,  9],\n",
       "       [ 2,  4,  6,  8, 10]])"
      ]
     },
     "metadata": {},
     "output_type": "display_data"
    },
    {
     "data": {
      "text/plain": [
       "'the shape of transpose of M1:'"
      ]
     },
     "metadata": {},
     "output_type": "display_data"
    },
    {
     "data": {
      "image/png": "[encoded data removed]",
      "text/latex": [
       "$\\displaystyle \\left( 2, \\  5\\right)$"
      ],
      "text/plain": [
       "(2, 5)"
      ]
     },
     "metadata": {},
     "output_type": "display_data"
    },
    {
     "data": {
      "text/plain": [
       "<function ndarray.transpose>"
      ]
     },
     "execution_count": 452,
     "metadata": {},
     "output_type": "execute_result"
    }
   ],
   "source": [
    "#example1\n",
    "arr1=np.arange(1,11)\n",
    "display(\"given 1d array/vector is:A=\",arr1)\n",
    "M1=arr1.reshape(5,2)  # array reshaped as 5x2 matrix\n",
    "display(\"the reshaped matrix:M1\",M1)  \n",
    "display(\"the shape of M1:\",M1.shape)\n",
    "display('the transpose of M1 matrix is:',M1.T)\n",
    "display('the shape of transpose of M1:',(M1.T).shape)\n",
    "a.transpose"
   ]
  },
  {
   "cell_type": "code",
   "execution_count": 453,
   "metadata": {},
   "outputs": [
    {
     "data": {
      "text/plain": [
       "'the 1d array A:'"
      ]
     },
     "metadata": {},
     "output_type": "display_data"
    },
    {
     "data": {
      "text/plain": [
       "array([ 1,  2,  3,  4,  5,  6,  7,  8,  9, 10, 11, 12, 13, 14, 15, 16, 17,\n",
       "       18, 19, 20, 21, 22, 23, 24])"
      ]
     },
     "metadata": {},
     "output_type": "display_data"
    },
    {
     "data": {
      "text/plain": [
       "'reshaped A into 2x3x4'"
      ]
     },
     "metadata": {},
     "output_type": "display_data"
    },
    {
     "data": {
      "text/plain": [
       "array([[[ 1,  2,  3,  4],\n",
       "        [ 5,  6,  7,  8],\n",
       "        [ 9, 10, 11, 12]],\n",
       "\n",
       "       [[13, 14, 15, 16],\n",
       "        [17, 18, 19, 20],\n",
       "        [21, 22, 23, 24]]])"
      ]
     },
     "metadata": {},
     "output_type": "display_data"
    },
    {
     "data": {
      "text/plain": [
       "'the transpose of above matrix is:'"
      ]
     },
     "metadata": {},
     "output_type": "display_data"
    },
    {
     "data": {
      "text/plain": [
       "array([[[ 1, 13],\n",
       "        [ 5, 17],\n",
       "        [ 9, 21]],\n",
       "\n",
       "       [[ 2, 14],\n",
       "        [ 6, 18],\n",
       "        [10, 22]],\n",
       "\n",
       "       [[ 3, 15],\n",
       "        [ 7, 19],\n",
       "        [11, 23]],\n",
       "\n",
       "       [[ 4, 16],\n",
       "        [ 8, 20],\n",
       "        [12, 24]]])"
      ]
     },
     "metadata": {},
     "output_type": "display_data"
    },
    {
     "data": {
      "text/plain": [
       "'the shape of the matrix above:'"
      ]
     },
     "metadata": {},
     "output_type": "display_data"
    },
    {
     "data": {
      "image/png": "[encoded data removed]",
      "text/latex": [
       "$\\displaystyle \\left( 4, \\  3, \\  2\\right)$"
      ],
      "text/plain": [
       "(4, 3, 2)"
      ]
     },
     "metadata": {},
     "output_type": "display_data"
    }
   ],
   "source": [
    "#Example 2: (3D array)\n",
    "a=np.arange(1,25)      #arrange/create 24 numbers in a row(ready to be converted)\n",
    "display(\"the 1d array A:\",a)\n",
    "a_resha=a.reshape(2,3,4)  # 2 2D array with each array having 3 rows and 4 columns \n",
    "display(\"reshaped A into 2x3x4\",a_resha)\n",
    "a_trans=a_resha.T  #transpose will reverse the order of matrix => (4,3,2) = 4 2d arrays with each having 3 rows and 2 columns\n",
    "display(\"the transpose of above matrix is:\",a_trans)\n",
    "display(\"the shape of the matrix above:\",a_trans.shape)"
   ]
  },
  {
   "cell_type": "markdown",
   "metadata": {},
   "source": [
    "## 9.2 transpose(matrix,axes=val)\n"
   ]
  },
  {
   "cell_type": "markdown",
   "metadata": {},
   "source": [
    "### 9.2.1 2D array\n",
    "> In the example below: there is a matrix with 5 rows and 2 columns $\\implies$ shape=(5,2) \\\n",
    "> numbering of axes as follows: axes 0 = 5(row-th) and axes 1 = 2(column-th) \\\n",
    "> axes=(0,1)$\\implies$ shape=(5,2) $\\implies$ no change/no transpose\\\n",
    "> axes=(1,0)$\\implies$ shape=(2,5): it is set by default in the transpose function\n"
   ]
  },
  {
   "cell_type": "code",
   "execution_count": 454,
   "metadata": {},
   "outputs": [
    {
     "data": {
      "text/plain": [
       "'the matrix given:'"
      ]
     },
     "metadata": {},
     "output_type": "display_data"
    },
    {
     "data": {
      "text/plain": [
       "array([[ 1,  2],\n",
       "       [ 3,  4],\n",
       "       [ 5,  6],\n",
       "       [ 7,  8],\n",
       "       [ 9, 10]])"
      ]
     },
     "metadata": {},
     "output_type": "display_data"
    },
    {
     "data": {
      "text/plain": [
       "'transpose of matrix'"
      ]
     },
     "metadata": {},
     "output_type": "display_data"
    },
    {
     "data": {
      "text/plain": [
       "array([[ 1,  3,  5,  7,  9],\n",
       "       [ 2,  4,  6,  8, 10]])"
      ]
     },
     "metadata": {},
     "output_type": "display_data"
    },
    {
     "data": {
      "text/plain": [
       "'transpose of matrix axes=(1,0)'"
      ]
     },
     "metadata": {},
     "output_type": "display_data"
    },
    {
     "data": {
      "text/plain": [
       "array([[ 1,  3,  5,  7,  9],\n",
       "       [ 2,  4,  6,  8, 10]])"
      ]
     },
     "metadata": {},
     "output_type": "display_data"
    },
    {
     "data": {
      "text/plain": [
       "'transpose of matrix axes=(0,1)'"
      ]
     },
     "metadata": {},
     "output_type": "display_data"
    },
    {
     "data": {
      "text/plain": [
       "array([[ 1,  2],\n",
       "       [ 3,  4],\n",
       "       [ 5,  6],\n",
       "       [ 7,  8],\n",
       "       [ 9, 10]])"
      ]
     },
     "metadata": {},
     "output_type": "display_data"
    }
   ],
   "source": [
    "a=np.arange(1,11)\n",
    "a_matrix=a.reshape(5,2)\n",
    "display(\"the matrix given:\",a_matrix)\n",
    "display(\"transpose of matrix\",np.transpose(a_matrix))  #transpose of the matrix/axes=1,0 by default\n",
    "display(\"transpose of matrix axes=(1,0)\",np.transpose(a_matrix,axes=(1,0)))\n",
    "display(\"transpose of matrix axes=(0,1)\",np.transpose(a_matrix,axes=(0,1)))  #doesn't do anything\n"
   ]
  },
  {
   "cell_type": "markdown",
   "metadata": {},
   "source": [
    "### 9.2.2 3D array\n",
    "\n",
    ">The example below there are 2 2D matrices each with 3 rows and 4 columns  $\\implies$ shape = (2,3,4) \\\n",
    "Numbering of axes as follows: axis 0 = 2, axis 1 = 3,axis 2 = 4\\\n",
    "to transpose it into 3 2d arrays each with 4 rows and 2 columns $\\implies$ shape=(3,4,2)\\\n",
    "transpose will take axes=(1,2,0) as a parameter"
   ]
  },
  {
   "cell_type": "code",
   "execution_count": 455,
   "metadata": {},
   "outputs": [
    {
     "data": {
      "text/plain": [
       "'the array given:'"
      ]
     },
     "metadata": {},
     "output_type": "display_data"
    },
    {
     "data": {
      "text/plain": [
       "array([[[ 1,  2,  3,  4],\n",
       "        [ 5,  6,  7,  8],\n",
       "        [ 9, 10, 11, 12]],\n",
       "\n",
       "       [[13, 14, 15, 16],\n",
       "        [17, 18, 19, 20],\n",
       "        [21, 22, 23, 24]]])"
      ]
     },
     "metadata": {},
     "output_type": "display_data"
    },
    {
     "data": {
      "text/plain": [
       "array([[[ 1, 13],\n",
       "        [ 2, 14],\n",
       "        [ 3, 15],\n",
       "        [ 4, 16]],\n",
       "\n",
       "       [[ 5, 17],\n",
       "        [ 6, 18],\n",
       "        [ 7, 19],\n",
       "        [ 8, 20]],\n",
       "\n",
       "       [[ 9, 21],\n",
       "        [10, 22],\n",
       "        [11, 23],\n",
       "        [12, 24]]])"
      ]
     },
     "metadata": {},
     "output_type": "display_data"
    }
   ],
   "source": [
    "a1= np.arange(1,25).reshape(2,3,4)  #2 2d array each with 3 rows and 4 columns\n",
    "display(\"the array given:\",a1)\n",
    "\n",
    "# To create 3 2D arrays each with 4 rows and 2 columns => reshape as (3,4,2)\n",
    "display(np.transpose(a1,axes=(1,2,0)))"
   ]
  },
  {
   "cell_type": "markdown",
   "metadata": {},
   "source": [
    "## 9.3 Swapaxes() concept\n",
    "> to interchange the 2 dimensions or the axes of the array\\\n",
    "> `np.swapaxes(array,axis1,axis2)`"
   ]
  },
  {
   "cell_type": "markdown",
   "metadata": {},
   "source": [
    "### 9.3.1 2D array\n",
    "- there is a NxM matrix $\\implies$ shape=(N,M) $\\implies$ Axis 0 = N and Axis 1 = M\n",
    "- swapaxes will swap the axis 0 and 1 and change the shape = (M,N) $\\implies$ axis 0 = M and axis 1 = N"
   ]
  },
  {
   "cell_type": "code",
   "execution_count": 456,
   "metadata": {},
   "outputs": [
    {
     "data": {
      "text/plain": [
       "'the matrix given:'"
      ]
     },
     "metadata": {},
     "output_type": "display_data"
    },
    {
     "data": {
      "text/plain": [
       "array([[ 1,  2,  3,  4,  5],\n",
       "       [ 6,  7,  8,  9, 10]])"
      ]
     },
     "metadata": {},
     "output_type": "display_data"
    },
    {
     "data": {
      "text/plain": [
       "'the swaping of the 2 axis gives:'"
      ]
     },
     "metadata": {},
     "output_type": "display_data"
    },
    {
     "data": {
      "text/plain": [
       "array([[ 1,  6],\n",
       "       [ 2,  7],\n",
       "       [ 3,  8],\n",
       "       [ 4,  9],\n",
       "       [ 5, 10]])"
      ]
     },
     "metadata": {},
     "output_type": "display_data"
    }
   ],
   "source": [
    "a=np.arange(1,11)\n",
    "a1=a.reshape(2,5)\n",
    "display(\"the matrix given:\",a1)\n",
    "display(\"the swaping of the 2 axis gives:\",np.swapaxes(a1,1,0))"
   ]
  },
  {
   "cell_type": "markdown",
   "metadata": {},
   "source": [
    "### 9.3.2 3D array\n"
   ]
  },
  {
   "cell_type": "code",
   "execution_count": 457,
   "metadata": {},
   "outputs": [
    {
     "data": {
      "text/plain": [
       "'the given 3d array is:'"
      ]
     },
     "metadata": {},
     "output_type": "display_data"
    },
    {
     "data": {
      "text/plain": [
       "array([[[ 1,  2,  3,  4],\n",
       "        [ 5,  6,  7,  8],\n",
       "        [ 9, 10, 11, 12]],\n",
       "\n",
       "       [[13, 14, 15, 16],\n",
       "        [17, 18, 19, 20],\n",
       "        [21, 22, 23, 24]]])"
      ]
     },
     "metadata": {},
     "output_type": "display_data"
    },
    {
     "data": {
      "text/plain": [
       "'x components are:'"
      ]
     },
     "metadata": {},
     "output_type": "display_data"
    },
    {
     "data": {
      "text/plain": [
       "array([[ 1,  2,  3,  4],\n",
       "       [ 5,  6,  7,  8],\n",
       "       [ 9, 10, 11, 12]])"
      ]
     },
     "metadata": {},
     "output_type": "display_data"
    },
    {
     "data": {
      "text/plain": [
       "'y components are:'"
      ]
     },
     "metadata": {},
     "output_type": "display_data"
    },
    {
     "data": {
      "text/plain": [
       "array([[13, 14, 15, 16],\n",
       "       [17, 18, 19, 20],\n",
       "       [21, 22, 23, 24]])"
      ]
     },
     "metadata": {},
     "output_type": "display_data"
    },
    {
     "data": {
      "text/plain": [
       "'swap rows and columns '"
      ]
     },
     "metadata": {},
     "output_type": "display_data"
    },
    {
     "data": {
      "text/plain": [
       "array([[[ 1,  5,  9],\n",
       "        [ 2,  6, 10],\n",
       "        [ 3,  7, 11],\n",
       "        [ 4,  8, 12]],\n",
       "\n",
       "       [[13, 17, 21],\n",
       "        [14, 18, 22],\n",
       "        [15, 19, 23],\n",
       "        [16, 20, 24]]])"
      ]
     },
     "metadata": {},
     "output_type": "display_data"
    },
    {
     "data": {
      "image/png": "[encoded data removed]",
      "text/latex": [
       "$\\displaystyle \\left( 2, \\  4, \\  3\\right)$"
      ],
      "text/plain": [
       "(2, 4, 3)"
      ]
     },
     "metadata": {},
     "output_type": "display_data"
    }
   ],
   "source": [
    "#simple swap\n",
    "a2=np.arange(1,25)\n",
    "a2_new=a2.reshape(2,3,4)  # axis0=2,axis1=3(3 rows),axis2=4(4 coumns)\n",
    "display(\"the given 3d array is:\",a2_new)\n",
    "display(\"x components are:\",a2_new[0])\n",
    "display(\"y components are:\",a2_new[1])\n",
    "display(\"swap rows and columns \",np.swapaxes(a2_new,1,2))  #to swaps rows and columns => swap axis 1 and 2 => the shape will change to (2,4,3)\n",
    "display(np.swapaxes(a2_new,1,2).shape)  "
   ]
  },
  {
   "cell_type": "markdown",
   "metadata": {},
   "source": [
    "<div class=\"alert alert-block alert-warning\"><b>another example(bit trick swap):</b>  USED IN SECTION 13 QUESTION 3 </div> "
   ]
  },
  {
   "cell_type": "code",
   "execution_count": 458,
   "metadata": {},
   "outputs": [
    {
     "data": {
      "text/plain": [
       "'swap such that (x,y) tuple is achieved'"
      ]
     },
     "metadata": {},
     "output_type": "display_data"
    },
    {
     "data": {
      "text/plain": [
       "array([[[ 1, 13],\n",
       "        [ 5, 17],\n",
       "        [ 9, 21]],\n",
       "\n",
       "       [[ 2, 14],\n",
       "        [ 6, 18],\n",
       "        [10, 22]],\n",
       "\n",
       "       [[ 3, 15],\n",
       "        [ 7, 19],\n",
       "        [11, 23]],\n",
       "\n",
       "       [[ 4, 16],\n",
       "        [ 8, 20],\n",
       "        [12, 24]]])"
      ]
     },
     "metadata": {},
     "output_type": "display_data"
    }
   ],
   "source": [
    "display(\"swap such that (x,y) tuple is achieved\",np.swapaxes(a2_new,0,2))  #swap 0 and 2 axis (#of arrays and column axis)"
   ]
  },
  {
   "cell_type": "markdown",
   "metadata": {},
   "source": [
    "## 9.4 aggregate functions with axis\n",
    "one can pin point the specific row or column on which to perform a statistical operation (mean,sum,max,etc...)"
   ]
  },
  {
   "cell_type": "code",
   "execution_count": 459,
   "metadata": {},
   "outputs": [
    {
     "data": {
      "text/plain": [
       "'3x4 matrix M:'"
      ]
     },
     "metadata": {},
     "output_type": "display_data"
    },
    {
     "data": {
      "text/plain": [
       "array([[7, 8, 7, 3],\n",
       "       [4, 5, 2, 3],\n",
       "       [0, 4, 3, 4]])"
      ]
     },
     "metadata": {},
     "output_type": "display_data"
    },
    {
     "data": {
      "text/plain": [
       "'sum of all entries:'"
      ]
     },
     "metadata": {},
     "output_type": "display_data"
    },
    {
     "data": {
      "text/plain": [
       "np.int64(50)"
      ]
     },
     "metadata": {},
     "output_type": "display_data"
    },
    {
     "data": {
      "text/plain": [
       "'sum of 0th,1st,2nd rows:'"
      ]
     },
     "metadata": {},
     "output_type": "display_data"
    },
    {
     "data": {
      "text/plain": [
       "array([25, 14, 11])"
      ]
     },
     "metadata": {},
     "output_type": "display_data"
    },
    {
     "data": {
      "text/plain": [
       "'sum of 2nd row'"
      ]
     },
     "metadata": {},
     "output_type": "display_data"
    },
    {
     "data": {
      "text/plain": [
       "np.int64(11)"
      ]
     },
     "metadata": {},
     "output_type": "display_data"
    },
    {
     "data": {
      "text/plain": [
       "'sum of 3rd column'"
      ]
     },
     "metadata": {},
     "output_type": "display_data"
    },
    {
     "data": {
      "text/plain": [
       "np.int64(12)"
      ]
     },
     "metadata": {},
     "output_type": "display_data"
    },
    {
     "data": {
      "text/plain": [
       "'mean of all rows'"
      ]
     },
     "metadata": {},
     "output_type": "display_data"
    },
    {
     "data": {
      "text/plain": [
       "array([6.25, 3.5 , 2.75])"
      ]
     },
     "metadata": {},
     "output_type": "display_data"
    },
    {
     "data": {
      "text/plain": [
       "'mean of all columns'"
      ]
     },
     "metadata": {},
     "output_type": "display_data"
    },
    {
     "data": {
      "text/plain": [
       "array([3.66666667, 5.66666667, 4.        , 3.33333333])"
      ]
     },
     "metadata": {},
     "output_type": "display_data"
    },
    {
     "data": {
      "text/plain": [
       "'max of all column values'"
      ]
     },
     "metadata": {},
     "output_type": "display_data"
    },
    {
     "data": {
      "text/plain": [
       "array([7, 8, 7, 4])"
      ]
     },
     "metadata": {},
     "output_type": "display_data"
    }
   ],
   "source": [
    "Mr1=np.array([[7,8,7,3],[4,5,2,3],[0,4,3,4]])\n",
    "display(\"3x4 matrix M:\",Mr1)\n",
    "display(\"sum of all entries:\",np.sum(Mr1))  # sum of all the entries\n",
    "display(\"sum of 0th,1st,2nd rows:\",np.sum(Mr1,axis=1))  # sum of the elements in the respective rows\n",
    "display(\"sum of 2nd row\",np.sum(Mr1,axis=1)[2])\n",
    "display(\"sum of 3rd column\",np.sum(Mr1,axis=0)[2])\n",
    "display(\"mean of all rows\",np.mean(Mr1,axis=1))\n",
    "display(\"mean of all columns\",np.mean(Mr1,axis=0))\n",
    "display(\"max of all column values\",np.max(Mr1,axis=0))"
   ]
  },
  {
   "cell_type": "markdown",
   "metadata": {},
   "source": [
    "# 10. Joining arrays\n",
    "1D array\n",
    ">- `np.concatenate(arrays,axis=0)`\n",
    ">- can't join arrays of different dimensions\n",
    "\n",
    "2D array\n",
    ">- `np.concatenate(2 2d arrays,axis=0 or 1)`"
   ]
  },
  {
   "cell_type": "markdown",
   "metadata": {},
   "source": [
    "## 10.1 concatenate()\n",
    "### 10.1.1 1D arrays"
   ]
  },
  {
   "cell_type": "code",
   "execution_count": 460,
   "metadata": {},
   "outputs": [
    {
     "data": {
      "text/plain": [
       "'the 3 1D arrays to be concatenated:'"
      ]
     },
     "metadata": {},
     "output_type": "display_data"
    },
    {
     "data": {
      "text/plain": [
       "array([1, 2, 3, 4])"
      ]
     },
     "metadata": {},
     "output_type": "display_data"
    },
    {
     "data": {
      "text/plain": [
       "array([0, 1, 2, 3, 4, 5])"
      ]
     },
     "metadata": {},
     "output_type": "display_data"
    },
    {
     "data": {
      "text/plain": [
       "array([ 6,  7,  8,  9, 10])"
      ]
     },
     "metadata": {},
     "output_type": "display_data"
    },
    {
     "data": {
      "text/plain": [
       "'Concatenated array:'"
      ]
     },
     "metadata": {},
     "output_type": "display_data"
    },
    {
     "data": {
      "text/plain": [
       "array([ 1,  2,  3,  4,  0,  1,  2,  3,  4,  5,  6,  7,  8,  9, 10])"
      ]
     },
     "metadata": {},
     "output_type": "display_data"
    }
   ],
   "source": [
    "c1=np.arange(1,5)\n",
    "c2=np.arange(6)\n",
    "c3=np.arange(6,11)\n",
    "display(\"the 3 1D arrays to be concatenated:\",c1,c2,c3)\n",
    "display(\"Concatenated array:\",np.concatenate((c1,c2,c3),axis=0))"
   ]
  },
  {
   "cell_type": "markdown",
   "metadata": {},
   "source": [
    "### 10.1.2 2D arrays\n",
    "- dimensions of arrays must be same\n",
    "- check shape of array "
   ]
  },
  {
   "cell_type": "code",
   "execution_count": 461,
   "metadata": {},
   "outputs": [
    {
     "data": {
      "text/plain": [
       "'the 2 2D arrays'"
      ]
     },
     "metadata": {},
     "output_type": "display_data"
    },
    {
     "data": {
      "text/plain": [
       "array([[1, 2],\n",
       "       [3, 4]])"
      ]
     },
     "metadata": {},
     "output_type": "display_data"
    },
    {
     "data": {
      "text/plain": [
       "array([[5, 6]])"
      ]
     },
     "metadata": {},
     "output_type": "display_data"
    },
    {
     "data": {
      "text/plain": [
       "'respective shapes of arrays:'"
      ]
     },
     "metadata": {},
     "output_type": "display_data"
    },
    {
     "data": {
      "image/png": "[encoded data removed]",
      "text/latex": [
       "$\\displaystyle \\left( 2, \\  2\\right)$"
      ],
      "text/plain": [
       "(2, 2)"
      ]
     },
     "metadata": {},
     "output_type": "display_data"
    },
    {
     "data": {
      "image/png": "[encoded data removed]",
      "text/latex": [
       "$\\displaystyle \\left( 1, \\  2\\right)$"
      ],
      "text/plain": [
       "(1, 2)"
      ]
     },
     "metadata": {},
     "output_type": "display_data"
    },
    {
     "data": {
      "text/plain": [
       "'concatenated along axis 0'"
      ]
     },
     "metadata": {},
     "output_type": "display_data"
    },
    {
     "data": {
      "text/plain": [
       "array([[1, 2],\n",
       "       [3, 4],\n",
       "       [5, 6]])"
      ]
     },
     "metadata": {},
     "output_type": "display_data"
    },
    {
     "data": {
      "text/plain": [
       "'concatenated along axis 1,'"
      ]
     },
     "metadata": {},
     "output_type": "display_data"
    },
    {
     "data": {
      "text/plain": [
       "array([[1, 2, 5],\n",
       "       [3, 4, 6]])"
      ]
     },
     "metadata": {},
     "output_type": "display_data"
    }
   ],
   "source": [
    "c4=np.array([[1,2],[3,4]])\n",
    "c5=np.array([[5,6]])\n",
    "display(\"the 2 2D arrays\",c4,c5)\n",
    "display(\"respective shapes of arrays:\",c4.shape,c5.shape)\n",
    "display(\"concatenated along axis 0\",np.concatenate((c4,c5),axis=0))\n",
    "display(\"concatenated along axis 1,\",np.concatenate((c4,c5.T),axis=1)) # c5(2x2) can't stick to c4 unless you transpose it to make it 2x1"
   ]
  },
  {
   "cell_type": "markdown",
   "metadata": {},
   "source": [
    "## 10.2 vstack()\n",
    "- `np.vstack(tuple of arrays)` : stack 2 arrays vertically\n",
    "- `np.vstack`$\\equiv$ `np.concatenate(axis=0)`"
   ]
  },
  {
   "cell_type": "markdown",
   "metadata": {},
   "source": [
    "### 10.2.1 1D array  \n",
    "- to vstack 1D arrays they must be of same size\n",
    "- vstack of 1D arrays give a  <mark>2D array\n",
    "\n"
   ]
  },
  {
   "cell_type": "code",
   "execution_count": 462,
   "metadata": {},
   "outputs": [
    {
     "data": {
      "text/plain": [
       "'3 1D arrays'"
      ]
     },
     "metadata": {},
     "output_type": "display_data"
    },
    {
     "data": {
      "text/plain": [
       "array([1, 2, 3, 4, 5])"
      ]
     },
     "metadata": {},
     "output_type": "display_data"
    },
    {
     "data": {
      "text/plain": [
       "array([ 6,  7,  8,  9, 10])"
      ]
     },
     "metadata": {},
     "output_type": "display_data"
    },
    {
     "data": {
      "text/plain": [
       "array([11, 12, 13, 14, 15, 16])"
      ]
     },
     "metadata": {},
     "output_type": "display_data"
    },
    {
     "data": {
      "text/plain": [
       "'stack'"
      ]
     },
     "metadata": {},
     "output_type": "display_data"
    },
    {
     "data": {
      "text/plain": [
       "array([[ 1,  2,  3,  4,  5],\n",
       "       [ 6,  7,  8,  9, 10]])"
      ]
     },
     "metadata": {},
     "output_type": "display_data"
    }
   ],
   "source": [
    "c6=np.arange(1,6) #size=5\n",
    "c7=np.arange(6,11)  #size=6\n",
    "c8=np.arange(11,17) #size=6\n",
    "display(\"3 1D arrays\",c6,c7,c8)\n",
    "display(\"stack\",np.vstack((c6,c7))) \n",
    "        "
   ]
  },
  {
   "cell_type": "markdown",
   "metadata": {},
   "source": [
    "### 10.2.2 2D array\n"
   ]
  },
  {
   "cell_type": "code",
   "execution_count": 463,
   "metadata": {},
   "outputs": [
    {
     "data": {
      "text/plain": [
       "'the 2 arrays are:'"
      ]
     },
     "metadata": {},
     "output_type": "display_data"
    },
    {
     "data": {
      "text/plain": [
       "array([[1, 2],\n",
       "       [3, 4]])"
      ]
     },
     "metadata": {},
     "output_type": "display_data"
    },
    {
     "data": {
      "text/plain": [
       "array([[5, 6]])"
      ]
     },
     "metadata": {},
     "output_type": "display_data"
    },
    {
     "data": {
      "text/plain": [
       "'vstacked array:'"
      ]
     },
     "metadata": {},
     "output_type": "display_data"
    },
    {
     "data": {
      "text/plain": [
       "array([[1, 2],\n",
       "       [3, 4],\n",
       "       [5, 6]])"
      ]
     },
     "metadata": {},
     "output_type": "display_data"
    }
   ],
   "source": [
    "c9=np.array([[1,2],[3,4]])\n",
    "c10=np.array([[5,6]])\n",
    "display(\"the 2 arrays are:\",c9,c10)\n",
    "display(\"vstacked array:\",np.vstack((c9,c10)))"
   ]
  },
  {
   "cell_type": "markdown",
   "metadata": {},
   "source": [
    "## 10.3 hstack()\n",
    "- `np.hstack((tuple of arrays))`\n",
    "- for 1D array : axis=0\n",
    "- for 2D and above : axis = 1 (BY DEFAULT)\n",
    "- hstack of 1D array is a 1D array"
   ]
  },
  {
   "cell_type": "code",
   "execution_count": 464,
   "metadata": {},
   "outputs": [
    {
     "data": {
      "text/plain": [
       "'the 2 1D arrays are:'"
      ]
     },
     "metadata": {},
     "output_type": "display_data"
    },
    {
     "data": {
      "text/plain": [
       "array([1, 2, 3, 4, 5])"
      ]
     },
     "metadata": {},
     "output_type": "display_data"
    },
    {
     "data": {
      "text/plain": [
       "array([ 6,  7,  8,  9, 10])"
      ]
     },
     "metadata": {},
     "output_type": "display_data"
    },
    {
     "data": {
      "text/plain": [
       "'hstacked array:'"
      ]
     },
     "metadata": {},
     "output_type": "display_data"
    },
    {
     "data": {
      "text/plain": [
       "array([ 1,  2,  3,  4,  5,  6,  7,  8,  9, 10])"
      ]
     },
     "metadata": {},
     "output_type": "display_data"
    },
    {
     "data": {
      "text/plain": [
       "'the 2 arrays are:'"
      ]
     },
     "metadata": {},
     "output_type": "display_data"
    },
    {
     "data": {
      "text/plain": [
       "array([[1, 2],\n",
       "       [3, 4]])"
      ]
     },
     "metadata": {},
     "output_type": "display_data"
    },
    {
     "data": {
      "text/plain": [
       "array([[5, 6]])"
      ]
     },
     "metadata": {},
     "output_type": "display_data"
    },
    {
     "data": {
      "text/plain": [
       "'hstacked array:'"
      ]
     },
     "metadata": {},
     "output_type": "display_data"
    },
    {
     "data": {
      "text/plain": [
       "array([[1, 2, 5],\n",
       "       [3, 4, 6]])"
      ]
     },
     "metadata": {},
     "output_type": "display_data"
    }
   ],
   "source": [
    "c6=np.arange(1,6) \n",
    "c7=np.arange(6,11)  \n",
    "display(\"the 2 1D arrays are:\",c6,c7)\n",
    "display(\"hstacked array:\",np.hstack((c6,c7)))\n",
    "\n",
    "c9=np.array([[1,2],[3,4]])\n",
    "c10=np.array([[5,6]])\n",
    "display(\"the 2 arrays are:\",c9,c10)\n",
    "display(\"hstacked array:\",np.hstack((c9,c10.T)))"
   ]
  },
  {
   "cell_type": "markdown",
   "metadata": {},
   "source": [
    "# 11. Splitting arrays\n",
    "- `np.split(array,sections,axis=0)` : section= equal # of subarrays\n",
    "- `np.hsplit()`: along axis=1 (rows )\n",
    "- `np.vsplit()`: along axis=0"
   ]
  },
  {
   "cell_type": "code",
   "execution_count": 465,
   "metadata": {},
   "outputs": [
    {
     "data": {
      "text/plain": [
       "'1D array given'"
      ]
     },
     "metadata": {},
     "output_type": "display_data"
    },
    {
     "data": {
      "text/plain": [
       "array([1, 2, 3, 4, 5, 6, 7, 8, 9])"
      ]
     },
     "metadata": {},
     "output_type": "display_data"
    },
    {
     "data": {
      "text/plain": [
       "'3 arrays split from given 1d array:'"
      ]
     },
     "metadata": {},
     "output_type": "display_data"
    },
    {
     "data": {
      "text/plain": [
       "[array([1, 2, 3]), array([4, 5, 6]), array([7, 8, 9])]"
      ]
     },
     "metadata": {},
     "output_type": "display_data"
    },
    {
     "data": {
      "text/plain": [
       "'2D array given'"
      ]
     },
     "metadata": {},
     "output_type": "display_data"
    },
    {
     "data": {
      "text/plain": [
       "array([[ 1,  2],\n",
       "       [ 3,  4],\n",
       "       [ 5,  6],\n",
       "       [ 7,  8],\n",
       "       [ 9, 10],\n",
       "       [11, 12]])"
      ]
     },
     "metadata": {},
     "output_type": "display_data"
    },
    {
     "data": {
      "text/plain": [
       "'3 arrays split from given 1d array:'"
      ]
     },
     "metadata": {},
     "output_type": "display_data"
    },
    {
     "data": {
      "text/plain": [
       "[array([[1, 2],\n",
       "        [3, 4],\n",
       "        [5, 6]]),\n",
       " array([[ 7,  8],\n",
       "        [ 9, 10],\n",
       "        [11, 12]])]"
      ]
     },
     "metadata": {},
     "output_type": "display_data"
    }
   ],
   "source": [
    "d1=np.arange(1,10)\n",
    "display('1D array given',d1)\n",
    "display('3 arrays split from given 1d array:',np.split(d1,3))\n",
    "d2=np.arange(1,13).reshape(6,2)\n",
    "display('2D array given',d2)\n",
    "display('3 arrays split from given 1d array:',np.split(d2,2,axis=0)) \n"
   ]
  },
  {
   "cell_type": "markdown",
   "metadata": {},
   "source": [
    "# 12. Insert and Delete elements from array\n",
    "- `np.insert(array,obj,values,axis=none)`\n",
    "- obj = index before which value is inserted\n",
    "- values = can be a list too\n",
    "- it gives a copy of array(orig array is unaffected) with new element inserted"
   ]
  },
  {
   "cell_type": "markdown",
   "metadata": {},
   "source": [
    "## 12.1 1D array (insertion)"
   ]
  },
  {
   "cell_type": "code",
   "execution_count": 466,
   "metadata": {},
   "outputs": [
    {
     "data": {
      "text/plain": [
       "'A 1D array:'"
      ]
     },
     "metadata": {},
     "output_type": "display_data"
    },
    {
     "data": {
      "text/plain": [
       "array([ 1,  2,  3,  4,  5,  6,  7,  8,  9, 10])"
      ]
     },
     "metadata": {},
     "output_type": "display_data"
    },
    {
     "data": {
      "text/plain": [
       "'Insert a 100 before 4th element'"
      ]
     },
     "metadata": {},
     "output_type": "display_data"
    },
    {
     "data": {
      "text/plain": [
       "array([  1,   2,   3,   4, 100,   5,   6,   7,   8,   9,  10])"
      ]
     },
     "metadata": {},
     "output_type": "display_data"
    },
    {
     "data": {
      "text/plain": [
       "'insert multiple values at multiple locations:'"
      ]
     },
     "metadata": {},
     "output_type": "display_data"
    },
    {
     "data": {
      "text/plain": [
       "array([ 1,  2,  3, 50,  4,  5,  6,  7,  8, 90,  9, 10])"
      ]
     },
     "metadata": {},
     "output_type": "display_data"
    },
    {
     "data": {
      "text/plain": [
       "'insert a list of numbers before 5th element'"
      ]
     },
     "metadata": {},
     "output_type": "display_data"
    },
    {
     "data": {
      "text/plain": [
       "array([ 1,  2,  3,  4,  5, 20, 30, 40,  6,  7,  8,  9, 10])"
      ]
     },
     "metadata": {},
     "output_type": "display_data"
    }
   ],
   "source": [
    "e1=np.arange(1,11)\n",
    "display(\"A 1D array:\",e1)\n",
    "display(\"Insert a 100 before 4th element\",np.insert(e1,4,100))  #Not to forget : index starts from 0\n",
    "display(\"insert multiple values at multiple locations:\",np.insert(e1,(3,8),(50,90))) # at 3rd 50 is inserted and at 8th a 90\n",
    "display(\"insert a list of numbers before 5th element\",np.insert(e1,5,[20,30,40]))  #insert a list of numbers"
   ]
  },
  {
   "cell_type": "markdown",
   "metadata": {},
   "source": [
    "## 12.2 2D array (insertion)"
   ]
  },
  {
   "cell_type": "code",
   "execution_count": 467,
   "metadata": {},
   "outputs": [
    {
     "data": {
      "text/plain": [
       "'a 2D array'"
      ]
     },
     "metadata": {},
     "output_type": "display_data"
    },
    {
     "data": {
      "text/plain": [
       "array([[1, 2],\n",
       "       [3, 4]])"
      ]
     },
     "metadata": {},
     "output_type": "display_data"
    },
    {
     "data": {
      "text/plain": [
       "'insert value before index 1(it flattens) '"
      ]
     },
     "metadata": {},
     "output_type": "display_data"
    },
    {
     "data": {
      "text/plain": [
       "array([ 1, 42,  2,  3,  4])"
      ]
     },
     "metadata": {},
     "output_type": "display_data"
    },
    {
     "data": {
      "text/plain": [
       "'on axis 1 insert value before index 1(it resizes/repeats) '"
      ]
     },
     "metadata": {},
     "output_type": "display_data"
    },
    {
     "data": {
      "text/plain": [
       "array([[ 1, 42,  2],\n",
       "       [ 3, 42,  4]])"
      ]
     },
     "metadata": {},
     "output_type": "display_data"
    },
    {
     "data": {
      "text/plain": [
       "'on axis 0 insert value before index 1(it resizes/repeats) '"
      ]
     },
     "metadata": {},
     "output_type": "display_data"
    },
    {
     "data": {
      "text/plain": [
       "array([[ 1,  2],\n",
       "       [42, 42],\n",
       "       [ 3,  4]])"
      ]
     },
     "metadata": {},
     "output_type": "display_data"
    }
   ],
   "source": [
    "e2=np.array([[1,2],[3,4]])\n",
    "display(\"a 2D array\",e2)\n",
    "display(\"insert value before index 1(it flattens) \",np.insert(e2,1,42))   # Axis=none :it flattens the 2d matrix and insert value before index 1\n",
    "display(\"on axis 1 insert value before index 1(it resizes/repeats) \",np.insert(e2,1,42,axis=1))   # Axis=1 :it resizes the 2d matrix and insert value before index 1 creating a new axis=1\n",
    "display(\"on axis 0 insert value before index 1(it resizes/repeats) \",np.insert(e2,1,42,axis=0))   # Axis=1 :it resizes the 2d matrix and insert value before index 1 creating a new axis=1\n",
    "\n"
   ]
  },
  {
   "cell_type": "markdown",
   "metadata": {},
   "source": [
    "## 12.3  append() insertion\n",
    "- `np.append(array,values,axis=none)`\n",
    "- to insert a value at the end of the array\n",
    "- axis=none $\\implies$ it flattens the array and then add the value at the end (in 1D array)\n",
    "- it copies the array"
   ]
  },
  {
   "cell_type": "code",
   "execution_count": 468,
   "metadata": {},
   "outputs": [
    {
     "data": {
      "text/plain": [
       "'the array is:'"
      ]
     },
     "metadata": {},
     "output_type": "display_data"
    },
    {
     "data": {
      "text/plain": [
       "array([ 1,  2,  3,  4,  5,  6,  7,  8,  9, 10])"
      ]
     },
     "metadata": {},
     "output_type": "display_data"
    },
    {
     "data": {
      "text/plain": [
       "'append 999 to the array'"
      ]
     },
     "metadata": {},
     "output_type": "display_data"
    },
    {
     "data": {
      "text/plain": [
       "array([  1,   2,   3,   4,   5,   6,   7,   8,   9,  10, 999])"
      ]
     },
     "metadata": {},
     "output_type": "display_data"
    },
    {
     "data": {
      "text/plain": [
       "'the 2D array is:'"
      ]
     },
     "metadata": {},
     "output_type": "display_data"
    },
    {
     "data": {
      "text/plain": [
       "array([[1, 2],\n",
       "       [3, 4]])"
      ]
     },
     "metadata": {},
     "output_type": "display_data"
    },
    {
     "data": {
      "text/plain": [
       "'appended values after flattening(axis=none)'"
      ]
     },
     "metadata": {},
     "output_type": "display_data"
    },
    {
     "data": {
      "text/plain": [
       "array([1, 2, 3, 4, 1, 2])"
      ]
     },
     "metadata": {},
     "output_type": "display_data"
    },
    {
     "data": {
      "text/plain": [
       "'append values in axis 0 '"
      ]
     },
     "metadata": {},
     "output_type": "display_data"
    },
    {
     "data": {
      "text/plain": [
       "array([[  1,   2],\n",
       "       [  3,   4],\n",
       "       [100, 200]])"
      ]
     },
     "metadata": {},
     "output_type": "display_data"
    },
    {
     "data": {
      "text/plain": [
       "'append values in axis 1 '"
      ]
     },
     "metadata": {},
     "output_type": "display_data"
    },
    {
     "data": {
      "text/plain": [
       "array([[  1,   2, 100],\n",
       "       [  3,   4, 200]])"
      ]
     },
     "metadata": {},
     "output_type": "display_data"
    }
   ],
   "source": [
    "#example 1 (1D)\n",
    "display(\"the array is:\",e1)\n",
    "display(\"append 999 to the array\",np.append(e1,999))\n",
    "\n",
    "#example 2 (2D)\n",
    "display(\"the 2D array is:\",e2)\n",
    "display(\"appended values after flattening(axis=none)\",np.append(e2,[1,2])) \n",
    "display(\"append values in axis 0 \",np.append(e2,[[100,200]],axis=0))  #insert as nested list for axis 0  : format [[.....]]\n",
    "display(\"append values in axis 1 \",np.append(e2,[[100],[200]],axis=1))  #insert as nested list for axis 1 : Format [[....],[...]]\n"
   ]
  },
  {
   "cell_type": "markdown",
   "metadata": {},
   "source": [
    "## 12.4 Delete elements from array"
   ]
  },
  {
   "cell_type": "code",
   "execution_count": 469,
   "metadata": {},
   "outputs": [
    {
     "data": {
      "text/plain": [
       "'given array is: '"
      ]
     },
     "metadata": {},
     "output_type": "display_data"
    },
    {
     "data": {
      "text/plain": [
       "array([ 1,  2,  3,  4,  5,  6,  7,  8,  9, 10])"
      ]
     },
     "metadata": {},
     "output_type": "display_data"
    },
    {
     "data": {
      "text/plain": [
       "'delete 2nd element from array:'"
      ]
     },
     "metadata": {},
     "output_type": "display_data"
    },
    {
     "data": {
      "text/plain": [
       "array([ 1,  2,  4,  5,  6,  7,  8,  9, 10])"
      ]
     },
     "metadata": {},
     "output_type": "display_data"
    },
    {
     "data": {
      "text/plain": [
       "'given array is:'"
      ]
     },
     "metadata": {},
     "output_type": "display_data"
    },
    {
     "data": {
      "text/plain": [
       "array([[1, 2],\n",
       "       [3, 4]])"
      ]
     },
     "metadata": {},
     "output_type": "display_data"
    },
    {
     "data": {
      "text/plain": [
       "'deleted 2nd element from array(flattened)'"
      ]
     },
     "metadata": {},
     "output_type": "display_data"
    },
    {
     "data": {
      "text/plain": [
       "array([1, 2, 4])"
      ]
     },
     "metadata": {},
     "output_type": "display_data"
    },
    {
     "data": {
      "text/plain": [
       "'delete the axis=0(row) obj labelled 1'"
      ]
     },
     "metadata": {},
     "output_type": "display_data"
    },
    {
     "data": {
      "text/plain": [
       "array([[1, 2]])"
      ]
     },
     "metadata": {},
     "output_type": "display_data"
    }
   ],
   "source": [
    "#example 1 (1D)\n",
    "display(\"given array is: \",e1)\n",
    "display(\"delete 2nd element from array:\",np.delete(e1,2))\n",
    "\n",
    "#example 2 (2D)\n",
    "display(\"given array is:\",e2)\n",
    "display(\"deleted 2nd element from array(flattened)\",np.delete(e2,2))  #axis=none => it flattens and then delete\n",
    "display(\"delete the axis=0(row) obj labelled 1\",np.delete(e2,1,axis=0))"
   ]
  },
  {
   "cell_type": "markdown",
   "metadata": {},
   "source": [
    "___________________\n",
    "# 13. Basic Linear Algebra"
   ]
  },
  {
   "cell_type": "markdown",
   "metadata": {},
   "source": [
    "## 13.1 Matrix Operations\n",
    "- `arr1@arr2`: genuine array multiplication\n",
    "- `np.dot(arr1,arr2)`:genuine array multiplication\n",
    "- `np.cross(arr1,arr2)` : cross product of 2 vectors"
   ]
  },
  {
   "cell_type": "code",
   "execution_count": 470,
   "metadata": {},
   "outputs": [
    {
     "data": {
      "text/plain": [
       "'The martix A :'"
      ]
     },
     "metadata": {},
     "output_type": "display_data"
    },
    {
     "data": {
      "text/plain": [
       "array([[ 3,  2,  1],\n",
       "       [ 5, -5,  4],\n",
       "       [ 6,  0,  1]])"
      ]
     },
     "metadata": {},
     "output_type": "display_data"
    },
    {
     "data": {
      "text/plain": [
       "'The martix B :'"
      ]
     },
     "metadata": {},
     "output_type": "display_data"
    },
    {
     "data": {
      "text/plain": [
       "array([[1, 2, 2],\n",
       "       [3, 4, 5],\n",
       "       [1, 4, 7]])"
      ]
     },
     "metadata": {},
     "output_type": "display_data"
    },
    {
     "data": {
      "text/plain": [
       "'the vector b1 and b2 are:'"
      ]
     },
     "metadata": {},
     "output_type": "display_data"
    },
    {
     "data": {
      "text/plain": [
       "array([1, 2, 3])"
      ]
     },
     "metadata": {},
     "output_type": "display_data"
    },
    {
     "data": {
      "text/plain": [
       "array([-1,  2, -5])"
      ]
     },
     "metadata": {},
     "output_type": "display_data"
    },
    {
     "data": {
      "text/plain": [
       "'product of A and b1'"
      ]
     },
     "metadata": {},
     "output_type": "display_data"
    },
    {
     "data": {
      "text/plain": [
       "array([10,  7,  9])"
      ]
     },
     "metadata": {},
     "output_type": "display_data"
    },
    {
     "data": {
      "text/plain": [
       "'product of A and A'"
      ]
     },
     "metadata": {},
     "output_type": "display_data"
    },
    {
     "data": {
      "text/plain": [
       "array([[ 46,  68,  56],\n",
       "       [ 18,  26,  22],\n",
       "       [ 74, 108,  89]])"
      ]
     },
     "metadata": {},
     "output_type": "display_data"
    },
    {
     "data": {
      "text/plain": [
       "'product of A and B'"
      ]
     },
     "metadata": {},
     "output_type": "display_data"
    },
    {
     "data": {
      "text/plain": [
       "array([[10, 18, 23],\n",
       "       [-6,  6, 13],\n",
       "       [ 7, 16, 19]])"
      ]
     },
     "metadata": {},
     "output_type": "display_data"
    },
    {
     "data": {
      "text/plain": [
       "'transpose of A'"
      ]
     },
     "metadata": {},
     "output_type": "display_data"
    },
    {
     "data": {
      "text/plain": [
       "array([[ 3,  5,  6],\n",
       "       [ 2, -5,  0],\n",
       "       [ 1,  4,  1]])"
      ]
     },
     "metadata": {},
     "output_type": "display_data"
    },
    {
     "data": {
      "text/plain": [
       "'the dot product of b1 and b2'"
      ]
     },
     "metadata": {},
     "output_type": "display_data"
    },
    {
     "data": {
      "text/plain": [
       "np.int64(-12)"
      ]
     },
     "metadata": {},
     "output_type": "display_data"
    },
    {
     "data": {
      "text/plain": [
       "'the cross product of b1 and b2'"
      ]
     },
     "metadata": {},
     "output_type": "display_data"
    },
    {
     "data": {
      "text/plain": [
       "array([-16,   2,   4])"
      ]
     },
     "metadata": {},
     "output_type": "display_data"
    }
   ],
   "source": [
    "A=np.array([[3,2,1],[5,-5,4],[6,0,1]])  #matrix A\n",
    "b1=np.array([1,2,3])   #b1 vector\n",
    "b2=np.array([-1,2,-5])  #b2 vector\n",
    "B=np.array([[1,2,2],[3,4,5],[1,4,7]])\n",
    "display(\"The martix A :\",A)\n",
    "display(\"The martix B :\",B)\n",
    "display(\"the vector b1 and b2 are:\",b1,b2)\n",
    "display(\"product of A and b1\",A@b1)  \n",
    "display(\"product of A and A\",A1@A1)  #genuine matrix multiplication\n",
    "display(\"product of A and B\",np.dot(A,B))  #genuine matrix multiplication (dot method)\n",
    "\n",
    "display(\"transpose of A\",A.T)\n",
    "display(\"the dot product of b1 and b2\",np.dot(b1,b2))\n",
    "display(\"the cross product of b1 and b2\",np.cross(b1,b2))\n"
   ]
  },
  {
   "cell_type": "markdown",
   "metadata": {},
   "source": [
    "## 13.2 Matrix creation(using `.matrix` class)\n",
    "- can be created using string notations\n",
    "- matrix objects are only 2D objects\n",
    "- can use * for multiplication"
   ]
  },
  {
   "cell_type": "code",
   "execution_count": 471,
   "metadata": {},
   "outputs": [
    {
     "data": {
      "text/plain": [
       "'matrix created:'"
      ]
     },
     "metadata": {},
     "output_type": "display_data"
    },
    {
     "data": {
      "text/plain": [
       "matrix([[1, 2],\n",
       "        [3, 4]])"
      ]
     },
     "metadata": {},
     "output_type": "display_data"
    },
    {
     "data": {
      "text/plain": [
       "matrix([[5, 6],\n",
       "        [7, 9]])"
      ]
     },
     "metadata": {},
     "output_type": "display_data"
    },
    {
     "data": {
      "text/plain": [
       "'class of object created'"
      ]
     },
     "metadata": {},
     "output_type": "display_data"
    },
    {
     "data": {
      "text/plain": [
       "numpy.matrix"
      ]
     },
     "metadata": {},
     "output_type": "display_data"
    },
    {
     "data": {
      "text/plain": [
       "'g1*g2'"
      ]
     },
     "metadata": {},
     "output_type": "display_data"
    },
    {
     "data": {
      "text/plain": [
       "matrix([[19, 24],\n",
       "        [43, 54]])"
      ]
     },
     "metadata": {},
     "output_type": "display_data"
    }
   ],
   "source": [
    "g1=np.matrix([[1,2],[3,4]])\n",
    "g2=np.matrix('5 6;7 9')\n",
    "display(\"matrix created:\",g1,g2)\n",
    "display(\"class of object created\",type(g2))\n",
    "display(\"g1*g2\",g1*g2) # matrix multiplication"
   ]
  },
  {
   "cell_type": "markdown",
   "metadata": {},
   "source": [
    "## 13.3 Linalg module of numpy\n",
    "Linear algebra module allows us to compute:\n",
    "- inverses\n",
    "- powers\n",
    "- solve linear equations\n",
    "- determinants\n",
    "- eigenvalues"
   ]
  },
  {
   "cell_type": "markdown",
   "metadata": {},
   "source": [
    "### 13.3.1 inverse/power/det of Matrix\n",
    "- `np.linalg.inv`\n",
    "- `np.linalg.det`"
   ]
  },
  {
   "cell_type": "code",
   "execution_count": 472,
   "metadata": {},
   "outputs": [
    {
     "data": {
      "text/plain": [
       "'the given array is A :'"
      ]
     },
     "metadata": {},
     "output_type": "display_data"
    },
    {
     "data": {
      "text/plain": [
       "array([[1, 2],\n",
       "       [3, 4]])"
      ]
     },
     "metadata": {},
     "output_type": "display_data"
    },
    {
     "data": {
      "text/plain": [
       "'the inverse of array is:'"
      ]
     },
     "metadata": {},
     "output_type": "display_data"
    },
    {
     "data": {
      "text/plain": [
       "array([[-2. ,  1. ],\n",
       "       [ 1.5, -0.5]])"
      ]
     },
     "metadata": {},
     "output_type": "display_data"
    },
    {
     "data": {
      "text/plain": [
       "'A^6'"
      ]
     },
     "metadata": {},
     "output_type": "display_data"
    },
    {
     "data": {
      "text/plain": [
       "array([[ 5743,  8370],\n",
       "       [12555, 18298]])"
      ]
     },
     "metadata": {},
     "output_type": "display_data"
    },
    {
     "data": {
      "text/plain": [
       "'det(A)'"
      ]
     },
     "metadata": {},
     "output_type": "display_data"
    },
    {
     "data": {
      "image/png": "[encoded data removed]",
      "text/latex": [
       "$\\displaystyle -2.0$"
      ],
      "text/plain": [
       "np.float64(-2.0000000000000004)"
      ]
     },
     "metadata": {},
     "output_type": "display_data"
    },
    {
     "data": {
      "text/plain": [
       "'the given array is B: '"
      ]
     },
     "metadata": {},
     "output_type": "display_data"
    },
    {
     "data": {
      "text/plain": [
       "array([[1, 2, 3],\n",
       "       [4, 5, 6],\n",
       "       [7, 8, 9]])"
      ]
     },
     "metadata": {},
     "output_type": "display_data"
    },
    {
     "data": {
      "text/plain": [
       "'det(B)'"
      ]
     },
     "metadata": {},
     "output_type": "display_data"
    },
    {
     "data": {
      "image/png": "[encoded data removed]",
      "text/latex": [
       "$\\displaystyle 6.66133814775094 \\cdot 10^{-16}$"
      ],
      "text/plain": [
       "np.float64(6.66133814775094e-16)"
      ]
     },
     "metadata": {},
     "output_type": "display_data"
    },
    {
     "data": {
      "text/plain": [
       "'det(B) rounded to : '"
      ]
     },
     "metadata": {},
     "output_type": "display_data"
    },
    {
     "data": {
      "image/png": "[encoded data removed]",
      "text/latex": [
       "$\\displaystyle 0$"
      ],
      "text/plain": [
       "0"
      ]
     },
     "metadata": {},
     "output_type": "display_data"
    }
   ],
   "source": [
    "g3=np.array([[1,2],[3,4]])\n",
    "display(\"the given array is A :\",g3)\n",
    "display(\"the inverse of array is:\",np.linalg.inv(g3))\n",
    "display(\"A^6\",np.linalg.matrix_power(g3,6))\n",
    "display(\"det(A)\",np.linalg.det(g3))\n",
    "\n",
    "g4=np.array([[1,2,3],[4,5,6],[7,8,9]])\n",
    "display(\"the given array is B: \",g4)\n",
    "display(\"det(B)\",np.linalg.det(g4))  #it gives a very small number\n",
    "display(\"det(B) rounded to : \",round(np.linalg.det(g4)))"
   ]
  },
  {
   "cell_type": "markdown",
   "metadata": {},
   "source": [
    "### 13.3.2 Systems of Equations\n",
    "- `np.linalg.solve(A,b)`\n",
    "\n",
    "Example:system of linear eqn in 3 variables\\\n",
    "$ 3x + 2y + z = 4$\n",
    "\n",
    "$ 5x -5y + 4z = 3$\n",
    "\n",
    "$ 6x +z = 0$"
   ]
  },
  {
   "cell_type": "code",
   "execution_count": 473,
   "metadata": {},
   "outputs": [
    {
     "data": {
      "text/plain": [
       "'the matrix A and vector C'"
      ]
     },
     "metadata": {},
     "output_type": "display_data"
    },
    {
     "data": {
      "text/plain": [
       "array([[ 3,  2,  1],\n",
       "       [ 5, -5,  4],\n",
       "       [ 6,  0,  1]])"
      ]
     },
     "metadata": {},
     "output_type": "display_data"
    },
    {
     "data": {
      "text/plain": [
       "array([4, 3, 0])"
      ]
     },
     "metadata": {},
     "output_type": "display_data"
    },
    {
     "data": {
      "text/plain": [
       "'the x,y,z values are '"
      ]
     },
     "metadata": {},
     "output_type": "display_data"
    },
    {
     "data": {
      "text/plain": [
       "array([-0.49056604,  1.26415094,  2.94339623])"
      ]
     },
     "metadata": {},
     "output_type": "display_data"
    },
    {
     "data": {
      "text/plain": [
       "'x='"
      ]
     },
     "metadata": {},
     "output_type": "display_data"
    },
    {
     "data": {
      "image/png": "[encoded data removed]",
      "text/latex": [
       "$\\displaystyle -0.490566037735849$"
      ],
      "text/plain": [
       "np.float64(-0.490566037735849)"
      ]
     },
     "metadata": {},
     "output_type": "display_data"
    },
    {
     "data": {
      "text/plain": [
       "'y='"
      ]
     },
     "metadata": {},
     "output_type": "display_data"
    },
    {
     "data": {
      "image/png": "[encoded data removed]",
      "text/latex": [
       "$\\displaystyle 1.26415094339623$"
      ],
      "text/plain": [
       "np.float64(1.2641509433962266)"
      ]
     },
     "metadata": {},
     "output_type": "display_data"
    },
    {
     "data": {
      "text/plain": [
       "'z='"
      ]
     },
     "metadata": {},
     "output_type": "display_data"
    },
    {
     "data": {
      "image/png": "[encoded data removed]",
      "text/latex": [
       "$\\displaystyle 2.94339622641509$"
      ],
      "text/plain": [
       "np.float64(2.943396226415094)"
      ]
     },
     "metadata": {},
     "output_type": "display_data"
    }
   ],
   "source": [
    "A=np.array([[3,2,1],[5,-5,4],[6,0,1]])\n",
    "b=np.array([4,3,0])\n",
    "display(\"the matrix A and vector C\",A,b)\n",
    "display(\"the x,y,z values are \",np.linalg.solve(A,b))\n",
    "ans=np.linalg.solve(A,b)\n",
    "display(\"x=\",ans[0])\n",
    "display(\"y=\",ans[1])\n",
    "display(\"z=\",ans[2])\n"
   ]
  },
  {
   "cell_type": "markdown",
   "metadata": {},
   "source": [
    "### 13.3.3 Finding Eigenvalues\n",
    "- $\\hat A\\psi=\\lambda\\psi$\n",
    "- `np.linalg.eigh(array)` : calculate eigenvalues and eigenvectors of an operator represented as an array\n",
    "- Eigenvalues are in 1D array and are in ascending order\n",
    "- Eigenvectors are in 2D array and are <mark>vertically aligned in numpy</mark>"
   ]
  },
  {
   "cell_type": "code",
   "execution_count": 474,
   "metadata": {},
   "outputs": [
    {
     "data": {
      "text/plain": [
       "'the eigenvalues are:'"
      ]
     },
     "metadata": {},
     "output_type": "display_data"
    },
    {
     "data": {
      "text/plain": [
       "array([2., 8., 2.])"
      ]
     },
     "metadata": {},
     "output_type": "display_data"
    },
    {
     "data": {
      "text/plain": [
       "'the eigenvectors are'"
      ]
     },
     "metadata": {},
     "output_type": "display_data"
    },
    {
     "data": {
      "text/plain": [
       "array([[-0.81649658,  0.57735027, -0.32444284],\n",
       "       [ 0.40824829,  0.57735027, -0.48666426],\n",
       "       [ 0.40824829,  0.57735027,  0.81110711]])"
      ]
     },
     "metadata": {},
     "output_type": "display_data"
    },
    {
     "data": {
      "text/plain": [
       "'eigenvec correspondin to 1st Eval'"
      ]
     },
     "metadata": {},
     "output_type": "display_data"
    },
    {
     "data": {
      "text/plain": [
       "array([-0.81649658,  0.40824829,  0.40824829])"
      ]
     },
     "metadata": {},
     "output_type": "display_data"
    },
    {
     "data": {
      "text/plain": [
       "'check 1st A*(1st eigenvec)'"
      ]
     },
     "metadata": {},
     "output_type": "display_data"
    },
    {
     "data": {
      "text/plain": [
       "array([-1.63299316,  0.81649658,  0.81649658])"
      ]
     },
     "metadata": {},
     "output_type": "display_data"
    },
    {
     "data": {
      "text/plain": [
       "'must be the same as (1st eval)*(1st eigenvec)'"
      ]
     },
     "metadata": {},
     "output_type": "display_data"
    },
    {
     "data": {
      "text/plain": [
       "array([-1.63299316,  0.81649658,  0.81649658])"
      ]
     },
     "metadata": {},
     "output_type": "display_data"
    }
   ],
   "source": [
    "A=np.array([[4,2,2],[2,4,2],[2,2,4]])\n",
    "e_val,e_vec=np.linalg.eig(A)\n",
    "display(\"the eigenvalues are:\",e_val,\"the eigenvectors are\",e_vec)\n",
    "display(\"eigenvec correspondin to 1st Eval\",e_vec[:,0])\n",
    "display(\"check 1st A*(1st eigenvec)\",A@e_vec[:,0])\n",
    "display(\"must be the same as (1st eval)*(1st eigenvec)\",e_val[0]*e_vec[:,0])"
   ]
  },
  {
   "cell_type": "markdown",
   "metadata": {},
   "source": [
    "# 14. More Interesting Examples\n",
    "\n",
    "## 14.1 Question 1 (contour plot/volume in a range)\n",
    "\n",
    "Let $f(x,y) = e^{-(x^2+y^2)} \\cdot \\sin(x)$ for $-2 \\leq x \\leq 2$ and $-2 \\leq y \\leq 2$\n",
    "\n",
    "1. Make a contour plot of $f$\n",
    "2. Find the volume $|f(x,y)|$ in the specified $x$ and $y$ range\\\n",
    "    can use Volume = $\\displaystyle\\int |f(x,y)| dxdy =\\sum {|f(x,y)|}\\Delta x \\Delta y$ \n",
    "4. Find the volume $|f(x,y)|$ only in the region where $\\sqrt{x^2+y^2}>0.5$ "
   ]
  },
  {
   "cell_type": "code",
   "execution_count": 475,
   "metadata": {},
   "outputs": [
    {
     "data": {
      "text/plain": [
       "Text(0.5, 1.0, 'contour plot of $f(x)=e^{-(x^2+y^2)}$')"
      ]
     },
     "execution_count": 475,
     "metadata": {},
     "output_type": "execute_result"
    },
    {
     "data": {
      "image/png": "[encoded data removed]",
      "text/plain": [
       "<Figure size 350x262.5 with 2 Axes>"
      ]
     },
     "metadata": {},
     "output_type": "display_data"
    }
   ],
   "source": [
    "#1.\n",
    "x=np.linspace(-2,2,1000)\n",
    "y=np.linspace(-2,2,1000)\n",
    "xv,yv=np.meshgrid(x,y)  #x-y plane created (points on plane)\n",
    "f=np.exp(-(xv**2+yv**2))*np.sin(xv)   #funtion evaluated on the xy plane (evaluated points)\n",
    "plt.contourf(xv,yv,f,levels=100)     \n",
    "plt.colorbar()  \n",
    "plt.title(r'contour plot of $f(x)=e^{-(x^2+y^2)}$')"
   ]
  },
  {
   "cell_type": "code",
   "execution_count": 476,
   "metadata": {},
   "outputs": [
    {
     "data": {
      "text/plain": [
       "'ravel the values of f in a single line'"
      ]
     },
     "metadata": {},
     "output_type": "display_data"
    },
    {
     "data": {
      "text/plain": [
       "array([-0.00030504, -0.00031052, -0.00031609, ...,  0.00031609,\n",
       "        0.00031052,  0.00030504], shape=(1000000,))"
      ]
     },
     "metadata": {},
     "output_type": "display_data"
    },
    {
     "data": {
      "text/plain": [
       "'get the absolute values'"
      ]
     },
     "metadata": {},
     "output_type": "display_data"
    },
    {
     "data": {
      "text/plain": [
       "array([0.00030504, 0.00031052, 0.00031609, ..., 0.00031609, 0.00031052,\n",
       "       0.00030504], shape=(1000000,))"
      ]
     },
     "metadata": {},
     "output_type": "display_data"
    },
    {
     "data": {
      "text/plain": [
       "'sum of all the absolute values of f:'"
      ]
     },
     "metadata": {},
     "output_type": "display_data"
    },
    {
     "data": {
      "image/png": "[encoded data removed]",
      "text/latex": [
       "$\\displaystyle 92700.9330668305$"
      ],
      "text/plain": [
       "np.float64(92700.93306683048)"
      ]
     },
     "metadata": {},
     "output_type": "display_data"
    },
    {
     "data": {
      "text/latex": [
       "$\\displaystyle \\int_{\\mathcal{R}}|f(x,y)|dxdy=\\text{Volume in the entire region}=$"
      ],
      "text/plain": [
       "<IPython.core.display.Math object>"
      ]
     },
     "metadata": {},
     "output_type": "display_data"
    },
    {
     "data": {
      "image/png": "[encoded data removed]",
      "text/latex": [
       "$\\displaystyle 1.48618581451243$"
      ],
      "text/plain": [
       "np.float64(1.4861858145124311)"
      ]
     },
     "metadata": {},
     "output_type": "display_data"
    }
   ],
   "source": [
    "#2. \n",
    "display('ravel the values of f in a single line',f.ravel())\n",
    "display('get the absolute values',np.absolute(f.ravel()))\n",
    "display('sum of all the absolute values of f:',np.sum(np.absolute(f.ravel())))\n",
    "display(Math(r'\\int_{\\mathcal{R}}|f(x,y)|dxdy=\\text{Volume in the entire region}='),np.sum(np.absolute(f.ravel()))*np.diff(x)[0]*np.diff(y)[0])       \n"
   ]
  },
  {
   "cell_type": "code",
   "execution_count": 477,
   "metadata": {},
   "outputs": [
    {
     "data": {
      "text/plain": [
       "'region where the condition is true'"
      ]
     },
     "metadata": {},
     "output_type": "display_data"
    },
    {
     "data": {
      "text/plain": [
       "array([[ True,  True,  True, ...,  True,  True,  True],\n",
       "       [ True,  True,  True, ...,  True,  True,  True],\n",
       "       [ True,  True,  True, ...,  True,  True,  True],\n",
       "       ...,\n",
       "       [ True,  True,  True, ...,  True,  True,  True],\n",
       "       [ True,  True,  True, ...,  True,  True,  True],\n",
       "       [ True,  True,  True, ...,  True,  True,  True]],\n",
       "      shape=(1000, 1000))"
      ]
     },
     "metadata": {},
     "output_type": "display_data"
    },
    {
     "data": {
      "text/plain": [
       "'f(x,y) values for the specified region'"
      ]
     },
     "metadata": {},
     "output_type": "display_data"
    },
    {
     "data": {
      "text/plain": [
       "array([-0.00030504, -0.00031052, -0.00031609, ...,  0.00031609,\n",
       "        0.00031052,  0.00030504], shape=(951016,))"
      ]
     },
     "metadata": {},
     "output_type": "display_data"
    },
    {
     "data": {
      "text/latex": [
       "$\\displaystyle \\int_{x^2+y^2>0.5^2}|f(x,y|dxdy$"
      ],
      "text/plain": [
       "<IPython.core.display.Math object>"
      ]
     },
     "metadata": {},
     "output_type": "display_data"
    },
    {
     "data": {
      "image/png": "[encoded data removed]",
      "text/latex": [
       "$\\displaystyle 1.34476529302032$"
      ],
      "text/plain": [
       "np.float64(1.3447652930203164)"
      ]
     },
     "metadata": {},
     "output_type": "display_data"
    }
   ],
   "source": [
    "#3. calculate the volume outside the circle of radius 1/2\n",
    "# the meshgrid(is an array) plane has a circle of radius 1/2(Region of integration)\n",
    "condi=xv**2+yv**2>0.5**2\n",
    "display('region where the condition is true',condi)  #region where condition is true is selected\n",
    "display('f(x,y) values for the specified region',f[condi]) # f values for which the condition is true\n",
    "display(Math(r'\\int_{x^2+y^2>0.5^2}|f(x,y|dxdy'),np.sum(np.absolute(f[condi]))*np.diff(x)[0]*np.diff(y)[0])"
   ]
  },
  {
   "cell_type": "markdown",
   "metadata": {},
   "source": [
    "## 14.2 Question 2 (Kirchhoff's law/V:solving simultaneous linear equations)\n",
    "\n",
    "After examining a circuit full of resistors, you find that the voltage at 4 specified points is given by\n",
    "\n",
    "$ 3V_1 + 2V_2 + 3V_3 + 10V_4 = 4$\n",
    "\n",
    "$ 2V_1 - 2V_2 + 5V_3 + 8V_4 = 1$\n",
    "\n",
    "$ 3V_1 + 3V_2 + 4V_3 + 9V_4 = 3$\n",
    "\n",
    "$ 3V_1 + 4V_2 - 3V_3 - 7V_4 = 2$\n",
    "\n",
    "Find all the voltages"
   ]
  },
  {
   "cell_type": "code",
   "execution_count": 478,
   "metadata": {},
   "outputs": [
    {
     "data": {
      "text/plain": [
       "'V1'"
      ]
     },
     "metadata": {},
     "output_type": "display_data"
    },
    {
     "data": {
      "image/png": "[encoded data removed]",
      "text/latex": [
       "$\\displaystyle 0.783783783783784$"
      ],
      "text/plain": [
       "np.float64(0.7837837837837842)"
      ]
     },
     "metadata": {},
     "output_type": "display_data"
    },
    {
     "data": {
      "text/plain": [
       "'V2'"
      ]
     },
     "metadata": {},
     "output_type": "display_data"
    },
    {
     "data": {
      "image/png": "[encoded data removed]",
      "text/latex": [
       "$\\displaystyle 0.0360360360360358$"
      ],
      "text/plain": [
       "np.float64(0.03603603603603576)"
      ]
     },
     "metadata": {},
     "output_type": "display_data"
    },
    {
     "data": {
      "text/plain": [
       "'V3'"
      ]
     },
     "metadata": {},
     "output_type": "display_data"
    },
    {
     "data": {
      "image/png": "[encoded data removed]",
      "text/latex": [
       "$\\displaystyle -0.675675675675676$"
      ],
      "text/plain": [
       "np.float64(-0.675675675675676)"
      ]
     },
     "metadata": {},
     "output_type": "display_data"
    },
    {
     "data": {
      "text/plain": [
       "'V4'"
      ]
     },
     "metadata": {},
     "output_type": "display_data"
    },
    {
     "data": {
      "image/png": "[encoded data removed]",
      "text/latex": [
       "$\\displaystyle 0.36036036036036$"
      ],
      "text/plain": [
       "np.float64(0.3603603603603604)"
      ]
     },
     "metadata": {},
     "output_type": "display_data"
    }
   ],
   "source": [
    "A=np.array([[3,2,3,10],[2,-2,5,8],[3,3,4,9],[3,4,-3,-7]])\n",
    "b=np.array([4,1,3,2])\n",
    "volatges=np.linalg.solve(A,b)\n",
    "display('V1',volatges[0])\n",
    "display('V2',volatges[1])\n",
    "display('V3',volatges[2])\n",
    "display('V4',volatges[3])"
   ]
  },
  {
   "cell_type": "markdown",
   "metadata": {},
   "source": [
    "## 14.3 Question 3 (EMT: given $\\vec{E}(z,t)$ compute $\\vec{B}$ and $\\vec{S}$)\n",
    "\n",
    "An electric field is given by $\\vec{E}(z,t) = E_0 \\cos (z-t) \\hat{x} + 2E_0 \\cos(z-t+\\pi/2) \\hat{y}$. \n",
    "\n",
    "1. Find the magnetic field for all $z \\in [0,4\\pi]$ and $t \\in [0,10]$ using $\\vec{B}(z,t) = \\hat{z} \\times \\vec{E}(z,t)$\n",
    "2. Compute the Poynting vector $\\vec{S} = \\vec{E} \\times \\vec{B}$ for all $z$ and $t$\n",
    "   \n",
    "   Tip 1:Can only deal with dimensionless qtys:\\\n",
    "   evaluate: $\\frac{\\vec{E}}{E_{0}}=\\cos (z-t) \\hat{x} + 2 \\cos(z-t+\\pi/2) \\hat{y}$"
   ]
  },
  {
   "cell_type": "code",
   "execution_count": 479,
   "metadata": {},
   "outputs": [
    {
     "data": {
      "text/plain": [
       "'where you are on the t axis'"
      ]
     },
     "metadata": {},
     "output_type": "display_data"
    },
    {
     "data": {
      "text/plain": [
       "array([[ 0.        ,  0.01001001,  0.02002002, ...,  9.97997998,\n",
       "         9.98998999, 10.        ],\n",
       "       [ 0.        ,  0.01001001,  0.02002002, ...,  9.97997998,\n",
       "         9.98998999, 10.        ],\n",
       "       [ 0.        ,  0.01001001,  0.02002002, ...,  9.97997998,\n",
       "         9.98998999, 10.        ],\n",
       "       ...,\n",
       "       [ 0.        ,  0.01001001,  0.02002002, ...,  9.97997998,\n",
       "         9.98998999, 10.        ],\n",
       "       [ 0.        ,  0.01001001,  0.02002002, ...,  9.97997998,\n",
       "         9.98998999, 10.        ],\n",
       "       [ 0.        ,  0.01001001,  0.02002002, ...,  9.97997998,\n",
       "         9.98998999, 10.        ]], shape=(1000, 1000))"
      ]
     },
     "metadata": {},
     "output_type": "display_data"
    },
    {
     "data": {
      "text/plain": [
       "'where you are on the z axis'"
      ]
     },
     "metadata": {},
     "output_type": "display_data"
    },
    {
     "data": {
      "text/plain": [
       "array([[ 0.        ,  0.        ,  0.        , ...,  0.        ,\n",
       "         0.        ,  0.        ],\n",
       "       [ 0.01257895,  0.01257895,  0.01257895, ...,  0.01257895,\n",
       "         0.01257895,  0.01257895],\n",
       "       [ 0.0251579 ,  0.0251579 ,  0.0251579 , ...,  0.0251579 ,\n",
       "         0.0251579 ,  0.0251579 ],\n",
       "       ...,\n",
       "       [12.54121272, 12.54121272, 12.54121272, ..., 12.54121272,\n",
       "        12.54121272, 12.54121272],\n",
       "       [12.55379166, 12.55379166, 12.55379166, ..., 12.55379166,\n",
       "        12.55379166, 12.55379166],\n",
       "       [12.56637061, 12.56637061, 12.56637061, ..., 12.56637061,\n",
       "        12.56637061, 12.56637061]], shape=(1000, 1000))"
      ]
     },
     "metadata": {},
     "output_type": "display_data"
    },
    {
     "data": {
      "text/plain": [
       "'In order to select the z=0 part(use): only t axis'"
      ]
     },
     "metadata": {},
     "output_type": "display_data"
    },
    {
     "data": {
      "text/plain": [
       "array([0., 0., 0., 0., 0., 0., 0., 0., 0., 0., 0., 0., 0., 0., 0., 0., 0.,\n",
       "       0., 0., 0., 0., 0., 0., 0., 0., 0., 0., 0., 0., 0., 0., 0., 0., 0.,\n",
       "       0., 0., 0., 0., 0., 0., 0., 0., 0., 0., 0., 0., 0., 0., 0., 0., 0.,\n",
       "       0., 0., 0., 0., 0., 0., 0., 0., 0., 0., 0., 0., 0., 0., 0., 0., 0.,\n",
       "       0., 0., 0., 0., 0., 0., 0., 0., 0., 0., 0., 0., 0., 0., 0., 0., 0.,\n",
       "       0., 0., 0., 0., 0., 0., 0., 0., 0., 0., 0., 0., 0., 0., 0., 0., 0.,\n",
       "       0., 0., 0., 0., 0., 0., 0., 0., 0., 0., 0., 0., 0., 0., 0., 0., 0.,\n",
       "       0., 0., 0., 0., 0., 0., 0., 0., 0., 0., 0., 0., 0., 0., 0., 0., 0.,\n",
       "       0., 0., 0., 0., 0., 0., 0., 0., 0., 0., 0., 0., 0., 0., 0., 0., 0.,\n",
       "       0., 0., 0., 0., 0., 0., 0., 0., 0., 0., 0., 0., 0., 0., 0., 0., 0.,\n",
       "       0., 0., 0., 0., 0., 0., 0., 0., 0., 0., 0., 0., 0., 0., 0., 0., 0.,\n",
       "       0., 0., 0., 0., 0., 0., 0., 0., 0., 0., 0., 0., 0., 0., 0., 0., 0.,\n",
       "       0., 0., 0., 0., 0., 0., 0., 0., 0., 0., 0., 0., 0., 0., 0., 0., 0.,\n",
       "       0., 0., 0., 0., 0., 0., 0., 0., 0., 0., 0., 0., 0., 0., 0., 0., 0.,\n",
       "       0., 0., 0., 0., 0., 0., 0., 0., 0., 0., 0., 0., 0., 0., 0., 0., 0.,\n",
       "       0., 0., 0., 0., 0., 0., 0., 0., 0., 0., 0., 0., 0., 0., 0., 0., 0.,\n",
       "       0., 0., 0., 0., 0., 0., 0., 0., 0., 0., 0., 0., 0., 0., 0., 0., 0.,\n",
       "       0., 0., 0., 0., 0., 0., 0., 0., 0., 0., 0., 0., 0., 0., 0., 0., 0.,\n",
       "       0., 0., 0., 0., 0., 0., 0., 0., 0., 0., 0., 0., 0., 0., 0., 0., 0.,\n",
       "       0., 0., 0., 0., 0., 0., 0., 0., 0., 0., 0., 0., 0., 0., 0., 0., 0.,\n",
       "       0., 0., 0., 0., 0., 0., 0., 0., 0., 0., 0., 0., 0., 0., 0., 0., 0.,\n",
       "       0., 0., 0., 0., 0., 0., 0., 0., 0., 0., 0., 0., 0., 0., 0., 0., 0.,\n",
       "       0., 0., 0., 0., 0., 0., 0., 0., 0., 0., 0., 0., 0., 0., 0., 0., 0.,\n",
       "       0., 0., 0., 0., 0., 0., 0., 0., 0., 0., 0., 0., 0., 0., 0., 0., 0.,\n",
       "       0., 0., 0., 0., 0., 0., 0., 0., 0., 0., 0., 0., 0., 0., 0., 0., 0.,\n",
       "       0., 0., 0., 0., 0., 0., 0., 0., 0., 0., 0., 0., 0., 0., 0., 0., 0.,\n",
       "       0., 0., 0., 0., 0., 0., 0., 0., 0., 0., 0., 0., 0., 0., 0., 0., 0.,\n",
       "       0., 0., 0., 0., 0., 0., 0., 0., 0., 0., 0., 0., 0., 0., 0., 0., 0.,\n",
       "       0., 0., 0., 0., 0., 0., 0., 0., 0., 0., 0., 0., 0., 0., 0., 0., 0.,\n",
       "       0., 0., 0., 0., 0., 0., 0., 0., 0., 0., 0., 0., 0., 0., 0., 0., 0.,\n",
       "       0., 0., 0., 0., 0., 0., 0., 0., 0., 0., 0., 0., 0., 0., 0., 0., 0.,\n",
       "       0., 0., 0., 0., 0., 0., 0., 0., 0., 0., 0., 0., 0., 0., 0., 0., 0.,\n",
       "       0., 0., 0., 0., 0., 0., 0., 0., 0., 0., 0., 0., 0., 0., 0., 0., 0.,\n",
       "       0., 0., 0., 0., 0., 0., 0., 0., 0., 0., 0., 0., 0., 0., 0., 0., 0.,\n",
       "       0., 0., 0., 0., 0., 0., 0., 0., 0., 0., 0., 0., 0., 0., 0., 0., 0.,\n",
       "       0., 0., 0., 0., 0., 0., 0., 0., 0., 0., 0., 0., 0., 0., 0., 0., 0.,\n",
       "       0., 0., 0., 0., 0., 0., 0., 0., 0., 0., 0., 0., 0., 0., 0., 0., 0.,\n",
       "       0., 0., 0., 0., 0., 0., 0., 0., 0., 0., 0., 0., 0., 0., 0., 0., 0.,\n",
       "       0., 0., 0., 0., 0., 0., 0., 0., 0., 0., 0., 0., 0., 0., 0., 0., 0.,\n",
       "       0., 0., 0., 0., 0., 0., 0., 0., 0., 0., 0., 0., 0., 0., 0., 0., 0.,\n",
       "       0., 0., 0., 0., 0., 0., 0., 0., 0., 0., 0., 0., 0., 0., 0., 0., 0.,\n",
       "       0., 0., 0., 0., 0., 0., 0., 0., 0., 0., 0., 0., 0., 0., 0., 0., 0.,\n",
       "       0., 0., 0., 0., 0., 0., 0., 0., 0., 0., 0., 0., 0., 0., 0., 0., 0.,\n",
       "       0., 0., 0., 0., 0., 0., 0., 0., 0., 0., 0., 0., 0., 0., 0., 0., 0.,\n",
       "       0., 0., 0., 0., 0., 0., 0., 0., 0., 0., 0., 0., 0., 0., 0., 0., 0.,\n",
       "       0., 0., 0., 0., 0., 0., 0., 0., 0., 0., 0., 0., 0., 0., 0., 0., 0.,\n",
       "       0., 0., 0., 0., 0., 0., 0., 0., 0., 0., 0., 0., 0., 0., 0., 0., 0.,\n",
       "       0., 0., 0., 0., 0., 0., 0., 0., 0., 0., 0., 0., 0., 0., 0., 0., 0.,\n",
       "       0., 0., 0., 0., 0., 0., 0., 0., 0., 0., 0., 0., 0., 0., 0., 0., 0.,\n",
       "       0., 0., 0., 0., 0., 0., 0., 0., 0., 0., 0., 0., 0., 0., 0., 0., 0.,\n",
       "       0., 0., 0., 0., 0., 0., 0., 0., 0., 0., 0., 0., 0., 0., 0., 0., 0.,\n",
       "       0., 0., 0., 0., 0., 0., 0., 0., 0., 0., 0., 0., 0., 0., 0., 0., 0.,\n",
       "       0., 0., 0., 0., 0., 0., 0., 0., 0., 0., 0., 0., 0., 0., 0., 0., 0.,\n",
       "       0., 0., 0., 0., 0., 0., 0., 0., 0., 0., 0., 0., 0., 0., 0., 0., 0.,\n",
       "       0., 0., 0., 0., 0., 0., 0., 0., 0., 0., 0., 0., 0., 0., 0., 0., 0.,\n",
       "       0., 0., 0., 0., 0., 0., 0., 0., 0., 0., 0., 0., 0., 0., 0., 0., 0.,\n",
       "       0., 0., 0., 0., 0., 0., 0., 0., 0., 0., 0., 0., 0., 0., 0., 0., 0.,\n",
       "       0., 0., 0., 0., 0., 0., 0., 0., 0., 0., 0., 0., 0., 0., 0., 0., 0.,\n",
       "       0., 0., 0., 0., 0., 0., 0., 0., 0., 0., 0., 0., 0., 0.])"
      ]
     },
     "metadata": {},
     "output_type": "display_data"
    },
    {
     "data": {
      "text/plain": [
       "'In order to select the t=0 part(use): only z axis'"
      ]
     },
     "metadata": {},
     "output_type": "display_data"
    },
    {
     "data": {
      "text/plain": [
       "array([0., 0., 0., 0., 0., 0., 0., 0., 0., 0., 0., 0., 0., 0., 0., 0., 0.,\n",
       "       0., 0., 0., 0., 0., 0., 0., 0., 0., 0., 0., 0., 0., 0., 0., 0., 0.,\n",
       "       0., 0., 0., 0., 0., 0., 0., 0., 0., 0., 0., 0., 0., 0., 0., 0., 0.,\n",
       "       0., 0., 0., 0., 0., 0., 0., 0., 0., 0., 0., 0., 0., 0., 0., 0., 0.,\n",
       "       0., 0., 0., 0., 0., 0., 0., 0., 0., 0., 0., 0., 0., 0., 0., 0., 0.,\n",
       "       0., 0., 0., 0., 0., 0., 0., 0., 0., 0., 0., 0., 0., 0., 0., 0., 0.,\n",
       "       0., 0., 0., 0., 0., 0., 0., 0., 0., 0., 0., 0., 0., 0., 0., 0., 0.,\n",
       "       0., 0., 0., 0., 0., 0., 0., 0., 0., 0., 0., 0., 0., 0., 0., 0., 0.,\n",
       "       0., 0., 0., 0., 0., 0., 0., 0., 0., 0., 0., 0., 0., 0., 0., 0., 0.,\n",
       "       0., 0., 0., 0., 0., 0., 0., 0., 0., 0., 0., 0., 0., 0., 0., 0., 0.,\n",
       "       0., 0., 0., 0., 0., 0., 0., 0., 0., 0., 0., 0., 0., 0., 0., 0., 0.,\n",
       "       0., 0., 0., 0., 0., 0., 0., 0., 0., 0., 0., 0., 0., 0., 0., 0., 0.,\n",
       "       0., 0., 0., 0., 0., 0., 0., 0., 0., 0., 0., 0., 0., 0., 0., 0., 0.,\n",
       "       0., 0., 0., 0., 0., 0., 0., 0., 0., 0., 0., 0., 0., 0., 0., 0., 0.,\n",
       "       0., 0., 0., 0., 0., 0., 0., 0., 0., 0., 0., 0., 0., 0., 0., 0., 0.,\n",
       "       0., 0., 0., 0., 0., 0., 0., 0., 0., 0., 0., 0., 0., 0., 0., 0., 0.,\n",
       "       0., 0., 0., 0., 0., 0., 0., 0., 0., 0., 0., 0., 0., 0., 0., 0., 0.,\n",
       "       0., 0., 0., 0., 0., 0., 0., 0., 0., 0., 0., 0., 0., 0., 0., 0., 0.,\n",
       "       0., 0., 0., 0., 0., 0., 0., 0., 0., 0., 0., 0., 0., 0., 0., 0., 0.,\n",
       "       0., 0., 0., 0., 0., 0., 0., 0., 0., 0., 0., 0., 0., 0., 0., 0., 0.,\n",
       "       0., 0., 0., 0., 0., 0., 0., 0., 0., 0., 0., 0., 0., 0., 0., 0., 0.,\n",
       "       0., 0., 0., 0., 0., 0., 0., 0., 0., 0., 0., 0., 0., 0., 0., 0., 0.,\n",
       "       0., 0., 0., 0., 0., 0., 0., 0., 0., 0., 0., 0., 0., 0., 0., 0., 0.,\n",
       "       0., 0., 0., 0., 0., 0., 0., 0., 0., 0., 0., 0., 0., 0., 0., 0., 0.,\n",
       "       0., 0., 0., 0., 0., 0., 0., 0., 0., 0., 0., 0., 0., 0., 0., 0., 0.,\n",
       "       0., 0., 0., 0., 0., 0., 0., 0., 0., 0., 0., 0., 0., 0., 0., 0., 0.,\n",
       "       0., 0., 0., 0., 0., 0., 0., 0., 0., 0., 0., 0., 0., 0., 0., 0., 0.,\n",
       "       0., 0., 0., 0., 0., 0., 0., 0., 0., 0., 0., 0., 0., 0., 0., 0., 0.,\n",
       "       0., 0., 0., 0., 0., 0., 0., 0., 0., 0., 0., 0., 0., 0., 0., 0., 0.,\n",
       "       0., 0., 0., 0., 0., 0., 0., 0., 0., 0., 0., 0., 0., 0., 0., 0., 0.,\n",
       "       0., 0., 0., 0., 0., 0., 0., 0., 0., 0., 0., 0., 0., 0., 0., 0., 0.,\n",
       "       0., 0., 0., 0., 0., 0., 0., 0., 0., 0., 0., 0., 0., 0., 0., 0., 0.,\n",
       "       0., 0., 0., 0., 0., 0., 0., 0., 0., 0., 0., 0., 0., 0., 0., 0., 0.,\n",
       "       0., 0., 0., 0., 0., 0., 0., 0., 0., 0., 0., 0., 0., 0., 0., 0., 0.,\n",
       "       0., 0., 0., 0., 0., 0., 0., 0., 0., 0., 0., 0., 0., 0., 0., 0., 0.,\n",
       "       0., 0., 0., 0., 0., 0., 0., 0., 0., 0., 0., 0., 0., 0., 0., 0., 0.,\n",
       "       0., 0., 0., 0., 0., 0., 0., 0., 0., 0., 0., 0., 0., 0., 0., 0., 0.,\n",
       "       0., 0., 0., 0., 0., 0., 0., 0., 0., 0., 0., 0., 0., 0., 0., 0., 0.,\n",
       "       0., 0., 0., 0., 0., 0., 0., 0., 0., 0., 0., 0., 0., 0., 0., 0., 0.,\n",
       "       0., 0., 0., 0., 0., 0., 0., 0., 0., 0., 0., 0., 0., 0., 0., 0., 0.,\n",
       "       0., 0., 0., 0., 0., 0., 0., 0., 0., 0., 0., 0., 0., 0., 0., 0., 0.,\n",
       "       0., 0., 0., 0., 0., 0., 0., 0., 0., 0., 0., 0., 0., 0., 0., 0., 0.,\n",
       "       0., 0., 0., 0., 0., 0., 0., 0., 0., 0., 0., 0., 0., 0., 0., 0., 0.,\n",
       "       0., 0., 0., 0., 0., 0., 0., 0., 0., 0., 0., 0., 0., 0., 0., 0., 0.,\n",
       "       0., 0., 0., 0., 0., 0., 0., 0., 0., 0., 0., 0., 0., 0., 0., 0., 0.,\n",
       "       0., 0., 0., 0., 0., 0., 0., 0., 0., 0., 0., 0., 0., 0., 0., 0., 0.,\n",
       "       0., 0., 0., 0., 0., 0., 0., 0., 0., 0., 0., 0., 0., 0., 0., 0., 0.,\n",
       "       0., 0., 0., 0., 0., 0., 0., 0., 0., 0., 0., 0., 0., 0., 0., 0., 0.,\n",
       "       0., 0., 0., 0., 0., 0., 0., 0., 0., 0., 0., 0., 0., 0., 0., 0., 0.,\n",
       "       0., 0., 0., 0., 0., 0., 0., 0., 0., 0., 0., 0., 0., 0., 0., 0., 0.,\n",
       "       0., 0., 0., 0., 0., 0., 0., 0., 0., 0., 0., 0., 0., 0., 0., 0., 0.,\n",
       "       0., 0., 0., 0., 0., 0., 0., 0., 0., 0., 0., 0., 0., 0., 0., 0., 0.,\n",
       "       0., 0., 0., 0., 0., 0., 0., 0., 0., 0., 0., 0., 0., 0., 0., 0., 0.,\n",
       "       0., 0., 0., 0., 0., 0., 0., 0., 0., 0., 0., 0., 0., 0., 0., 0., 0.,\n",
       "       0., 0., 0., 0., 0., 0., 0., 0., 0., 0., 0., 0., 0., 0., 0., 0., 0.,\n",
       "       0., 0., 0., 0., 0., 0., 0., 0., 0., 0., 0., 0., 0., 0., 0., 0., 0.,\n",
       "       0., 0., 0., 0., 0., 0., 0., 0., 0., 0., 0., 0., 0., 0., 0., 0., 0.,\n",
       "       0., 0., 0., 0., 0., 0., 0., 0., 0., 0., 0., 0., 0., 0., 0., 0., 0.,\n",
       "       0., 0., 0., 0., 0., 0., 0., 0., 0., 0., 0., 0., 0., 0.])"
      ]
     },
     "metadata": {},
     "output_type": "display_data"
    },
    {
     "data": {
      "text/plain": [
       "'the electric field at z=0'"
      ]
     },
     "metadata": {},
     "output_type": "display_data"
    },
    {
     "data": {
      "text/plain": [
       "array([ 1.00000000e+00,  9.99949900e-01,  9.99799606e-01,  9.99549133e-01,\n",
       "        9.99198505e-01,  9.98747758e-01,  9.98196937e-01,  9.97546097e-01,\n",
       "        9.96795304e-01,  9.95944632e-01,  9.94994167e-01,  9.93944004e-01,\n",
       "        9.92794249e-01,  9.91545016e-01,  9.90196431e-01,  9.88748629e-01,\n",
       "        9.87201754e-01,  9.85555963e-01,  9.83811419e-01,  9.81968298e-01,\n",
       "        9.80026785e-01,  9.77987073e-01,  9.75849367e-01,  9.73613882e-01,\n",
       "        9.71280841e-01,  9.68850478e-01,  9.66323038e-01,  9.63698772e-01,\n",
       "        9.60977944e-01,  9.58160826e-01,  9.55247701e-01,  9.52238861e-01,\n",
       "        9.49134607e-01,  9.45935251e-01,  9.42641112e-01,  9.39252521e-01,\n",
       "        9.35769817e-01,  9.32193350e-01,  9.28523478e-01,  9.24760567e-01,\n",
       "        9.20904997e-01,  9.16957152e-01,  9.12917429e-01,  9.08786232e-01,\n",
       "        9.04563975e-01,  9.00251081e-01,  8.95847982e-01,  8.91355120e-01,\n",
       "        8.86772945e-01,  8.82101915e-01,  8.77342499e-01,  8.72495174e-01,\n",
       "        8.67560426e-01,  8.62538748e-01,  8.57430645e-01,  8.52236627e-01,\n",
       "        8.46957216e-01,  8.41592940e-01,  8.36144337e-01,  8.30611953e-01,\n",
       "        8.24996341e-01,  8.19298066e-01,  8.13517698e-01,  8.07655815e-01,\n",
       "        8.01713006e-01,  7.95689865e-01,  7.89586997e-01,  7.83405013e-01,\n",
       "        7.77144531e-01,  7.70806181e-01,  7.64390596e-01,  7.57898419e-01,\n",
       "        7.51330302e-01,  7.44686901e-01,  7.37968884e-01,  7.31176922e-01,\n",
       "        7.24311697e-01,  7.17373896e-01,  7.10364214e-01,  7.03283355e-01,\n",
       "        6.96132027e-01,  6.88910947e-01,  6.81620838e-01,  6.74262431e-01,\n",
       "        6.66836464e-01,  6.59343679e-01,  6.51784829e-01,  6.44160671e-01,\n",
       "        6.36471968e-01,  6.28719491e-01,  6.20904016e-01,  6.13026327e-01,\n",
       "        6.05087214e-01,  5.97087471e-01,  5.89027900e-01,  5.80909308e-01,\n",
       "        5.72732510e-01,  5.64498325e-01,  5.56207577e-01,  5.47861097e-01,\n",
       "        5.39459722e-01,  5.31004293e-01,  5.22495658e-01,  5.13934670e-01,\n",
       "        5.05322185e-01,  4.96659067e-01,  4.87946184e-01,  4.79184410e-01,\n",
       "        4.70374621e-01,  4.61517701e-01,  4.52614537e-01,  4.43666022e-01,\n",
       "        4.34673051e-01,  4.25636526e-01,  4.16557353e-01,  4.07436441e-01,\n",
       "        3.98274704e-01,  3.89073060e-01,  3.79832432e-01,  3.70553744e-01,\n",
       "        3.61237927e-01,  3.51885914e-01,  3.42498642e-01,  3.33077052e-01,\n",
       "        3.23622088e-01,  3.14134698e-01,  3.04615831e-01,  2.95066442e-01,\n",
       "        2.85487487e-01,  2.75879926e-01,  2.66244723e-01,  2.56582842e-01,\n",
       "        2.46895251e-01,  2.37182922e-01,  2.27446827e-01,  2.17687942e-01,\n",
       "        2.07907245e-01,  1.98105716e-01,  1.88284337e-01,  1.78444091e-01,\n",
       "        1.68585966e-01,  1.58710948e-01,  1.48820028e-01,  1.38914196e-01,\n",
       "        1.28994445e-01,  1.19061768e-01,  1.09117162e-01,  9.91616222e-02,\n",
       "        8.91961465e-02,  7.92217334e-02,  6.92393823e-02,  5.92500934e-02,\n",
       "        4.92548678e-02,  3.92547068e-02,  2.92506125e-02,  1.92435873e-02,\n",
       "        9.23463398e-03, -7.75244699e-04, -1.07850457e-02, -2.07937660e-02,\n",
       "       -3.08004029e-02, -4.08039535e-02, -5.08034156e-02, -6.07977872e-02,\n",
       "       -7.07860669e-02, -8.07672539e-02, -9.07403481e-02, -1.00704350e-01,\n",
       "       -1.10658262e-01, -1.20601085e-01, -1.30531825e-01, -1.40449485e-01,\n",
       "       -1.50353072e-01, -1.60241594e-01, -1.70114060e-01, -1.79969480e-01,\n",
       "       -1.89806868e-01, -1.99625237e-01, -2.09423604e-01, -2.19200987e-01,\n",
       "       -2.28956405e-01, -2.38688883e-01, -2.48397444e-01, -2.58081116e-01,\n",
       "       -2.67738928e-01, -2.77369913e-01, -2.86973105e-01, -2.96547543e-01,\n",
       "       -3.06092267e-01, -3.15606321e-01, -3.25088751e-01, -3.34538607e-01,\n",
       "       -3.43954943e-01, -3.53336815e-01, -3.62683283e-01, -3.71993410e-01,\n",
       "       -3.81266263e-01, -3.90500914e-01, -3.99696437e-01, -4.08851910e-01,\n",
       "       -4.17966417e-01, -4.27039043e-01, -4.36068881e-01, -4.45055025e-01,\n",
       "       -4.53996574e-01, -4.62892633e-01, -4.71742311e-01, -4.80544720e-01,\n",
       "       -4.89298979e-01, -4.98004210e-01, -5.06659542e-01, -5.15264107e-01,\n",
       "       -5.23817042e-01, -5.32317492e-01, -5.40764603e-01, -5.49157530e-01,\n",
       "       -5.57495432e-01, -5.65777473e-01, -5.74002823e-01, -5.82170659e-01,\n",
       "       -5.90280161e-01, -5.98330518e-01, -6.06320922e-01, -6.14250574e-01,\n",
       "       -6.22118677e-01, -6.29924445e-01, -6.37667095e-01, -6.45345851e-01,\n",
       "       -6.52959943e-01, -6.60508609e-01, -6.67991093e-01, -6.75406644e-01,\n",
       "       -6.82754520e-01, -6.90033984e-01, -6.97244307e-01, -7.04384767e-01,\n",
       "       -7.11454648e-01, -7.18453241e-01, -7.25379846e-01, -7.32233768e-01,\n",
       "       -7.39014320e-01, -7.45720824e-01, -7.52352607e-01, -7.58909005e-01,\n",
       "       -7.65389360e-01, -7.71793024e-01, -7.78119354e-01, -7.84367718e-01,\n",
       "       -7.90537488e-01, -7.96628046e-01, -8.02638783e-01, -8.08569096e-01,\n",
       "       -8.14418391e-01, -8.20186082e-01, -8.25871590e-01, -8.31474347e-01,\n",
       "       -8.36993790e-01, -8.42429367e-01, -8.47780532e-01, -8.53046751e-01,\n",
       "       -8.58227495e-01, -8.63322245e-01, -8.68330490e-01, -8.73251730e-01,\n",
       "       -8.78085470e-01, -8.82831226e-01, -8.87488523e-01, -8.92056894e-01,\n",
       "       -8.96535881e-01, -9.00925037e-01, -9.05223919e-01, -9.09432099e-01,\n",
       "       -9.13549155e-01, -9.17574673e-01, -9.21508251e-01, -9.25349494e-01,\n",
       "       -9.29098017e-01, -9.32753446e-01, -9.36315413e-01, -9.39783561e-01,\n",
       "       -9.43157544e-01, -9.46437023e-01, -9.49621670e-01, -9.52711165e-01,\n",
       "       -9.55705199e-01, -9.58603471e-01, -9.61405692e-01, -9.64111581e-01,\n",
       "       -9.66720867e-01, -9.69233287e-01, -9.71648591e-01, -9.73966536e-01,\n",
       "       -9.76186890e-01, -9.78309431e-01, -9.80333945e-01, -9.82260231e-01,\n",
       "       -9.84088095e-01, -9.85817354e-01, -9.87447834e-01, -9.88979373e-01,\n",
       "       -9.90411816e-01, -9.91745021e-01, -9.92978853e-01, -9.94113189e-01,\n",
       "       -9.95147916e-01, -9.96082929e-01, -9.96918136e-01, -9.97653452e-01,\n",
       "       -9.98288803e-01, -9.98824127e-01, -9.99259369e-01, -9.99594485e-01,\n",
       "       -9.99829443e-01, -9.99964218e-01, -9.99998798e-01, -9.99933178e-01,\n",
       "       -9.99767366e-01, -9.99501377e-01, -9.99135239e-01, -9.98668988e-01,\n",
       "       -9.98102670e-01, -9.97436344e-01, -9.96670075e-01, -9.95803940e-01,\n",
       "       -9.94838026e-01, -9.93772430e-01, -9.92607258e-01, -9.91342628e-01,\n",
       "       -9.89978665e-01, -9.88515508e-01, -9.86953301e-01, -9.85292203e-01,\n",
       "       -9.83532378e-01, -9.81674005e-01, -9.79717268e-01, -9.77662364e-01,\n",
       "       -9.75509498e-01, -9.73258887e-01, -9.70910757e-01, -9.68465341e-01,\n",
       "       -9.65922886e-01, -9.63283645e-01, -9.60547884e-01, -9.57715877e-01,\n",
       "       -9.54787907e-01, -9.51764268e-01, -9.48645263e-01, -9.45431204e-01,\n",
       "       -9.42122413e-01, -9.38719222e-01, -9.35221972e-01, -9.31631013e-01,\n",
       "       -9.27946706e-01, -9.24169418e-01, -9.20299529e-01, -9.16337427e-01,\n",
       "       -9.12283508e-01, -9.08138179e-01, -9.03901855e-01, -8.99574960e-01,\n",
       "       -8.95157929e-01, -8.90651203e-01, -8.86055234e-01, -8.81370484e-01,\n",
       "       -8.76597420e-01, -8.71736521e-01, -8.66788276e-01, -8.61753178e-01,\n",
       "       -8.56631733e-01, -8.51424454e-01, -8.46131863e-01, -8.40754490e-01,\n",
       "       -8.35292874e-01, -8.29747562e-01, -8.24119109e-01, -8.18408081e-01,\n",
       "       -8.12615048e-01, -8.06740592e-01, -8.00785301e-01, -7.94749771e-01,\n",
       "       -7.88634608e-01, -7.82440424e-01, -7.76167840e-01, -7.69817485e-01,\n",
       "       -7.63389994e-01, -7.56886012e-01, -7.50306190e-01, -7.43651188e-01,\n",
       "       -7.36921673e-01, -7.30118318e-01, -7.23241806e-01, -7.16292826e-01,\n",
       "       -7.09272073e-01, -7.02180252e-01, -6.95018073e-01, -6.87786253e-01,\n",
       "       -6.80485517e-01, -6.73116597e-01, -6.65680231e-01, -6.58177165e-01,\n",
       "       -6.50608149e-01, -6.42973943e-01, -6.35275311e-01, -6.27513025e-01,\n",
       "       -6.19687862e-01, -6.11800607e-01, -6.03852050e-01, -5.95842988e-01,\n",
       "       -5.87774222e-01, -5.79646561e-01, -5.71460820e-01, -5.63217820e-01,\n",
       "       -5.54918385e-01, -5.46563347e-01, -5.38153544e-01, -5.29689819e-01,\n",
       "       -5.21173018e-01, -5.12603997e-01, -5.03983613e-01, -4.95312730e-01,\n",
       "       -4.86592217e-01, -4.77822948e-01, -4.69005801e-01, -4.60141660e-01,\n",
       "       -4.51231412e-01, -4.42275952e-01, -4.33276176e-01, -4.24232986e-01,\n",
       "       -4.15147288e-01, -4.06019993e-01, -3.96852014e-01, -3.87644272e-01,\n",
       "       -3.78397687e-01, -3.69113187e-01, -3.59791703e-01, -3.50434167e-01,\n",
       "       -3.41041518e-01, -3.31614697e-01, -3.22154648e-01, -3.12662319e-01,\n",
       "       -3.03138662e-01, -2.93584631e-01, -2.84001182e-01, -2.74389277e-01,\n",
       "       -2.64749878e-01, -2.55083951e-01, -2.45392466e-01, -2.35676391e-01,\n",
       "       -2.25936703e-01, -2.16174375e-01, -2.06390387e-01, -1.96585719e-01,\n",
       "       -1.86761353e-01, -1.76918273e-01, -1.67057466e-01, -1.57179921e-01,\n",
       "       -1.47286626e-01, -1.37378573e-01, -1.27456754e-01, -1.17522165e-01,\n",
       "       -1.07575800e-01, -9.76186559e-02, -8.76517305e-02, -7.76760224e-02,\n",
       "       -6.76925312e-02, -5.77022572e-02, -4.77062016e-02, -3.77053657e-02,\n",
       "       -2.77007519e-02, -1.76933624e-02, -7.68420006e-03,  2.32573223e-03,\n",
       "        1.23354315e-02,  2.23438947e-02,  3.23501191e-02,  4.23531021e-02,\n",
       "        5.23518413e-02,  6.23453348e-02,  7.23325814e-02,  8.23125803e-02,\n",
       "        9.22843315e-02,  1.02246836e-01,  1.12199095e-01,  1.22140112e-01,\n",
       "        1.32068891e-01,  1.41984436e-01,  1.51885755e-01,  1.61771855e-01,\n",
       "        1.71641745e-01,  1.81494437e-01,  1.91328943e-01,  2.01144278e-01,\n",
       "        2.10939459e-01,  2.20713504e-01,  2.30465433e-01,  2.40194270e-01,\n",
       "        2.49899039e-01,  2.59578769e-01,  2.69232489e-01,  2.78859232e-01,\n",
       "        2.88458033e-01,  2.98027932e-01,  3.07567967e-01,  3.17077185e-01,\n",
       "        3.26554632e-01,  3.35999358e-01,  3.45410418e-01,  3.54786867e-01,\n",
       "        3.64127767e-01,  3.73432181e-01,  3.82699178e-01,  3.91927829e-01,\n",
       "        4.01117208e-01,  4.10266396e-01,  4.19374475e-01,  4.28440534e-01,\n",
       "        4.37463662e-01,  4.46442957e-01,  4.55377519e-01,  4.64266452e-01,\n",
       "        4.73108866e-01,  4.81903875e-01,  4.90650597e-01,  4.99348156e-01,\n",
       "        5.07995681e-01,  5.16592305e-01,  5.25137167e-01,  5.33629410e-01,\n",
       "        5.42068184e-01,  5.50452643e-01,  5.58781947e-01,  5.67055261e-01,\n",
       "        5.75271756e-01,  5.83430610e-01,  5.91531004e-01,  5.99572127e-01,\n",
       "        6.07553173e-01,  6.15473343e-01,  6.23331843e-01,  6.31127885e-01,\n",
       "        6.38860689e-01,  6.46529479e-01,  6.54133487e-01,  6.61671951e-01,\n",
       "        6.69144116e-01,  6.76549233e-01,  6.83886561e-01,  6.91155363e-01,\n",
       "        6.98354912e-01,  7.05484486e-01,  7.12543371e-01,  7.19530859e-01,\n",
       "        7.26446251e-01,  7.33288853e-01,  7.40057981e-01,  7.46752954e-01,\n",
       "        7.53373104e-01,  7.59917766e-01,  7.66386284e-01,  7.72778011e-01,\n",
       "        7.79092307e-01,  7.85328537e-01,  7.91486078e-01,  7.97564313e-01,\n",
       "        8.03562632e-01,  8.09480434e-01,  8.15317127e-01,  8.21072126e-01,\n",
       "        8.26744853e-01,  8.32334742e-01,  8.37841230e-01,  8.43263768e-01,\n",
       "        8.48601811e-01,  8.53854824e-01,  8.59022282e-01,  8.64103666e-01,\n",
       "        8.69098468e-01,  8.74006186e-01,  8.78826329e-01,  8.83558414e-01,\n",
       "        8.88201968e-01,  8.92756523e-01,  8.97221626e-01,  9.01596827e-01,\n",
       "        9.05881688e-01,  9.10075781e-01,  9.14178684e-01,  9.18189988e-01,\n",
       "        9.22109289e-01,  9.25936195e-01,  9.29670323e-01,  9.33311299e-01,\n",
       "        9.36858757e-01,  9.40312343e-01,  9.43671709e-01,  9.46936521e-01,\n",
       "        9.50106449e-01,  9.53181178e-01,  9.56160398e-01,  9.59043812e-01,\n",
       "        9.61831130e-01,  9.64522073e-01,  9.67116371e-01,  9.69613765e-01,\n",
       "        9.72014004e-01,  9.74316848e-01,  9.76522066e-01,  9.78629437e-01,\n",
       "        9.80638749e-01,  9.82549803e-01,  9.84362405e-01,  9.86076374e-01,\n",
       "        9.87691540e-01,  9.89207739e-01,  9.90624820e-01,  9.91942641e-01,\n",
       "        9.93161070e-01,  9.94279984e-01,  9.95299273e-01,  9.96218833e-01,\n",
       "        9.97038572e-01,  9.97758408e-01,  9.98378270e-01,  9.98898095e-01,\n",
       "        9.99317830e-01,  9.99637435e-01,  9.99856876e-01,  9.99976133e-01,\n",
       "        9.99995192e-01,  9.99914052e-01,  9.99732722e-01,  9.99451218e-01,\n",
       "        9.99069571e-01,  9.98587817e-01,  9.98006005e-01,  9.97324193e-01,\n",
       "        9.96542450e-01,  9.95660854e-01,  9.94679493e-01,  9.93598466e-01,\n",
       "        9.92417881e-01,  9.91137856e-01,  9.89758520e-01,  9.88280011e-01,\n",
       "        9.86702476e-01,  9.85026074e-01,  9.83250973e-01,  9.81377351e-01,\n",
       "        9.79405396e-01,  9.77335304e-01,  9.75167284e-01,  9.72901553e-01,\n",
       "        9.70538338e-01,  9.68077875e-01,  9.65520411e-01,  9.62866203e-01,\n",
       "        9.60115516e-01,  9.57268626e-01,  9.54325818e-01,  9.51287388e-01,\n",
       "        9.48153638e-01,  9.44924885e-01,  9.41601450e-01,  9.38183667e-01,\n",
       "        9.34671879e-01,  9.31066437e-01,  9.27367703e-01,  9.23576047e-01,\n",
       "        9.19691849e-01,  9.15715499e-01,  9.11647395e-01,  9.07487943e-01,\n",
       "        9.03237562e-01,  8.98896678e-01,  8.94465724e-01,  8.89945145e-01,\n",
       "        8.85335394e-01,  8.80636933e-01,  8.75850233e-01,  8.70975773e-01,\n",
       "        8.66014042e-01,  8.60965536e-01,  8.55830762e-01,  8.50610235e-01,\n",
       "        8.45304477e-01,  8.39914019e-01,  8.34439403e-01,  8.28881176e-01,\n",
       "        8.23239896e-01,  8.17516128e-01,  8.11710445e-01,  8.05823429e-01,\n",
       "        7.99855670e-01,  7.93807766e-01,  7.87680323e-01,  7.81473955e-01,\n",
       "        7.75189283e-01,  7.68826938e-01,  7.62387557e-01,  7.55871785e-01,\n",
       "        7.49280275e-01,  7.42613687e-01,  7.35872690e-01,  7.29057959e-01,\n",
       "        7.22170177e-01,  7.15210034e-01,  7.08178227e-01,  7.01075461e-01,\n",
       "        6.93902448e-01,  6.86659906e-01,  6.79348561e-01,  6.71969145e-01,\n",
       "        6.64522399e-01,  6.57009068e-01,  6.49429905e-01,  6.41785669e-01,\n",
       "        6.34077127e-01,  6.26305051e-01,  6.18470219e-01,  6.10573417e-01,\n",
       "        6.02615435e-01,  5.94597072e-01,  5.86519131e-01,  5.78382421e-01,\n",
       "        5.70187757e-01,  5.61935960e-01,  5.53627858e-01,  5.45264283e-01,\n",
       "        5.36846073e-01,  5.28374071e-01,  5.19849126e-01,  5.11272092e-01,\n",
       "        5.02643829e-01,  4.93965202e-01,  4.85237080e-01,  4.76460337e-01,\n",
       "        4.67635853e-01,  4.58764512e-01,  4.49847203e-01,  4.40884820e-01,\n",
       "        4.31878260e-01,  4.22828426e-01,  4.13736226e-01,  4.04602569e-01,\n",
       "        3.95428371e-01,  3.86214551e-01,  3.76962033e-01,  3.67671743e-01,\n",
       "        3.58344613e-01,  3.48981577e-01,  3.39583574e-01,  3.30151544e-01,\n",
       "        3.20686433e-01,  3.11189189e-01,  3.01660765e-01,  2.92102114e-01,\n",
       "        2.82514195e-01,  2.72897968e-01,  2.63254397e-01,  2.53584448e-01,\n",
       "        2.43889090e-01,  2.34169294e-01,  2.24426035e-01,  2.14660288e-01,\n",
       "        2.04873032e-01,  1.95065249e-01,  1.85237919e-01,  1.75392030e-01,\n",
       "        1.65528565e-01,  1.55648516e-01,  1.45752870e-01,  1.35842619e-01,\n",
       "        1.25918758e-01,  1.15982279e-01,  1.06034179e-01,  9.60754549e-02,\n",
       "        8.61071037e-02,  7.61301246e-02,  6.61455173e-02,  5.61542823e-02,\n",
       "        4.61574206e-02,  3.61559340e-02,  2.61508246e-02,  1.61430949e-02,\n",
       "        6.13374766e-03, -3.87621418e-03, -1.38857876e-02, -2.38939697e-02,\n",
       "       -3.38997577e-02, -4.39021489e-02, -5.39001411e-02, -6.38927325e-02,\n",
       "       -7.38789220e-02, -8.38577088e-02, -9.38280931e-02, -1.03789076e-01,\n",
       "       -1.13739659e-01, -1.23678846e-01, -1.33605640e-01, -1.43519046e-01,\n",
       "       -1.53418073e-01, -1.63301726e-01, -1.73169017e-01, -1.83018957e-01,\n",
       "       -1.92850558e-01, -2.02662836e-01, -2.12454807e-01, -2.22225490e-01,\n",
       "       -2.31973906e-01, -2.41699079e-01, -2.51400034e-01, -2.61075798e-01,\n",
       "       -2.70725403e-01, -2.80347881e-01, -2.89942268e-01, -2.99507604e-01,\n",
       "       -3.09042928e-01, -3.18547287e-01, -3.28019728e-01, -3.37459301e-01,\n",
       "       -3.46865061e-01, -3.56236066e-01, -3.65571375e-01, -3.74870055e-01,\n",
       "       -3.84131173e-01, -3.93353801e-01, -4.02537015e-01, -4.11679896e-01,\n",
       "       -4.20781526e-01, -4.29840994e-01, -4.38857392e-01, -4.47829817e-01,\n",
       "       -4.56757370e-01, -4.65639155e-01, -4.74474285e-01, -4.83261871e-01,\n",
       "       -4.92001036e-01, -5.00690902e-01, -5.09330599e-01, -5.17919262e-01,\n",
       "       -5.26456029e-01, -5.34940046e-01, -5.43370462e-01, -5.51746432e-01,\n",
       "       -5.60067118e-01, -5.68331685e-01, -5.76539306e-01, -5.84689158e-01,\n",
       "       -5.92780425e-01, -6.00812295e-01, -6.08783964e-01, -6.16694633e-01,\n",
       "       -6.24543510e-01, -6.32329808e-01, -6.40052747e-01, -6.47711552e-01,\n",
       "       -6.55305458e-01, -6.62833702e-01, -6.70295531e-01, -6.77690196e-01,\n",
       "       -6.85016957e-01, -6.92275080e-01, -6.99463837e-01, -7.06582509e-01,\n",
       "       -7.13630381e-01, -7.20606748e-01, -7.27510910e-01, -7.34342176e-01,\n",
       "       -7.41099862e-01, -7.47783289e-01, -7.54391789e-01, -7.60924700e-01,\n",
       "       -7.67381366e-01, -7.73761141e-01, -7.80063386e-01, -7.86287469e-01,\n",
       "       -7.92432766e-01, -7.98498661e-01, -8.04484548e-01, -8.10389826e-01,\n",
       "       -8.16213903e-01, -8.21956196e-01, -8.27616129e-01, -8.33193136e-01,\n",
       "       -8.38686657e-01, -8.44096142e-01, -8.49421049e-01, -8.54660845e-01,\n",
       "       -8.59815004e-01, -8.64883010e-01, -8.69864355e-01, -8.74758541e-01,\n",
       "       -8.79565076e-01, -8.84283479e-01, -8.88913277e-01, -8.93454007e-01,\n",
       "       -8.97905213e-01, -9.02266449e-01, -9.06537279e-01, -9.10717274e-01,\n",
       "       -9.14806016e-01, -9.18803095e-01, -9.22708110e-01, -9.26520671e-01,\n",
       "       -9.30240394e-01, -9.33866908e-01, -9.37399849e-01, -9.40838863e-01,\n",
       "       -9.44183606e-01, -9.47433742e-01, -9.50588945e-01, -9.53648900e-01,\n",
       "       -9.56613300e-01, -9.59481847e-01, -9.62254255e-01, -9.64930246e-01,\n",
       "       -9.67509551e-01, -9.69991913e-01, -9.72377081e-01, -9.74664818e-01,\n",
       "       -9.76854895e-01, -9.78947090e-01, -9.80941196e-01, -9.82837012e-01,\n",
       "       -9.84634348e-01, -9.86333025e-01, -9.87932871e-01, -9.89433727e-01,\n",
       "       -9.90835442e-01, -9.92137877e-01, -9.93340899e-01, -9.94444389e-01,\n",
       "       -9.95448237e-01, -9.96352341e-01, -9.97156611e-01, -9.97860966e-01,\n",
       "       -9.98465337e-01, -9.98969661e-01, -9.99373890e-01, -9.99677982e-01,\n",
       "       -9.99881906e-01, -9.99985643e-01, -9.99989182e-01, -9.99892522e-01,\n",
       "       -9.99695674e-01, -9.99398657e-01, -9.99001501e-01, -9.98504245e-01,\n",
       "       -9.97906940e-01, -9.97209644e-01, -9.96412429e-01, -9.95515375e-01,\n",
       "       -9.94518569e-01, -9.93422114e-01, -9.92226118e-01, -9.90930702e-01,\n",
       "       -9.89535995e-01, -9.88042137e-01, -9.86449278e-01, -9.84757577e-01,\n",
       "       -9.82967204e-01, -9.81078338e-01, -9.79091169e-01, -9.77005895e-01,\n",
       "       -9.74822726e-01, -9.72541880e-01, -9.70163586e-01, -9.67688082e-01,\n",
       "       -9.65115616e-01, -9.62446446e-01, -9.59680840e-01, -9.56819074e-01,\n",
       "       -9.53861435e-01, -9.50808220e-01, -9.47659734e-01, -9.44416293e-01,\n",
       "       -9.41078223e-01, -9.37645857e-01, -9.34119539e-01, -9.30499623e-01,\n",
       "       -9.26786471e-01, -9.22980456e-01, -9.19081959e-01, -9.15091370e-01,\n",
       "       -9.11009089e-01, -9.06835526e-01, -9.02571099e-01, -8.98216234e-01,\n",
       "       -8.93771368e-01, -8.89236948e-01, -8.84613426e-01, -8.79901266e-01,\n",
       "       -8.75100941e-01, -8.70212930e-01, -8.65237726e-01, -8.60175824e-01,\n",
       "       -8.55027734e-01, -8.49793970e-01, -8.44475058e-01, -8.39071529e-01])"
      ]
     },
     "metadata": {},
     "output_type": "display_data"
    },
    {
     "data": {
      "text/plain": [
       "'the electric field at t=0'"
      ]
     },
     "metadata": {},
     "output_type": "display_data"
    },
    {
     "data": {
      "text/plain": [
       "array([ 1.        ,  0.99992089,  0.99968356,  0.99928805,  0.99873443,\n",
       "        0.99802278,  0.99715321,  0.99612587,  0.99494091,  0.99359853,\n",
       "        0.99209893,  0.99044235,  0.98862906,  0.98665934,  0.9845335 ,\n",
       "        0.98225188,  0.97981484,  0.97722277,  0.97447607,  0.97157518,\n",
       "        0.96852057,  0.9653127 ,  0.9619521 ,  0.95843929,  0.95477483,\n",
       "        0.95095929,  0.94699329,  0.94287745,  0.93861241,  0.93419886,\n",
       "        0.9296375 ,  0.92492904,  0.92007423,  0.91507385,  0.90992867,\n",
       "        0.90463951,  0.89920721,  0.89363264,  0.88791667,  0.8820602 ,\n",
       "        0.87606417,  0.86992952,  0.86365722,  0.85724827,  0.85070368,\n",
       "        0.84402448,  0.83721174,  0.83026652,  0.82318994,  0.8159831 ,\n",
       "        0.80864715,  0.80118325,  0.79359258,  0.78587634,  0.77803575,\n",
       "        0.77007206,  0.76198652,  0.75378041,  0.74545504,  0.73701171,\n",
       "        0.72845177,  0.71977656,  0.71098747,  0.70208588,  0.69307319,\n",
       "        0.68395085,  0.67472028,  0.66538296,  0.65594035,  0.64639396,\n",
       "        0.63674529,  0.62699586,  0.61714723,  0.60720095,  0.59715859,\n",
       "        0.58702175,  0.57679202,  0.56647103,  0.5560604 ,  0.54556179,\n",
       "        0.53497686,  0.52430728,  0.51355474,  0.50272095,  0.4918076 ,\n",
       "        0.48081644,  0.4697492 ,  0.45860764,  0.44739351,  0.43610858,\n",
       "        0.42475466,  0.41333353,  0.40184699,  0.39029687,  0.378685  ,\n",
       "        0.36701321,  0.35528334,  0.34349726,  0.33165683,  0.31976392,\n",
       "        0.30782042,  0.29582821,  0.28378919,  0.27170527,  0.25957836,\n",
       "        0.24741038,  0.23520324,  0.2229589 ,  0.21067927,  0.19836631,\n",
       "        0.18602196,  0.17364818,  0.16124692,  0.14882015,  0.13636983,\n",
       "        0.12389793,  0.11140643,  0.0988973 ,  0.08637252,  0.07383408,\n",
       "        0.06128395,  0.04872413,  0.0361566 ,  0.02358334,  0.01100636,\n",
       "       -0.00157237, -0.01415085, -0.02672708, -0.03929909, -0.05186489,\n",
       "       -0.06442247, -0.07696986, -0.08950508, -0.10202613, -0.11453103,\n",
       "       -0.12701782, -0.13948451, -0.15192912, -0.1643497 , -0.17674428,\n",
       "       -0.18911088, -0.20144757, -0.21375238, -0.22602337, -0.23825859,\n",
       "       -0.25045612, -0.26261401, -0.27473036, -0.28680323, -0.29883073,\n",
       "       -0.31081094, -0.32274197, -0.33462193, -0.34644895, -0.35822115,\n",
       "       -0.36993667, -0.38159366, -0.39319026, -0.40472466, -0.41619501,\n",
       "       -0.42759951, -0.43893635, -0.45020374, -0.4613999 , -0.47252305,\n",
       "       -0.48357143, -0.4945433 , -0.50543692, -0.51625056, -0.52698252,\n",
       "       -0.5376311 , -0.5481946 , -0.55867137, -0.56905974, -0.57935807,\n",
       "       -0.58956473, -0.5996781 , -0.60969659, -0.6196186 , -0.62944258,\n",
       "       -0.63916696, -0.6487902 , -0.65831079, -0.66772722, -0.67703799,\n",
       "       -0.68624164, -0.6953367 , -0.70432174, -0.71319534, -0.72195609,\n",
       "       -0.73060261, -0.73913353, -0.74754749, -0.75584317, -0.76401926,\n",
       "       -0.77207446, -0.78000749, -0.78781711, -0.79550207, -0.80306115,\n",
       "       -0.81049318, -0.81779696, -0.82497134, -0.83201519, -0.83892739,\n",
       "       -0.84570685, -0.85235249, -0.85886327, -0.86523815, -0.87147613,\n",
       "       -0.87757621, -0.88353744, -0.88935887, -0.89503957, -0.90057866,\n",
       "       -0.90597525, -0.91122849, -0.91633755, -0.92130162, -0.92611991,\n",
       "       -0.93079166, -0.93531614, -0.93969262, -0.94392042, -0.94799886,\n",
       "       -0.95192731, -0.95570513, -0.95933173, -0.96280654, -0.96612901,\n",
       "       -0.96929861, -0.97231483, -0.97517722, -0.9778853 , -0.98043865,\n",
       "       -0.98283687, -0.98507957, -0.98716641, -0.98909706, -0.9908712 ,\n",
       "       -0.99248855, -0.99394887, -0.99525192, -0.99639749, -0.9973854 ,\n",
       "       -0.9982155 , -0.99888765, -0.99940175, -0.99975772, -0.9999555 ,\n",
       "       -0.99999506, -0.99987639, -0.99959951, -0.99916446, -0.99857133,\n",
       "       -0.99782019, -0.99691116, -0.9958444 , -0.99462007, -0.99323836,\n",
       "       -0.99169949, -0.99000371, -0.98815128, -0.9861425 , -0.98397768,\n",
       "       -0.98165717, -0.97918134, -0.97655057, -0.97376528, -0.97082592,\n",
       "       -0.96773295, -0.96448685, -0.96108814, -0.95753737, -0.95383508,\n",
       "       -0.94998187, -0.94597835, -0.94182515, -0.93752292, -0.93307235,\n",
       "       -0.92847415, -0.92372903, -0.91883775, -0.91380109, -0.90861984,\n",
       "       -0.90329482, -0.89782688, -0.89221687, -0.88646569, -0.88057424,\n",
       "       -0.87454347, -0.86837431, -0.86206776, -0.8556248 , -0.84904646,\n",
       "       -0.84233378, -0.83548781, -0.82850965, -0.82140039, -0.81416117,\n",
       "       -0.80679312, -0.79929742, -0.79167524, -0.7839278 , -0.77605632,\n",
       "       -0.76806205, -0.75994625, -0.7517102 , -0.74335521, -0.7348826 ,\n",
       "       -0.72629372, -0.71758991, -0.70877256, -0.69984306, -0.69080283,\n",
       "       -0.6816533 , -0.6723959 , -0.66303212, -0.65356343, -0.64399132,\n",
       "       -0.63431732, -0.62454294, -0.61466975, -0.60469931, -0.59463318,\n",
       "       -0.58447296, -0.57422026, -0.56387671, -0.55344393, -0.54292359,\n",
       "       -0.53231734, -0.52162686, -0.51085385, -0.5       , -0.48906704,\n",
       "       -0.4780567 , -0.46697071, -0.45581084, -0.44457884, -0.4332765 ,\n",
       "       -0.42190561, -0.41046795, -0.39896535, -0.38739962, -0.3757726 ,\n",
       "       -0.36408611, -0.35234202, -0.34054218, -0.32868845, -0.31678272,\n",
       "       -0.30482686, -0.29282277, -0.28077235, -0.2686775 , -0.25654014,\n",
       "       -0.24436219, -0.23214557, -0.21989222, -0.20760408, -0.19528309,\n",
       "       -0.1829312 , -0.17055036, -0.15814254, -0.1457097 , -0.1332538 ,\n",
       "       -0.12077682, -0.10828072, -0.0957675 , -0.08323912, -0.07069757,\n",
       "       -0.05814483, -0.04558289, -0.03301374, -0.02043937, -0.00786176,\n",
       "        0.00471709,  0.01729519,  0.02987056,  0.0424412 ,  0.05500513,\n",
       "        0.06756035,  0.08010489,  0.09263674,  0.10515394,  0.11765451,\n",
       "        0.13013645,  0.14259781,  0.1550366 ,  0.16745086,  0.17983863,\n",
       "        0.19219794,  0.20452683,  0.21682337,  0.2290856 ,  0.24131158,\n",
       "        0.25349938,  0.26564707,  0.27775273,  0.28981444,  0.30183029,\n",
       "        0.31379838,  0.32571682,  0.33758372,  0.34939721,  0.36115542,\n",
       "        0.37285648,  0.38449854,  0.39607977,  0.40759832,  0.41905238,\n",
       "        0.43044014,  0.44175978,  0.45300953,  0.4641876 ,  0.47529222,\n",
       "        0.48632164,  0.49727411,  0.5081479 ,  0.51894128,  0.52965255,\n",
       "        0.54028001,  0.55082199,  0.56127682,  0.57164283,  0.58191839,\n",
       "        0.59210188,  0.60219168,  0.6121862 ,  0.62208385,  0.63188307,\n",
       "        0.64158231,  0.65118003,  0.66067472,  0.67006487,  0.679349  ,\n",
       "        0.68852564,  0.69759333,  0.70655065,  0.71539616,  0.72412849,\n",
       "        0.73274623,  0.74124804,  0.74963255,  0.75789846,  0.76604444,\n",
       "        0.77406922,  0.78197151,  0.78975008,  0.79740368,  0.80493112,\n",
       "        0.81233119,  0.81960273,  0.82674458,  0.83375562,  0.84063474,\n",
       "        0.84738084,  0.85399287,  0.86046977,  0.86681052,  0.87301411,\n",
       "        0.87907957,  0.88500594,  0.89079227,  0.89643766,  0.9019412 ,\n",
       "        0.90730203,  0.9125193 ,  0.91759219,  0.92251988,  0.92730161,\n",
       "        0.93193662,  0.93642416,  0.94076354,  0.94495406,  0.94899506,\n",
       "        0.95288591,  0.95662598,  0.96021469,  0.96365146,  0.96693576,\n",
       "        0.97006706,  0.97304487,  0.97586872,  0.97853816,  0.98105276,\n",
       "        0.98341214,  0.98561591,  0.98766373,  0.98955528,  0.99129025,\n",
       "        0.99286837,  0.99428939,  0.99555308,  0.99665925,  0.99760773,\n",
       "        0.99839835,  0.999031  ,  0.99950557,  0.999822  ,  0.99998022,\n",
       "        0.99998022,  0.999822  ,  0.99950557,  0.999031  ,  0.99839835,\n",
       "        0.99760773,  0.99665925,  0.99555308,  0.99428939,  0.99286837,\n",
       "        0.99129025,  0.98955528,  0.98766373,  0.98561591,  0.98341214,\n",
       "        0.98105276,  0.97853816,  0.97586872,  0.97304487,  0.97006706,\n",
       "        0.96693576,  0.96365146,  0.96021469,  0.95662598,  0.95288591,\n",
       "        0.94899506,  0.94495406,  0.94076354,  0.93642416,  0.93193662,\n",
       "        0.92730161,  0.92251988,  0.91759219,  0.9125193 ,  0.90730203,\n",
       "        0.9019412 ,  0.89643766,  0.89079227,  0.88500594,  0.87907957,\n",
       "        0.87301411,  0.86681052,  0.86046977,  0.85399287,  0.84738084,\n",
       "        0.84063474,  0.83375562,  0.82674458,  0.81960273,  0.81233119,\n",
       "        0.80493112,  0.79740368,  0.78975008,  0.78197151,  0.77406922,\n",
       "        0.76604444,  0.75789846,  0.74963255,  0.74124804,  0.73274623,\n",
       "        0.72412849,  0.71539616,  0.70655065,  0.69759333,  0.68852564,\n",
       "        0.679349  ,  0.67006487,  0.66067472,  0.65118003,  0.64158231,\n",
       "        0.63188307,  0.62208385,  0.6121862 ,  0.60219168,  0.59210188,\n",
       "        0.58191839,  0.57164283,  0.56127682,  0.55082199,  0.54028001,\n",
       "        0.52965255,  0.51894128,  0.5081479 ,  0.49727411,  0.48632164,\n",
       "        0.47529222,  0.4641876 ,  0.45300953,  0.44175978,  0.43044014,\n",
       "        0.41905238,  0.40759832,  0.39607977,  0.38449854,  0.37285648,\n",
       "        0.36115542,  0.34939721,  0.33758372,  0.32571682,  0.31379838,\n",
       "        0.30183029,  0.28981444,  0.27775273,  0.26564707,  0.25349938,\n",
       "        0.24131158,  0.2290856 ,  0.21682337,  0.20452683,  0.19219794,\n",
       "        0.17983863,  0.16745086,  0.1550366 ,  0.14259781,  0.13013645,\n",
       "        0.11765451,  0.10515394,  0.09263674,  0.08010489,  0.06756035,\n",
       "        0.05500513,  0.0424412 ,  0.02987056,  0.01729519,  0.00471709,\n",
       "       -0.00786176, -0.02043937, -0.03301374, -0.04558289, -0.05814483,\n",
       "       -0.07069757, -0.08323912, -0.0957675 , -0.10828072, -0.12077682,\n",
       "       -0.1332538 , -0.1457097 , -0.15814254, -0.17055036, -0.1829312 ,\n",
       "       -0.19528309, -0.20760408, -0.21989222, -0.23214557, -0.24436219,\n",
       "       -0.25654014, -0.2686775 , -0.28077235, -0.29282277, -0.30482686,\n",
       "       -0.31678272, -0.32868845, -0.34054218, -0.35234202, -0.36408611,\n",
       "       -0.3757726 , -0.38739962, -0.39896535, -0.41046795, -0.42190561,\n",
       "       -0.4332765 , -0.44457884, -0.45581084, -0.46697071, -0.4780567 ,\n",
       "       -0.48906704, -0.5       , -0.51085385, -0.52162686, -0.53231734,\n",
       "       -0.54292359, -0.55344393, -0.56387671, -0.57422026, -0.58447296,\n",
       "       -0.59463318, -0.60469931, -0.61466975, -0.62454294, -0.63431732,\n",
       "       -0.64399132, -0.65356343, -0.66303212, -0.6723959 , -0.6816533 ,\n",
       "       -0.69080283, -0.69984306, -0.70877256, -0.71758991, -0.72629372,\n",
       "       -0.7348826 , -0.74335521, -0.7517102 , -0.75994625, -0.76806205,\n",
       "       -0.77605632, -0.7839278 , -0.79167524, -0.79929742, -0.80679312,\n",
       "       -0.81416117, -0.82140039, -0.82850965, -0.83548781, -0.84233378,\n",
       "       -0.84904646, -0.8556248 , -0.86206776, -0.86837431, -0.87454347,\n",
       "       -0.88057424, -0.88646569, -0.89221687, -0.89782688, -0.90329482,\n",
       "       -0.90861984, -0.91380109, -0.91883775, -0.92372903, -0.92847415,\n",
       "       -0.93307235, -0.93752292, -0.94182515, -0.94597835, -0.94998187,\n",
       "       -0.95383508, -0.95753737, -0.96108814, -0.96448685, -0.96773295,\n",
       "       -0.97082592, -0.97376528, -0.97655057, -0.97918134, -0.98165717,\n",
       "       -0.98397768, -0.9861425 , -0.98815128, -0.99000371, -0.99169949,\n",
       "       -0.99323836, -0.99462007, -0.9958444 , -0.99691116, -0.99782019,\n",
       "       -0.99857133, -0.99916446, -0.99959951, -0.99987639, -0.99999506,\n",
       "       -0.9999555 , -0.99975772, -0.99940175, -0.99888765, -0.9982155 ,\n",
       "       -0.9973854 , -0.99639749, -0.99525192, -0.99394887, -0.99248855,\n",
       "       -0.9908712 , -0.98909706, -0.98716641, -0.98507957, -0.98283687,\n",
       "       -0.98043865, -0.9778853 , -0.97517722, -0.97231483, -0.96929861,\n",
       "       -0.96612901, -0.96280654, -0.95933173, -0.95570513, -0.95192731,\n",
       "       -0.94799886, -0.94392042, -0.93969262, -0.93531614, -0.93079166,\n",
       "       -0.92611991, -0.92130162, -0.91633755, -0.91122849, -0.90597525,\n",
       "       -0.90057866, -0.89503957, -0.88935887, -0.88353744, -0.87757621,\n",
       "       -0.87147613, -0.86523815, -0.85886327, -0.85235249, -0.84570685,\n",
       "       -0.83892739, -0.83201519, -0.82497134, -0.81779696, -0.81049318,\n",
       "       -0.80306115, -0.79550207, -0.78781711, -0.78000749, -0.77207446,\n",
       "       -0.76401926, -0.75584317, -0.74754749, -0.73913353, -0.73060261,\n",
       "       -0.72195609, -0.71319534, -0.70432174, -0.6953367 , -0.68624164,\n",
       "       -0.67703799, -0.66772722, -0.65831079, -0.6487902 , -0.63916696,\n",
       "       -0.62944258, -0.6196186 , -0.60969659, -0.5996781 , -0.58956473,\n",
       "       -0.57935807, -0.56905974, -0.55867137, -0.5481946 , -0.5376311 ,\n",
       "       -0.52698252, -0.51625056, -0.50543692, -0.4945433 , -0.48357143,\n",
       "       -0.47252305, -0.4613999 , -0.45020374, -0.43893635, -0.42759951,\n",
       "       -0.41619501, -0.40472466, -0.39319026, -0.38159366, -0.36993667,\n",
       "       -0.35822115, -0.34644895, -0.33462193, -0.32274197, -0.31081094,\n",
       "       -0.29883073, -0.28680323, -0.27473036, -0.26261401, -0.25045612,\n",
       "       -0.23825859, -0.22602337, -0.21375238, -0.20144757, -0.18911088,\n",
       "       -0.17674428, -0.1643497 , -0.15192912, -0.13948451, -0.12701782,\n",
       "       -0.11453103, -0.10202613, -0.08950508, -0.07696986, -0.06442247,\n",
       "       -0.05186489, -0.03929909, -0.02672708, -0.01415085, -0.00157237,\n",
       "        0.01100636,  0.02358334,  0.0361566 ,  0.04872413,  0.06128395,\n",
       "        0.07383408,  0.08637252,  0.0988973 ,  0.11140643,  0.12389793,\n",
       "        0.13636983,  0.14882015,  0.16124692,  0.17364818,  0.18602196,\n",
       "        0.19836631,  0.21067927,  0.2229589 ,  0.23520324,  0.24741038,\n",
       "        0.25957836,  0.27170527,  0.28378919,  0.29582821,  0.30782042,\n",
       "        0.31976392,  0.33165683,  0.34349726,  0.35528334,  0.36701321,\n",
       "        0.378685  ,  0.39029687,  0.40184699,  0.41333353,  0.42475466,\n",
       "        0.43610858,  0.44739351,  0.45860764,  0.4697492 ,  0.48081644,\n",
       "        0.4918076 ,  0.50272095,  0.51355474,  0.52430728,  0.53497686,\n",
       "        0.54556179,  0.5560604 ,  0.56647103,  0.57679202,  0.58702175,\n",
       "        0.59715859,  0.60720095,  0.61714723,  0.62699586,  0.63674529,\n",
       "        0.64639396,  0.65594035,  0.66538296,  0.67472028,  0.68395085,\n",
       "        0.69307319,  0.70208588,  0.71098747,  0.71977656,  0.72845177,\n",
       "        0.73701171,  0.74545504,  0.75378041,  0.76198652,  0.77007206,\n",
       "        0.77803575,  0.78587634,  0.79359258,  0.80118325,  0.80864715,\n",
       "        0.8159831 ,  0.82318994,  0.83026652,  0.83721174,  0.84402448,\n",
       "        0.85070368,  0.85724827,  0.86365722,  0.86992952,  0.87606417,\n",
       "        0.8820602 ,  0.88791667,  0.89363264,  0.89920721,  0.90463951,\n",
       "        0.90992867,  0.91507385,  0.92007423,  0.92492904,  0.9296375 ,\n",
       "        0.93419886,  0.93861241,  0.94287745,  0.94699329,  0.95095929,\n",
       "        0.95477483,  0.95843929,  0.9619521 ,  0.9653127 ,  0.96852057,\n",
       "        0.97157518,  0.97447607,  0.97722277,  0.97981484,  0.98225188,\n",
       "        0.9845335 ,  0.98665934,  0.98862906,  0.99044235,  0.99209893,\n",
       "        0.99359853,  0.99494091,  0.99612587,  0.99715321,  0.99802278,\n",
       "        0.99873443,  0.99928805,  0.99968356,  0.99992089,  1.        ])"
      ]
     },
     "metadata": {},
     "output_type": "display_data"
    },
    {
     "data": {
      "text/plain": [
       "'the Ex,Ey,Ez components are:'"
      ]
     },
     "metadata": {},
     "output_type": "display_data"
    },
    {
     "data": {
      "text/plain": [
       "array([[ 1.        ,  0.9999499 ,  0.99979961, ..., -0.84979397,\n",
       "        -0.84447506, -0.83907153],\n",
       "       [ 0.99992089,  0.9999967 ,  0.99997232, ..., -0.85635712,\n",
       "        -0.85114529, -0.84584818],\n",
       "       [ 0.99968356,  0.99988527,  0.9999868 , ..., -0.86278477,\n",
       "        -0.85768085, -0.852491  ],\n",
       "       ...,\n",
       "       [ 0.99968356,  0.99938167,  0.99897965, ..., -0.83626535,\n",
       "        -0.83073481, -0.82512103],\n",
       "       [ 0.99992089,  0.99974488,  0.9994687 , ..., -0.84309636,\n",
       "        -0.8376712 , -0.83216211],\n",
       "       [ 1.        ,  0.9999499 ,  0.99979961, ..., -0.84979397,\n",
       "        -0.84447506, -0.83907153]], shape=(1000, 1000))"
      ]
     },
     "metadata": {},
     "output_type": "display_data"
    },
    {
     "data": {
      "text/plain": [
       "array([[ 1.22464680e-16,  2.00196857e-02,  4.00373654e-02, ...,\n",
       "        -1.05422997e+00, -1.07118976e+00, -1.08804222e+00],\n",
       "       [-2.51572357e-02, -5.13787346e-03,  1.48820036e-02, ...,\n",
       "        -1.03276810e+00, -1.04986036e+00, -1.06684742e+00],\n",
       "       [-5.03104908e-02, -3.02946196e-02, -1.02757130e-02, ...,\n",
       "        -1.01114282e+00, -1.02836484e+00, -1.04548382e+00],\n",
       "       ...,\n",
       "       [ 5.03104908e-02,  7.03213208e-02,  9.03251047e-02, ...,\n",
       "        -1.09664992e+00, -1.11333675e+00, -1.12991202e+00],\n",
       "       [ 2.51572357e-02,  4.51740772e-02,  6.51863922e-02, ...,\n",
       "        -1.07552503e+00, -1.09234967e+00, -1.10906486e+00],\n",
       "       [ 1.10218212e-15,  2.00196857e-02,  4.00373654e-02, ...,\n",
       "        -1.05422997e+00, -1.07118976e+00, -1.08804222e+00]],\n",
       "      shape=(1000, 1000))"
      ]
     },
     "metadata": {},
     "output_type": "display_data"
    },
    {
     "data": {
      "text/plain": [
       "array([[0., 0., 0., ..., 0., 0., 0.],\n",
       "       [0., 0., 0., ..., 0., 0., 0.],\n",
       "       [0., 0., 0., ..., 0., 0., 0.],\n",
       "       ...,\n",
       "       [0., 0., 0., ..., 0., 0., 0.],\n",
       "       [0., 0., 0., ..., 0., 0., 0.],\n",
       "       [0., 0., 0., ..., 0., 0., 0.]], shape=(1000, 1000))"
      ]
     },
     "metadata": {},
     "output_type": "display_data"
    },
    {
     "data": {
      "text/plain": [
       "'the total Electric field is'"
      ]
     },
     "metadata": {},
     "output_type": "display_data"
    },
    {
     "data": {
      "text/plain": [
       "array([[[ 1.00000000e+00,  9.99949900e-01,  9.99799606e-01, ...,\n",
       "         -8.49793970e-01, -8.44475058e-01, -8.39071529e-01],\n",
       "        [ 9.99920886e-01,  9.99996700e-01,  9.99972315e-01, ...,\n",
       "         -8.56357118e-01, -8.51145291e-01, -8.45848180e-01],\n",
       "        [ 9.99683557e-01,  9.99885273e-01,  9.99986801e-01, ...,\n",
       "         -8.62784766e-01, -8.57680850e-01, -8.52490995e-01],\n",
       "        ...,\n",
       "        [ 9.99683557e-01,  9.99381673e-01,  9.98979651e-01, ...,\n",
       "         -8.36265352e-01, -8.30734809e-01, -8.25121026e-01],\n",
       "        [ 9.99920886e-01,  9.99744880e-01,  9.99468701e-01, ...,\n",
       "         -8.43096362e-01, -8.37671205e-01, -8.32162113e-01],\n",
       "        [ 1.00000000e+00,  9.99949900e-01,  9.99799606e-01, ...,\n",
       "         -8.49793970e-01, -8.44475058e-01, -8.39071529e-01]],\n",
       "\n",
       "       [[ 1.22464680e-16,  2.00196857e-02,  4.00373654e-02, ...,\n",
       "         -1.05422997e+00, -1.07118976e+00, -1.08804222e+00],\n",
       "        [-2.51572357e-02, -5.13787346e-03,  1.48820036e-02, ...,\n",
       "         -1.03276810e+00, -1.04986036e+00, -1.06684742e+00],\n",
       "        [-5.03104908e-02, -3.02946196e-02, -1.02757130e-02, ...,\n",
       "         -1.01114282e+00, -1.02836484e+00, -1.04548382e+00],\n",
       "        ...,\n",
       "        [ 5.03104908e-02,  7.03213208e-02,  9.03251047e-02, ...,\n",
       "         -1.09664992e+00, -1.11333675e+00, -1.12991202e+00],\n",
       "        [ 2.51572357e-02,  4.51740772e-02,  6.51863922e-02, ...,\n",
       "         -1.07552503e+00, -1.09234967e+00, -1.10906486e+00],\n",
       "        [ 1.10218212e-15,  2.00196857e-02,  4.00373654e-02, ...,\n",
       "         -1.05422997e+00, -1.07118976e+00, -1.08804222e+00]],\n",
       "\n",
       "       [[ 0.00000000e+00,  0.00000000e+00,  0.00000000e+00, ...,\n",
       "          0.00000000e+00,  0.00000000e+00,  0.00000000e+00],\n",
       "        [ 0.00000000e+00,  0.00000000e+00,  0.00000000e+00, ...,\n",
       "          0.00000000e+00,  0.00000000e+00,  0.00000000e+00],\n",
       "        [ 0.00000000e+00,  0.00000000e+00,  0.00000000e+00, ...,\n",
       "          0.00000000e+00,  0.00000000e+00,  0.00000000e+00],\n",
       "        ...,\n",
       "        [ 0.00000000e+00,  0.00000000e+00,  0.00000000e+00, ...,\n",
       "          0.00000000e+00,  0.00000000e+00,  0.00000000e+00],\n",
       "        [ 0.00000000e+00,  0.00000000e+00,  0.00000000e+00, ...,\n",
       "          0.00000000e+00,  0.00000000e+00,  0.00000000e+00],\n",
       "        [ 0.00000000e+00,  0.00000000e+00,  0.00000000e+00, ...,\n",
       "          0.00000000e+00,  0.00000000e+00,  0.00000000e+00]]],\n",
       "      shape=(3, 1000, 1000))"
      ]
     },
     "metadata": {},
     "output_type": "display_data"
    },
    {
     "data": {
      "text/plain": [
       "'the x component values of E is:'"
      ]
     },
     "metadata": {},
     "output_type": "display_data"
    },
    {
     "data": {
      "text/plain": [
       "array([[ 1.        ,  0.9999499 ,  0.99979961, ..., -0.84979397,\n",
       "        -0.84447506, -0.83907153],\n",
       "       [ 0.99992089,  0.9999967 ,  0.99997232, ..., -0.85635712,\n",
       "        -0.85114529, -0.84584818],\n",
       "       [ 0.99968356,  0.99988527,  0.9999868 , ..., -0.86278477,\n",
       "        -0.85768085, -0.852491  ],\n",
       "       ...,\n",
       "       [ 0.99968356,  0.99938167,  0.99897965, ..., -0.83626535,\n",
       "        -0.83073481, -0.82512103],\n",
       "       [ 0.99992089,  0.99974488,  0.9994687 , ..., -0.84309636,\n",
       "        -0.8376712 , -0.83216211],\n",
       "       [ 1.        ,  0.9999499 ,  0.99979961, ..., -0.84979397,\n",
       "        -0.84447506, -0.83907153]], shape=(1000, 1000))"
      ]
     },
     "metadata": {},
     "output_type": "display_data"
    },
    {
     "data": {
      "text/plain": [
       "'i want an array such that every point has (ex,ey,ez) tuple'"
      ]
     },
     "metadata": {},
     "output_type": "display_data"
    }
   ],
   "source": [
    "#0. setting up the range of z and t and evaluation of Ex,Ey,Ez\n",
    "\n",
    "# E(z,t) is a function of 2 variables: use a meshgrid to create a z,t plane(zv,tv)\n",
    "z=np.linspace(0,4*np.pi,1000)\n",
    "t=np.linspace(0,10,1000)\n",
    "tv,zv=np.meshgrid(t,z)\n",
    "display(\"where you are on the t axis\",tv)\n",
    "display(\"where you are on the z axis\",zv)\n",
    "display(\"In order to select the z=0 part(use): only t axis\",zv[0])    #1st row of zv\n",
    "display(\"In order to select the t=0 part(use): only z axis\",tv[:,0])  #1st column of tv\n",
    "\n",
    "#x component of E and y component of E and TRICK USE Z COMPONENT OF E TO BE 0(FOR RIGHT DIMENSION OF ARRAY)\n",
    "Ex=np.cos(zv-tv)  \n",
    "display(\"the electric field at z=0\",Ex[0])  #0th component here will correspond to z=0 (E corresp to 1st row)\n",
    "display(\"the electric field at t=0\",Ex[:,0])  #1st column of electric field will correspond to t=0 (E corresp to 1st column)\n",
    "Ey=2*np.cos(zv-tv+np.pi/2)\n",
    "Ez=0*tv\n",
    "\n",
    "#total Electric field is:\n",
    "display(\"the Ex,Ey,Ez components are:\",Ex,Ey,Ez)\n",
    "E=np.array([Ex,Ey,Ez])\n",
    "display(\"the total Electric field is\",E)  # total E(3D ARRAY) is 3 2d arrays (one for x,y and z)\n",
    "display(\"the x component values of E is:\",E[0])  #this is Ex\n",
    "display(\"i want an array such that every point has (ex,ey,ez) tuple\")\n",
    "#np.swapaxes"
   ]
  },
  {
   "cell_type": "markdown",
   "metadata": {},
   "source": [
    "- Plot $E_x$ as function of $t$ at $z=0$\n",
    "\n",
    "- tv,zv=np.meshgrid(t,z)"
   ]
  },
  {
   "cell_type": "code",
   "execution_count": 480,
   "metadata": {},
   "outputs": [
    {
     "data": {
      "text/plain": [
       "Text(0, 0.5, '$E_{x}(t)$ at z=0')"
      ]
     },
     "execution_count": 480,
     "metadata": {},
     "output_type": "execute_result"
    },
    {
     "data": {
      "image/png": "[encoded data removed]",
      "text/plain": [
       "<Figure size 300x300 with 1 Axes>"
      ]
     },
     "metadata": {},
     "output_type": "display_data"
    }
   ],
   "source": [
    "plt.figure(figsize=(3,3))\n",
    "plt.plot(t,Ex[0])\n",
    "plt.xlabel('t')\n",
    "plt.ylabel(r'$E_{x}(t)$ at z=0')"
   ]
  },
  {
   "cell_type": "markdown",
   "metadata": {},
   "source": [
    "- $E_x$ as function of $z$ at $t=0$\n"
   ]
  },
  {
   "cell_type": "code",
   "execution_count": 481,
   "metadata": {},
   "outputs": [
    {
     "data": {
      "text/plain": [
       "Text(0, 0.5, '$E_{x}(z)$ at t=0')"
      ]
     },
     "execution_count": 481,
     "metadata": {},
     "output_type": "execute_result"
    },
    {
     "data": {
      "image/png": "[encoded data removed]",
      "text/plain": [
       "<Figure size 300x300 with 1 Axes>"
      ]
     },
     "metadata": {},
     "output_type": "display_data"
    }
   ],
   "source": [
    "plt.figure(figsize=(3,3))\n",
    "plt.plot(z,Ex[:,0]) \n",
    "plt.xlabel('z')\n",
    "plt.ylabel(r'$E_{x}(z)$ at t=0')\n",
    "\n"
   ]
  },
  {
   "cell_type": "markdown",
   "metadata": {},
   "source": [
    "<div class=\"alert alert-block alert-warning\"><b>Very Important:</b> swapaxes trick is very helpful while handling vector quantities.\n",
    "There will be a separate notebook dedicated to swapaxes in more detail with a lot more examples</div>"
   ]
  },
  {
   "cell_type": "code",
   "execution_count": 482,
   "metadata": {},
   "outputs": [
    {
     "data": {
      "text/plain": [
       "'the shape of E matrix is:'"
      ]
     },
     "metadata": {},
     "output_type": "display_data"
    },
    {
     "data": {
      "image/png": "[encoded data removed]",
      "text/latex": [
       "$\\displaystyle \\left( 3, \\  1000, \\  1000\\right)$"
      ],
      "text/plain": [
       "(3, 1000, 1000)"
      ]
     },
     "metadata": {},
     "output_type": "display_data"
    },
    {
     "data": {
      "text/plain": [
       "'swapaxes such that (Ex,Ey,Ez) triplet is achieved'"
      ]
     },
     "metadata": {},
     "output_type": "display_data"
    },
    {
     "data": {
      "text/plain": [
       "array([[[ 1.00000000e+00,  1.22464680e-16,  0.00000000e+00],\n",
       "        [ 9.99920886e-01, -2.51572357e-02,  0.00000000e+00],\n",
       "        [ 9.99683557e-01, -5.03104908e-02,  0.00000000e+00],\n",
       "        ...,\n",
       "        [ 9.99683557e-01,  5.03104908e-02,  0.00000000e+00],\n",
       "        [ 9.99920886e-01,  2.51572357e-02,  0.00000000e+00],\n",
       "        [ 1.00000000e+00,  1.10218212e-15,  0.00000000e+00]],\n",
       "\n",
       "       [[ 9.99949900e-01,  2.00196857e-02,  0.00000000e+00],\n",
       "        [ 9.99996700e-01, -5.13787346e-03,  0.00000000e+00],\n",
       "        [ 9.99885273e-01, -3.02946196e-02,  0.00000000e+00],\n",
       "        ...,\n",
       "        [ 9.99381673e-01,  7.03213208e-02,  0.00000000e+00],\n",
       "        [ 9.99744880e-01,  4.51740772e-02,  0.00000000e+00],\n",
       "        [ 9.99949900e-01,  2.00196857e-02,  0.00000000e+00]],\n",
       "\n",
       "       [[ 9.99799606e-01,  4.00373654e-02,  0.00000000e+00],\n",
       "        [ 9.99972315e-01,  1.48820036e-02,  0.00000000e+00],\n",
       "        [ 9.99986801e-01, -1.02757130e-02,  0.00000000e+00],\n",
       "        ...,\n",
       "        [ 9.98979651e-01,  9.03251047e-02,  0.00000000e+00],\n",
       "        [ 9.99468701e-01,  6.51863922e-02,  0.00000000e+00],\n",
       "        [ 9.99799606e-01,  4.00373654e-02,  0.00000000e+00]],\n",
       "\n",
       "       ...,\n",
       "\n",
       "       [[-8.49793970e-01, -1.05422997e+00,  0.00000000e+00],\n",
       "        [-8.56357118e-01, -1.03276810e+00,  0.00000000e+00],\n",
       "        [-8.62784766e-01, -1.01114282e+00,  0.00000000e+00],\n",
       "        ...,\n",
       "        [-8.36265352e-01, -1.09664992e+00,  0.00000000e+00],\n",
       "        [-8.43096362e-01, -1.07552503e+00,  0.00000000e+00],\n",
       "        [-8.49793970e-01, -1.05422997e+00,  0.00000000e+00]],\n",
       "\n",
       "       [[-8.44475058e-01, -1.07118976e+00,  0.00000000e+00],\n",
       "        [-8.51145291e-01, -1.04986036e+00,  0.00000000e+00],\n",
       "        [-8.57680850e-01, -1.02836484e+00,  0.00000000e+00],\n",
       "        ...,\n",
       "        [-8.30734809e-01, -1.11333675e+00,  0.00000000e+00],\n",
       "        [-8.37671205e-01, -1.09234967e+00,  0.00000000e+00],\n",
       "        [-8.44475058e-01, -1.07118976e+00,  0.00000000e+00]],\n",
       "\n",
       "       [[-8.39071529e-01, -1.08804222e+00,  0.00000000e+00],\n",
       "        [-8.45848180e-01, -1.06684742e+00,  0.00000000e+00],\n",
       "        [-8.52490995e-01, -1.04548382e+00,  0.00000000e+00],\n",
       "        ...,\n",
       "        [-8.25121026e-01, -1.12991202e+00,  0.00000000e+00],\n",
       "        [-8.32162113e-01, -1.10906486e+00,  0.00000000e+00],\n",
       "        [-8.39071529e-01, -1.08804222e+00,  0.00000000e+00]]],\n",
       "      shape=(1000, 1000, 3))"
      ]
     },
     "metadata": {},
     "output_type": "display_data"
    }
   ],
   "source": [
    "#1.Calulation of Magnetic field\n",
    "display(\"the shape of E matrix is:\",E.shape)\n",
    "E=np.swapaxes(E,0,2)\n",
    "display(\"swapaxes such that (Ex,Ey,Ez) triplet is achieved\",E)  # after swap it will be a 1000 2d arrays each with 1000 rows and 3 columns"
   ]
  },
  {
   "cell_type": "code",
   "execution_count": 483,
   "metadata": {},
   "outputs": [
    {
     "data": {
      "text/plain": [
       "'magnetic field in triplet form'"
      ]
     },
     "metadata": {},
     "output_type": "display_data"
    },
    {
     "data": {
      "text/plain": [
       "array([[[-1.22464680e-16,  1.00000000e+00,  0.00000000e+00],\n",
       "        [ 2.51572357e-02,  9.99920886e-01, -0.00000000e+00],\n",
       "        [ 5.03104908e-02,  9.99683557e-01, -0.00000000e+00],\n",
       "        ...,\n",
       "        [-5.03104908e-02,  9.99683557e-01,  0.00000000e+00],\n",
       "        [-2.51572357e-02,  9.99920886e-01,  0.00000000e+00],\n",
       "        [-1.10218212e-15,  1.00000000e+00,  0.00000000e+00]],\n",
       "\n",
       "       [[-2.00196857e-02,  9.99949900e-01,  0.00000000e+00],\n",
       "        [ 5.13787346e-03,  9.99996700e-01, -0.00000000e+00],\n",
       "        [ 3.02946196e-02,  9.99885273e-01, -0.00000000e+00],\n",
       "        ...,\n",
       "        [-7.03213208e-02,  9.99381673e-01,  0.00000000e+00],\n",
       "        [-4.51740772e-02,  9.99744880e-01,  0.00000000e+00],\n",
       "        [-2.00196857e-02,  9.99949900e-01,  0.00000000e+00]],\n",
       "\n",
       "       [[-4.00373654e-02,  9.99799606e-01,  0.00000000e+00],\n",
       "        [-1.48820036e-02,  9.99972315e-01,  0.00000000e+00],\n",
       "        [ 1.02757130e-02,  9.99986801e-01, -0.00000000e+00],\n",
       "        ...,\n",
       "        [-9.03251047e-02,  9.98979651e-01,  0.00000000e+00],\n",
       "        [-6.51863922e-02,  9.99468701e-01,  0.00000000e+00],\n",
       "        [-4.00373654e-02,  9.99799606e-01,  0.00000000e+00]],\n",
       "\n",
       "       ...,\n",
       "\n",
       "       [[ 1.05422997e+00, -8.49793970e-01,  0.00000000e+00],\n",
       "        [ 1.03276810e+00, -8.56357118e-01,  0.00000000e+00],\n",
       "        [ 1.01114282e+00, -8.62784766e-01,  0.00000000e+00],\n",
       "        ...,\n",
       "        [ 1.09664992e+00, -8.36265352e-01,  0.00000000e+00],\n",
       "        [ 1.07552503e+00, -8.43096362e-01,  0.00000000e+00],\n",
       "        [ 1.05422997e+00, -8.49793970e-01,  0.00000000e+00]],\n",
       "\n",
       "       [[ 1.07118976e+00, -8.44475058e-01,  0.00000000e+00],\n",
       "        [ 1.04986036e+00, -8.51145291e-01,  0.00000000e+00],\n",
       "        [ 1.02836484e+00, -8.57680850e-01,  0.00000000e+00],\n",
       "        ...,\n",
       "        [ 1.11333675e+00, -8.30734809e-01,  0.00000000e+00],\n",
       "        [ 1.09234967e+00, -8.37671205e-01,  0.00000000e+00],\n",
       "        [ 1.07118976e+00, -8.44475058e-01,  0.00000000e+00]],\n",
       "\n",
       "       [[ 1.08804222e+00, -8.39071529e-01,  0.00000000e+00],\n",
       "        [ 1.06684742e+00, -8.45848180e-01,  0.00000000e+00],\n",
       "        [ 1.04548382e+00, -8.52490995e-01,  0.00000000e+00],\n",
       "        ...,\n",
       "        [ 1.12991202e+00, -8.25121026e-01,  0.00000000e+00],\n",
       "        [ 1.10906486e+00, -8.32162113e-01,  0.00000000e+00],\n",
       "        [ 1.08804222e+00, -8.39071529e-01,  0.00000000e+00]]],\n",
       "      shape=(1000, 1000, 3))"
      ]
     },
     "metadata": {},
     "output_type": "display_data"
    },
    {
     "data": {
      "image/png": "[encoded data removed]",
      "text/latex": [
       "$\\displaystyle \\left( 1000, \\  1000, \\  3\\right)$"
      ],
      "text/plain": [
       "(1000, 1000, 3)"
      ]
     },
     "metadata": {},
     "output_type": "display_data"
    },
    {
     "data": {
      "text/plain": [
       "'Magnetic field with the standard form'"
      ]
     },
     "metadata": {},
     "output_type": "display_data"
    },
    {
     "data": {
      "text/plain": [
       "array([[[-1.22464680e-16, -2.00196857e-02, -4.00373654e-02, ...,\n",
       "          1.05422997e+00,  1.07118976e+00,  1.08804222e+00],\n",
       "        [ 2.51572357e-02,  5.13787346e-03, -1.48820036e-02, ...,\n",
       "          1.03276810e+00,  1.04986036e+00,  1.06684742e+00],\n",
       "        [ 5.03104908e-02,  3.02946196e-02,  1.02757130e-02, ...,\n",
       "          1.01114282e+00,  1.02836484e+00,  1.04548382e+00],\n",
       "        ...,\n",
       "        [-5.03104908e-02, -7.03213208e-02, -9.03251047e-02, ...,\n",
       "          1.09664992e+00,  1.11333675e+00,  1.12991202e+00],\n",
       "        [-2.51572357e-02, -4.51740772e-02, -6.51863922e-02, ...,\n",
       "          1.07552503e+00,  1.09234967e+00,  1.10906486e+00],\n",
       "        [-1.10218212e-15, -2.00196857e-02, -4.00373654e-02, ...,\n",
       "          1.05422997e+00,  1.07118976e+00,  1.08804222e+00]],\n",
       "\n",
       "       [[ 1.00000000e+00,  9.99949900e-01,  9.99799606e-01, ...,\n",
       "         -8.49793970e-01, -8.44475058e-01, -8.39071529e-01],\n",
       "        [ 9.99920886e-01,  9.99996700e-01,  9.99972315e-01, ...,\n",
       "         -8.56357118e-01, -8.51145291e-01, -8.45848180e-01],\n",
       "        [ 9.99683557e-01,  9.99885273e-01,  9.99986801e-01, ...,\n",
       "         -8.62784766e-01, -8.57680850e-01, -8.52490995e-01],\n",
       "        ...,\n",
       "        [ 9.99683557e-01,  9.99381673e-01,  9.98979651e-01, ...,\n",
       "         -8.36265352e-01, -8.30734809e-01, -8.25121026e-01],\n",
       "        [ 9.99920886e-01,  9.99744880e-01,  9.99468701e-01, ...,\n",
       "         -8.43096362e-01, -8.37671205e-01, -8.32162113e-01],\n",
       "        [ 1.00000000e+00,  9.99949900e-01,  9.99799606e-01, ...,\n",
       "         -8.49793970e-01, -8.44475058e-01, -8.39071529e-01]],\n",
       "\n",
       "       [[ 0.00000000e+00,  0.00000000e+00,  0.00000000e+00, ...,\n",
       "          0.00000000e+00,  0.00000000e+00,  0.00000000e+00],\n",
       "        [-0.00000000e+00, -0.00000000e+00,  0.00000000e+00, ...,\n",
       "          0.00000000e+00,  0.00000000e+00,  0.00000000e+00],\n",
       "        [-0.00000000e+00, -0.00000000e+00, -0.00000000e+00, ...,\n",
       "          0.00000000e+00,  0.00000000e+00,  0.00000000e+00],\n",
       "        ...,\n",
       "        [ 0.00000000e+00,  0.00000000e+00,  0.00000000e+00, ...,\n",
       "          0.00000000e+00,  0.00000000e+00,  0.00000000e+00],\n",
       "        [ 0.00000000e+00,  0.00000000e+00,  0.00000000e+00, ...,\n",
       "          0.00000000e+00,  0.00000000e+00,  0.00000000e+00],\n",
       "        [ 0.00000000e+00,  0.00000000e+00,  0.00000000e+00, ...,\n",
       "          0.00000000e+00,  0.00000000e+00,  0.00000000e+00]]],\n",
       "      shape=(3, 1000, 1000))"
      ]
     },
     "metadata": {},
     "output_type": "display_data"
    }
   ],
   "source": [
    "B=np.cross(np.array([0,0,1]),E)\n",
    "display(\"magnetic field in triplet form\",B) # it is in the format of (Bx,By,Bz) triplet\n",
    "display(B.shape) # it is a 1000 2d arrays each with 1000 rows and 3 columns (1000,1000,3)\n",
    "B=np.swapaxes(B,0,2)\n",
    "display(\"Magnetic field with the standard form\",B)  #Make it (3,1000,1000) :it is a 3 arrays of 1000 rows and 1000 columns=> Bx array By array amd Bz array\n",
    "#display(\"Bx is: \",B[0])\n",
    "#display(\"By is: \",B[1]) \n",
    "#display(\"Bz is: \",B[2])\n",
    "Bx,By,Bz=B"
   ]
  },
  {
   "cell_type": "code",
   "execution_count": 484,
   "metadata": {},
   "outputs": [
    {
     "data": {
      "text/plain": [
       "[<matplotlib.lines.Line2D at 0x7909e106bed0>]"
      ]
     },
     "execution_count": 484,
     "metadata": {},
     "output_type": "execute_result"
    },
    {
     "data": {
      "image/png": "[encoded data removed]",
      "text/plain": [
       "<Figure size 300x300 with 1 Axes>"
      ]
     },
     "metadata": {},
     "output_type": "display_data"
    }
   ],
   "source": [
    "plt.figure(figsize=(3,3))\n",
    "plt.plot(t,Ey[0])\n",
    "plt.plot(t,Bx[0])\n"
   ]
  },
  {
   "cell_type": "code",
   "execution_count": 485,
   "metadata": {},
   "outputs": [
    {
     "data": {
      "text/plain": [
       "'E is'"
      ]
     },
     "metadata": {},
     "output_type": "display_data"
    },
    {
     "data": {
      "text/plain": [
       "array([[[ 1.00000000e+00,  1.22464680e-16,  0.00000000e+00],\n",
       "        [ 9.99920886e-01, -2.51572357e-02,  0.00000000e+00],\n",
       "        [ 9.99683557e-01, -5.03104908e-02,  0.00000000e+00],\n",
       "        ...,\n",
       "        [ 9.99683557e-01,  5.03104908e-02,  0.00000000e+00],\n",
       "        [ 9.99920886e-01,  2.51572357e-02,  0.00000000e+00],\n",
       "        [ 1.00000000e+00,  1.10218212e-15,  0.00000000e+00]],\n",
       "\n",
       "       [[ 9.99949900e-01,  2.00196857e-02,  0.00000000e+00],\n",
       "        [ 9.99996700e-01, -5.13787346e-03,  0.00000000e+00],\n",
       "        [ 9.99885273e-01, -3.02946196e-02,  0.00000000e+00],\n",
       "        ...,\n",
       "        [ 9.99381673e-01,  7.03213208e-02,  0.00000000e+00],\n",
       "        [ 9.99744880e-01,  4.51740772e-02,  0.00000000e+00],\n",
       "        [ 9.99949900e-01,  2.00196857e-02,  0.00000000e+00]],\n",
       "\n",
       "       [[ 9.99799606e-01,  4.00373654e-02,  0.00000000e+00],\n",
       "        [ 9.99972315e-01,  1.48820036e-02,  0.00000000e+00],\n",
       "        [ 9.99986801e-01, -1.02757130e-02,  0.00000000e+00],\n",
       "        ...,\n",
       "        [ 9.98979651e-01,  9.03251047e-02,  0.00000000e+00],\n",
       "        [ 9.99468701e-01,  6.51863922e-02,  0.00000000e+00],\n",
       "        [ 9.99799606e-01,  4.00373654e-02,  0.00000000e+00]],\n",
       "\n",
       "       ...,\n",
       "\n",
       "       [[-8.49793970e-01, -1.05422997e+00,  0.00000000e+00],\n",
       "        [-8.56357118e-01, -1.03276810e+00,  0.00000000e+00],\n",
       "        [-8.62784766e-01, -1.01114282e+00,  0.00000000e+00],\n",
       "        ...,\n",
       "        [-8.36265352e-01, -1.09664992e+00,  0.00000000e+00],\n",
       "        [-8.43096362e-01, -1.07552503e+00,  0.00000000e+00],\n",
       "        [-8.49793970e-01, -1.05422997e+00,  0.00000000e+00]],\n",
       "\n",
       "       [[-8.44475058e-01, -1.07118976e+00,  0.00000000e+00],\n",
       "        [-8.51145291e-01, -1.04986036e+00,  0.00000000e+00],\n",
       "        [-8.57680850e-01, -1.02836484e+00,  0.00000000e+00],\n",
       "        ...,\n",
       "        [-8.30734809e-01, -1.11333675e+00,  0.00000000e+00],\n",
       "        [-8.37671205e-01, -1.09234967e+00,  0.00000000e+00],\n",
       "        [-8.44475058e-01, -1.07118976e+00,  0.00000000e+00]],\n",
       "\n",
       "       [[-8.39071529e-01, -1.08804222e+00,  0.00000000e+00],\n",
       "        [-8.45848180e-01, -1.06684742e+00,  0.00000000e+00],\n",
       "        [-8.52490995e-01, -1.04548382e+00,  0.00000000e+00],\n",
       "        ...,\n",
       "        [-8.25121026e-01, -1.12991202e+00,  0.00000000e+00],\n",
       "        [-8.32162113e-01, -1.10906486e+00,  0.00000000e+00],\n",
       "        [-8.39071529e-01, -1.08804222e+00,  0.00000000e+00]]],\n",
       "      shape=(1000, 1000, 3))"
      ]
     },
     "metadata": {},
     "output_type": "display_data"
    },
    {
     "data": {
      "text/plain": [
       "'B is'"
      ]
     },
     "metadata": {},
     "output_type": "display_data"
    },
    {
     "data": {
      "text/plain": [
       "array([[[-1.22464680e-16, -2.00196857e-02, -4.00373654e-02, ...,\n",
       "          1.05422997e+00,  1.07118976e+00,  1.08804222e+00],\n",
       "        [ 2.51572357e-02,  5.13787346e-03, -1.48820036e-02, ...,\n",
       "          1.03276810e+00,  1.04986036e+00,  1.06684742e+00],\n",
       "        [ 5.03104908e-02,  3.02946196e-02,  1.02757130e-02, ...,\n",
       "          1.01114282e+00,  1.02836484e+00,  1.04548382e+00],\n",
       "        ...,\n",
       "        [-5.03104908e-02, -7.03213208e-02, -9.03251047e-02, ...,\n",
       "          1.09664992e+00,  1.11333675e+00,  1.12991202e+00],\n",
       "        [-2.51572357e-02, -4.51740772e-02, -6.51863922e-02, ...,\n",
       "          1.07552503e+00,  1.09234967e+00,  1.10906486e+00],\n",
       "        [-1.10218212e-15, -2.00196857e-02, -4.00373654e-02, ...,\n",
       "          1.05422997e+00,  1.07118976e+00,  1.08804222e+00]],\n",
       "\n",
       "       [[ 1.00000000e+00,  9.99949900e-01,  9.99799606e-01, ...,\n",
       "         -8.49793970e-01, -8.44475058e-01, -8.39071529e-01],\n",
       "        [ 9.99920886e-01,  9.99996700e-01,  9.99972315e-01, ...,\n",
       "         -8.56357118e-01, -8.51145291e-01, -8.45848180e-01],\n",
       "        [ 9.99683557e-01,  9.99885273e-01,  9.99986801e-01, ...,\n",
       "         -8.62784766e-01, -8.57680850e-01, -8.52490995e-01],\n",
       "        ...,\n",
       "        [ 9.99683557e-01,  9.99381673e-01,  9.98979651e-01, ...,\n",
       "         -8.36265352e-01, -8.30734809e-01, -8.25121026e-01],\n",
       "        [ 9.99920886e-01,  9.99744880e-01,  9.99468701e-01, ...,\n",
       "         -8.43096362e-01, -8.37671205e-01, -8.32162113e-01],\n",
       "        [ 1.00000000e+00,  9.99949900e-01,  9.99799606e-01, ...,\n",
       "         -8.49793970e-01, -8.44475058e-01, -8.39071529e-01]],\n",
       "\n",
       "       [[ 0.00000000e+00,  0.00000000e+00,  0.00000000e+00, ...,\n",
       "          0.00000000e+00,  0.00000000e+00,  0.00000000e+00],\n",
       "        [-0.00000000e+00, -0.00000000e+00,  0.00000000e+00, ...,\n",
       "          0.00000000e+00,  0.00000000e+00,  0.00000000e+00],\n",
       "        [-0.00000000e+00, -0.00000000e+00, -0.00000000e+00, ...,\n",
       "          0.00000000e+00,  0.00000000e+00,  0.00000000e+00],\n",
       "        ...,\n",
       "        [ 0.00000000e+00,  0.00000000e+00,  0.00000000e+00, ...,\n",
       "          0.00000000e+00,  0.00000000e+00,  0.00000000e+00],\n",
       "        [ 0.00000000e+00,  0.00000000e+00,  0.00000000e+00, ...,\n",
       "          0.00000000e+00,  0.00000000e+00,  0.00000000e+00],\n",
       "        [ 0.00000000e+00,  0.00000000e+00,  0.00000000e+00, ...,\n",
       "          0.00000000e+00,  0.00000000e+00,  0.00000000e+00]]],\n",
       "      shape=(3, 1000, 1000))"
      ]
     },
     "metadata": {},
     "output_type": "display_data"
    },
    {
     "data": {
      "text/plain": [
       "'B shape'"
      ]
     },
     "metadata": {},
     "output_type": "display_data"
    },
    {
     "data": {
      "image/png": "[encoded data removed]",
      "text/latex": [
       "$\\displaystyle \\left( 3, \\  1000, \\  1000\\right)$"
      ],
      "text/plain": [
       "(3, 1000, 1000)"
      ]
     },
     "metadata": {},
     "output_type": "display_data"
    },
    {
     "data": {
      "text/plain": [
       "'B reshaped properly'"
      ]
     },
     "metadata": {},
     "output_type": "display_data"
    },
    {
     "data": {
      "text/plain": [
       "array([[[-1.22464680e-16,  1.00000000e+00,  0.00000000e+00],\n",
       "        [ 2.51572357e-02,  9.99920886e-01, -0.00000000e+00],\n",
       "        [ 5.03104908e-02,  9.99683557e-01, -0.00000000e+00],\n",
       "        ...,\n",
       "        [-5.03104908e-02,  9.99683557e-01,  0.00000000e+00],\n",
       "        [-2.51572357e-02,  9.99920886e-01,  0.00000000e+00],\n",
       "        [-1.10218212e-15,  1.00000000e+00,  0.00000000e+00]],\n",
       "\n",
       "       [[-2.00196857e-02,  9.99949900e-01,  0.00000000e+00],\n",
       "        [ 5.13787346e-03,  9.99996700e-01, -0.00000000e+00],\n",
       "        [ 3.02946196e-02,  9.99885273e-01, -0.00000000e+00],\n",
       "        ...,\n",
       "        [-7.03213208e-02,  9.99381673e-01,  0.00000000e+00],\n",
       "        [-4.51740772e-02,  9.99744880e-01,  0.00000000e+00],\n",
       "        [-2.00196857e-02,  9.99949900e-01,  0.00000000e+00]],\n",
       "\n",
       "       [[-4.00373654e-02,  9.99799606e-01,  0.00000000e+00],\n",
       "        [-1.48820036e-02,  9.99972315e-01,  0.00000000e+00],\n",
       "        [ 1.02757130e-02,  9.99986801e-01, -0.00000000e+00],\n",
       "        ...,\n",
       "        [-9.03251047e-02,  9.98979651e-01,  0.00000000e+00],\n",
       "        [-6.51863922e-02,  9.99468701e-01,  0.00000000e+00],\n",
       "        [-4.00373654e-02,  9.99799606e-01,  0.00000000e+00]],\n",
       "\n",
       "       ...,\n",
       "\n",
       "       [[ 1.05422997e+00, -8.49793970e-01,  0.00000000e+00],\n",
       "        [ 1.03276810e+00, -8.56357118e-01,  0.00000000e+00],\n",
       "        [ 1.01114282e+00, -8.62784766e-01,  0.00000000e+00],\n",
       "        ...,\n",
       "        [ 1.09664992e+00, -8.36265352e-01,  0.00000000e+00],\n",
       "        [ 1.07552503e+00, -8.43096362e-01,  0.00000000e+00],\n",
       "        [ 1.05422997e+00, -8.49793970e-01,  0.00000000e+00]],\n",
       "\n",
       "       [[ 1.07118976e+00, -8.44475058e-01,  0.00000000e+00],\n",
       "        [ 1.04986036e+00, -8.51145291e-01,  0.00000000e+00],\n",
       "        [ 1.02836484e+00, -8.57680850e-01,  0.00000000e+00],\n",
       "        ...,\n",
       "        [ 1.11333675e+00, -8.30734809e-01,  0.00000000e+00],\n",
       "        [ 1.09234967e+00, -8.37671205e-01,  0.00000000e+00],\n",
       "        [ 1.07118976e+00, -8.44475058e-01,  0.00000000e+00]],\n",
       "\n",
       "       [[ 1.08804222e+00, -8.39071529e-01,  0.00000000e+00],\n",
       "        [ 1.06684742e+00, -8.45848180e-01,  0.00000000e+00],\n",
       "        [ 1.04548382e+00, -8.52490995e-01,  0.00000000e+00],\n",
       "        ...,\n",
       "        [ 1.12991202e+00, -8.25121026e-01,  0.00000000e+00],\n",
       "        [ 1.10906486e+00, -8.32162113e-01,  0.00000000e+00],\n",
       "        [ 1.08804222e+00, -8.39071529e-01,  0.00000000e+00]]],\n",
       "      shape=(1000, 1000, 3))"
      ]
     },
     "metadata": {},
     "output_type": "display_data"
    },
    {
     "data": {
      "text/plain": [
       "'S(poynting vector):triplet form'"
      ]
     },
     "metadata": {},
     "output_type": "display_data"
    },
    {
     "data": {
      "text/plain": [
       "array([[[ 0.        , -0.        ,  1.        ],\n",
       "        [ 0.        ,  0.        ,  1.00047466],\n",
       "        [ 0.        ,  0.        ,  1.00189836],\n",
       "        ...,\n",
       "        [ 0.        , -0.        ,  1.00189836],\n",
       "        [ 0.        , -0.        ,  1.00047466],\n",
       "        [ 0.        , -0.        ,  1.        ]],\n",
       "\n",
       "       [[ 0.        , -0.        ,  1.00030059],\n",
       "        [ 0.        ,  0.        ,  1.0000198 ],\n",
       "        [ 0.        ,  0.        ,  1.00068832],\n",
       "        ...,\n",
       "        [ 0.        , -0.        ,  1.00370882],\n",
       "        [ 0.        , -0.        ,  1.00153052],\n",
       "        [ 0.        , -0.        ,  1.00030059]],\n",
       "\n",
       "       [[ 0.        , -0.        ,  1.00120224],\n",
       "        [ 0.        , -0.        ,  1.00016611],\n",
       "        [ 0.        ,  0.        ,  1.00007919],\n",
       "        ...,\n",
       "        [ 0.        , -0.        ,  1.00611897],\n",
       "        [ 0.        , -0.        ,  1.00318695],\n",
       "        [ 0.        , -0.        ,  1.00120224]],\n",
       "\n",
       "       ...,\n",
       "\n",
       "       [[ 0.        ,  0.        ,  1.83355062],\n",
       "        [ 0.        ,  0.        ,  1.79995746],\n",
       "        [ 0.        ,  0.        ,  1.76680735],\n",
       "        ...,\n",
       "        [ 0.        ,  0.        ,  1.90198078],\n",
       "        [ 0.        ,  0.        ,  1.86756557],\n",
       "        [ 0.        ,  0.        ,  1.83355062]],\n",
       "\n",
       "       [[ 0.        ,  0.        ,  1.86058563],\n",
       "        [ 0.        ,  0.        ,  1.82665508],\n",
       "        [ 0.        ,  0.        ,  1.79315068],\n",
       "        ...,\n",
       "        [ 0.        ,  0.        ,  1.92963903],\n",
       "        [ 0.        ,  0.        ,  1.89492086],\n",
       "        [ 0.        ,  0.        ,  1.86058563]],\n",
       "\n",
       "       [[ 0.        ,  0.        ,  1.88787691],\n",
       "        [ 0.        ,  0.        ,  1.85362257],\n",
       "        [ 0.        ,  0.        ,  1.81977731],\n",
       "        ...,\n",
       "        [ 0.        ,  0.        ,  1.95752588],\n",
       "        [ 0.        ,  0.        ,  1.92251865],\n",
       "        [ 0.        ,  0.        ,  1.88787691]]], shape=(1000, 1000, 3))"
      ]
     },
     "metadata": {},
     "output_type": "display_data"
    },
    {
     "data": {
      "text/plain": [
       "'S shape'"
      ]
     },
     "metadata": {},
     "output_type": "display_data"
    },
    {
     "data": {
      "image/png": "[encoded data removed]",
      "text/latex": [
       "$\\displaystyle \\left( 1000, \\  1000, \\  3\\right)$"
      ],
      "text/plain": [
       "(1000, 1000, 3)"
      ]
     },
     "metadata": {},
     "output_type": "display_data"
    },
    {
     "data": {
      "text/plain": [
       "'S in standard form:'"
      ]
     },
     "metadata": {},
     "output_type": "display_data"
    },
    {
     "data": {
      "text/plain": [
       "array([[[ 0.        ,  0.        ,  0.        , ...,  0.        ,\n",
       "          0.        ,  0.        ],\n",
       "        [ 0.        ,  0.        ,  0.        , ...,  0.        ,\n",
       "          0.        ,  0.        ],\n",
       "        [ 0.        ,  0.        ,  0.        , ...,  0.        ,\n",
       "          0.        ,  0.        ],\n",
       "        ...,\n",
       "        [ 0.        ,  0.        ,  0.        , ...,  0.        ,\n",
       "          0.        ,  0.        ],\n",
       "        [ 0.        ,  0.        ,  0.        , ...,  0.        ,\n",
       "          0.        ,  0.        ],\n",
       "        [ 0.        ,  0.        ,  0.        , ...,  0.        ,\n",
       "          0.        ,  0.        ]],\n",
       "\n",
       "       [[-0.        , -0.        , -0.        , ...,  0.        ,\n",
       "          0.        ,  0.        ],\n",
       "        [ 0.        ,  0.        , -0.        , ...,  0.        ,\n",
       "          0.        ,  0.        ],\n",
       "        [ 0.        ,  0.        ,  0.        , ...,  0.        ,\n",
       "          0.        ,  0.        ],\n",
       "        ...,\n",
       "        [-0.        , -0.        , -0.        , ...,  0.        ,\n",
       "          0.        ,  0.        ],\n",
       "        [-0.        , -0.        , -0.        , ...,  0.        ,\n",
       "          0.        ,  0.        ],\n",
       "        [-0.        , -0.        , -0.        , ...,  0.        ,\n",
       "          0.        ,  0.        ]],\n",
       "\n",
       "       [[ 1.        ,  1.00030059,  1.00120224, ...,  1.83355062,\n",
       "          1.86058563,  1.88787691],\n",
       "        [ 1.00047466,  1.0000198 ,  1.00016611, ...,  1.79995746,\n",
       "          1.82665508,  1.85362257],\n",
       "        [ 1.00189836,  1.00068832,  1.00007919, ...,  1.76680735,\n",
       "          1.79315068,  1.81977731],\n",
       "        ...,\n",
       "        [ 1.00189836,  1.00370882,  1.00611897, ...,  1.90198078,\n",
       "          1.92963903,  1.95752588],\n",
       "        [ 1.00047466,  1.00153052,  1.00318695, ...,  1.86756557,\n",
       "          1.89492086,  1.92251865],\n",
       "        [ 1.        ,  1.00030059,  1.00120224, ...,  1.83355062,\n",
       "          1.86058563,  1.88787691]]], shape=(3, 1000, 1000))"
      ]
     },
     "metadata": {},
     "output_type": "display_data"
    }
   ],
   "source": [
    "#2. Poynting vector\n",
    "display(\"E is\",E)  #it is in (Ex,Ey,Ez) form : a triplet\n",
    "display(\"B is\",B) # it is in array Bx array By array Bz form\n",
    "display(\"B shape\",B.shape) # it has 3 arrays 1000 rows and 1000 columns\n",
    "B=np.swapaxes(B,0,2)\n",
    "display(\"B reshaped properly\",B) # it has 1000 2d arrays with 1000 rows and 3 coumns (Bx,By,Bz) triplet\n",
    "S=np.cross(E,B)\n",
    "display(\"S(poynting vector):triplet form\",S)\n",
    "display('S shape',S.shape)\n",
    "S=np.swapaxes(S,0,2)\n",
    "display(\"S in standard form:\",S)  #it has 3 2d arrays each with 1000 rows and 1000 columns\n",
    "Sx,Sy,Sz=S\n",
    "\n"
   ]
  },
  {
   "cell_type": "code",
   "execution_count": 486,
   "metadata": {},
   "outputs": [
    {
     "data": {
      "text/plain": [
       "'Sx is'"
      ]
     },
     "metadata": {},
     "output_type": "display_data"
    },
    {
     "data": {
      "text/plain": [
       "array([[0., 0., 0., ..., 0., 0., 0.],\n",
       "       [0., 0., 0., ..., 0., 0., 0.],\n",
       "       [0., 0., 0., ..., 0., 0., 0.],\n",
       "       ...,\n",
       "       [0., 0., 0., ..., 0., 0., 0.],\n",
       "       [0., 0., 0., ..., 0., 0., 0.],\n",
       "       [0., 0., 0., ..., 0., 0., 0.]], shape=(1000, 1000))"
      ]
     },
     "metadata": {},
     "output_type": "display_data"
    },
    {
     "data": {
      "text/plain": [
       "'Sy is'"
      ]
     },
     "metadata": {},
     "output_type": "display_data"
    },
    {
     "data": {
      "text/plain": [
       "array([[-0., -0., -0., ...,  0.,  0.,  0.],\n",
       "       [ 0.,  0., -0., ...,  0.,  0.,  0.],\n",
       "       [ 0.,  0.,  0., ...,  0.,  0.,  0.],\n",
       "       ...,\n",
       "       [-0., -0., -0., ...,  0.,  0.,  0.],\n",
       "       [-0., -0., -0., ...,  0.,  0.,  0.],\n",
       "       [-0., -0., -0., ...,  0.,  0.,  0.]], shape=(1000, 1000))"
      ]
     },
     "metadata": {},
     "output_type": "display_data"
    },
    {
     "data": {
      "text/plain": [
       "'Sz is'"
      ]
     },
     "metadata": {},
     "output_type": "display_data"
    },
    {
     "data": {
      "text/plain": [
       "array([[1.        , 1.00030059, 1.00120224, ..., 1.83355062, 1.86058563,\n",
       "        1.88787691],\n",
       "       [1.00047466, 1.0000198 , 1.00016611, ..., 1.79995746, 1.82665508,\n",
       "        1.85362257],\n",
       "       [1.00189836, 1.00068832, 1.00007919, ..., 1.76680735, 1.79315068,\n",
       "        1.81977731],\n",
       "       ...,\n",
       "       [1.00189836, 1.00370882, 1.00611897, ..., 1.90198078, 1.92963903,\n",
       "        1.95752588],\n",
       "       [1.00047466, 1.00153052, 1.00318695, ..., 1.86756557, 1.89492086,\n",
       "        1.92251865],\n",
       "       [1.        , 1.00030059, 1.00120224, ..., 1.83355062, 1.86058563,\n",
       "        1.88787691]], shape=(1000, 1000))"
      ]
     },
     "metadata": {},
     "output_type": "display_data"
    }
   ],
   "source": [
    "#the x y z component of poynting vector\n",
    "display(\"Sx is\",Sx)\n",
    "display(\"Sy is\",Sy)\n",
    "display(\"Sz is\",Sz)"
   ]
  },
  {
   "cell_type": "code",
   "execution_count": 487,
   "metadata": {},
   "outputs": [
    {
     "data": {
      "text/plain": [
       "Text(0.5, 1.0, 'EM wave (2D representation)')"
      ]
     },
     "execution_count": 487,
     "metadata": {},
     "output_type": "execute_result"
    },
    {
     "data": {
      "image/png": "[encoded data removed]",
      "text/plain": [
       "<Figure size 350x262.5 with 1 Axes>"
      ]
     },
     "metadata": {},
     "output_type": "display_data"
    }
   ],
   "source": [
    "plt.plot(t,Ey[0],label='$E_{y}$')\n",
    "plt.plot(t,Bx[0],label='$B_{x}$')\n",
    "plt.plot(t,Sz[0],label='$S_{z}$')\n",
    "plt.legend()\n",
    "plt.title(r\"EM wave (2D representation)\")"
   ]
  },
  {
   "cell_type": "markdown",
   "metadata": {},
   "source": [
    "## 14.4 Question 4 (QM: Eigenvalue problem(particle in a 1D box))\n",
    "<mark>In QM : $\\hat H \\psi = E\\psi$ $\\implies (-\\frac{\\hbar^{2}}{2m}\\frac{d^{2}}{dx^{2}}+ V)\\psi=E\\psi$ : time independent SWE</mark>\n",
    "  \n",
    "Example:\n",
    "\n",
    "Find the solutions to $\\left(\\frac{d^2}{dx^2} + (10x)^2\\right) f = \\lambda f$ with boundary conditions $f(0)=f(1)=0$\\\n",
    "**Protocol**:\n",
    "* $\\frac{df}{dx}\\approx \\frac{f_{i+1}-f_{i}}{\\Delta x}$ 1st derivative \n",
    "* $\\hat A f=\\lambda f $ is the eigenvalue equation where $\\lambda$ is eigenvalue and f is the eigenvector and $\\hat A$ is an operator\n",
    "* use the eigenvalue method and the fact that $\\frac{d^2 f}{dx^2} \\approx \\frac{f_{i+1} + f_{i-1} - 2f_i}{\\Delta x^2}$ where $f_i = f(i \\Delta x)$ and $i$ is an integer.\n",
    "* Discretize the function $\\vec f(x)$ = {$f_{0},f_{1} \\dots f_{N},f_{N+1}$}  : $f_{0}=f_{N+1}=0\\implies$ Boundary conditions\n",
    "* $\\displaystyle [\\frac{d^2 f}{dx^2}]f_{1} \\approx \\frac{f_{2} + f_{0} - 2f_{1}}{\\Delta x^2}$ \\\n",
    "  $\\displaystyle [\\frac{d^2 f}{dx^2}]f_{2} \\approx \\frac{f_{3} + f_{1} - 2f_{2}}{\\Delta x^2}$ \\\n",
    "  $\\vdots$\\\n",
    "  $\\displaystyle [\\frac{d^2 f}{dx^2}]f_{N} \\approx \\frac{f_{N+1} + f_{N-1} - 2f_{N}}{\\Delta x^2}$\n",
    "  \n",
    " Matrix form  : NOTE: $f_{0}=f_{N+1}=0$\n",
    "* $\\frac{d^2}{dx^2} \\vec f =\\frac{1}{\\Delta x^2}\\begin{bmatrix} f_{2}-2f_{1} \\\\ f_{3}+f_{1}-2f_{2} \\\\\\vdots\\\\ f_{N+1}+f_{N-1}-2f_{N}\\end{bmatrix} = \\frac{1}{\\Delta x^2} \\begin{bmatrix} -2 & 1 & 0 & 0  \\\\ 1 & -2 & 1 & 0 &   \\\\ \\vdots \\\\ 0 & 0 & \\dots 1 & -2\\end{bmatrix}\\begin{bmatrix} f_{1} \\\\ f_{2} \\\\ \\vdots \\\\ f_{N}\\end{bmatrix} $\n",
    "\n",
    "* $ h(x)\\vec{f}=\\begin{bmatrix} h_{1}f_{1} \\\\ h_{2}f_{2} \\\\ \\vdots \\\\h_{N-1}f_{N-1} \\\\ h_{N}f_{N} \\\\ \\end{bmatrix}= \\begin{bmatrix} h_{1} & & \\\\ & \\ddots & \\\\ & & h_{N} \\end{bmatrix}\\begin{bmatrix} f_{1} \\\\   \\vdots \\\\  f_{N} \\end{bmatrix}$\n",
    "\n",
    "* $(\\frac{d^2}{dx^2} +  h(x))\\vec{f}$ = $\\frac{1}{\\Delta x^2}\\Bigg(  \\begin{bmatrix} -2 & 1 & 0 & 0  \\\\ 1 & -2 & 1 & 0 &   \\\\ \\vdots \\\\ 0 & 0 & \\dots 1 & -2\\end{bmatrix} + \\begin{bmatrix} h_{1} & & \\\\ & \\ddots & \\\\ & & h_{N} \\end{bmatrix} \\Bigg)\\begin{bmatrix} f_{1} \\\\   \\vdots \\\\  f_{N} \\end{bmatrix}$\n",
    "* there are N invervals with N+1 points\n",
    "\n",
    "* main diagonal has got N-1 points\n",
    "\n",
    "* off diagonal has got N-2 point\n",
    "\n",
    "* rest of the elements are 0\n",
    "\n"
   ]
  },
  {
   "cell_type": "code",
   "execution_count": 488,
   "metadata": {},
   "outputs": [
    {
     "data": {
      "text/plain": [
       "array([[-2.,  0.,  0., ...,  0.,  0.,  0.],\n",
       "       [ 0., -2.,  0., ...,  0.,  0.,  0.],\n",
       "       [ 0.,  0., -2., ...,  0.,  0.,  0.],\n",
       "       ...,\n",
       "       [ 0.,  0.,  0., ..., -2.,  0.,  0.],\n",
       "       [ 0.,  0.,  0., ...,  0., -2.,  0.],\n",
       "       [ 0.,  0.,  0., ...,  0.,  0., -2.]], shape=(999, 999))"
      ]
     },
     "metadata": {},
     "output_type": "display_data"
    },
    {
     "data": {
      "text/plain": [
       "array([[0., 1., 0., ..., 0., 0., 0.],\n",
       "       [0., 0., 1., ..., 0., 0., 0.],\n",
       "       [0., 0., 0., ..., 0., 0., 0.],\n",
       "       ...,\n",
       "       [0., 0., 0., ..., 0., 1., 0.],\n",
       "       [0., 0., 0., ..., 0., 0., 1.],\n",
       "       [0., 0., 0., ..., 0., 0., 0.]], shape=(999, 999))"
      ]
     },
     "metadata": {},
     "output_type": "display_data"
    },
    {
     "data": {
      "text/plain": [
       "array([[0., 0., 0., ..., 0., 0., 0.],\n",
       "       [1., 0., 0., ..., 0., 0., 0.],\n",
       "       [0., 1., 0., ..., 0., 0., 0.],\n",
       "       ...,\n",
       "       [0., 0., 0., ..., 0., 0., 0.],\n",
       "       [0., 0., 0., ..., 1., 0., 0.],\n",
       "       [0., 0., 0., ..., 0., 1., 0.]], shape=(999, 999))"
      ]
     },
     "metadata": {},
     "output_type": "display_data"
    },
    {
     "data": {
      "text/plain": [
       "'1st term in the equation'"
      ]
     },
     "metadata": {},
     "output_type": "display_data"
    },
    {
     "data": {
      "text/plain": [
       "array([[-2000000.,  1000000.,        0., ...,        0.,        0.,\n",
       "               0.],\n",
       "       [ 1000000., -2000000.,  1000000., ...,        0.,        0.,\n",
       "               0.],\n",
       "       [       0.,  1000000., -2000000., ...,        0.,        0.,\n",
       "               0.],\n",
       "       ...,\n",
       "       [       0.,        0.,        0., ..., -2000000.,  1000000.,\n",
       "               0.],\n",
       "       [       0.,        0.,        0., ...,  1000000., -2000000.,\n",
       "         1000000.],\n",
       "       [       0.,        0.,        0., ...,        0.,  1000000.,\n",
       "        -2000000.]], shape=(999, 999))"
      ]
     },
     "metadata": {},
     "output_type": "display_data"
    },
    {
     "data": {
      "text/plain": [
       "'2nd term in the equation'"
      ]
     },
     "metadata": {},
     "output_type": "display_data"
    },
    {
     "data": {
      "text/plain": [
       "array([[1.00000e-04, 0.00000e+00, 0.00000e+00, ..., 0.00000e+00,\n",
       "        0.00000e+00, 0.00000e+00],\n",
       "       [0.00000e+00, 4.00000e-04, 0.00000e+00, ..., 0.00000e+00,\n",
       "        0.00000e+00, 0.00000e+00],\n",
       "       [0.00000e+00, 0.00000e+00, 9.00000e-04, ..., 0.00000e+00,\n",
       "        0.00000e+00, 0.00000e+00],\n",
       "       ...,\n",
       "       [0.00000e+00, 0.00000e+00, 0.00000e+00, ..., 9.94009e+01,\n",
       "        0.00000e+00, 0.00000e+00],\n",
       "       [0.00000e+00, 0.00000e+00, 0.00000e+00, ..., 0.00000e+00,\n",
       "        9.96004e+01, 0.00000e+00],\n",
       "       [0.00000e+00, 0.00000e+00, 0.00000e+00, ..., 0.00000e+00,\n",
       "        0.00000e+00, 9.98001e+01]], shape=(999, 999))"
      ]
     },
     "metadata": {},
     "output_type": "display_data"
    }
   ],
   "source": [
    "N=1000  #discretization of x values into N intervals => N+1 points(including 2 end points )\n",
    "x=np.linspace(0,1,N+1)\n",
    "dx= x[1]-x[0]   # standard trick to write differential element\n",
    "\n",
    "#matrix creation\n",
    "twos=-2*np.ones(N-1)  # (N-1) -2's everywhere in 1D array\n",
    "ones=np.ones(N-2)     # (N-2) 1's everywhere in 1D array \n",
    "\n",
    "display(np.diag(twos)) # (N-1) 2's on the main diag : use np.diag() \n",
    "display(np.diag(ones,1))  #(N-2) 1's on the 1st diag \n",
    "display(np.diag(ones,-1))  #(N-2) 1's on the -1st diag (one below the main)\n",
    "\n",
    "#1st matrix\n",
    "derivative_matrix=(np.diag(twos)+np.diag(ones,1)+np.diag(ones,-1))/dx**2\n",
    "display(\"1st term in the equation\",derivative_matrix)\n",
    "#2nd matrix\n",
    "sq_matrix=np.diag((10*x[1:-1])**2)     # x points without 1st and last element (onwards:upto)\n",
    "display(\"2nd term in the equation\",sq_matrix)\n",
    "#LHS matrix\n",
    "LHS_operator=derivative_matrix+sq_matrix   #for a free particle in a box potential term=0 => sq_matrix term not included"
   ]
  },
  {
   "cell_type": "code",
   "execution_count": 489,
   "metadata": {},
   "outputs": [
    {
     "data": {
      "text/plain": [
       "'1st(biggest/last) eigenvalue'"
      ]
     },
     "metadata": {},
     "output_type": "display_data"
    },
    {
     "data": {
      "image/png": "[encoded data removed]",
      "text/latex": [
       "$\\displaystyle 29.8553232224421$"
      ],
      "text/plain": [
       "np.float64(29.85532322244212)"
      ]
     },
     "metadata": {},
     "output_type": "display_data"
    },
    {
     "data": {
      "text/plain": [
       "'1st corresponding eigenvector'"
      ]
     },
     "metadata": {},
     "output_type": "display_data"
    },
    {
     "data": {
      "text/plain": [
       "array([-2.81768141e-05, -5.63544695e-05, -8.45338073e-05, -1.12715669e-04,\n",
       "       -1.40900895e-04, -1.69090328e-04, -1.97284809e-04, -2.25485178e-04,\n",
       "       -2.53692278e-04, -2.81906950e-04, -3.10130036e-04, -3.38362377e-04,\n",
       "       -3.66604814e-04, -3.94858191e-04, -4.23123349e-04, -4.51401130e-04,\n",
       "       -4.79692375e-04, -5.07997929e-04, -5.36318632e-04, -5.64655328e-04,\n",
       "       -5.93008859e-04, -6.21380069e-04, -6.49769800e-04, -6.78178896e-04,\n",
       "       -7.06608200e-04, -7.35058556e-04, -7.63530807e-04, -7.92025798e-04,\n",
       "       -8.20544374e-04, -8.49087378e-04, -8.77655655e-04, -9.06250051e-04,\n",
       "       -9.34871410e-04, -9.63520579e-04, -9.92198402e-04, -1.02090573e-03,\n",
       "       -1.04964340e-03, -1.07841226e-03, -1.10721317e-03, -1.13604696e-03,\n",
       "       -1.16491449e-03, -1.19381660e-03, -1.22275415e-03, -1.25172797e-03,\n",
       "       -1.28073892e-03, -1.30978785e-03, -1.33887560e-03, -1.36800304e-03,\n",
       "       -1.39717099e-03, -1.42638033e-03, -1.45563190e-03, -1.48492654e-03,\n",
       "       -1.51426512e-03, -1.54364848e-03, -1.57307747e-03, -1.60255296e-03,\n",
       "       -1.63207579e-03, -1.66164681e-03, -1.69126688e-03, -1.72093686e-03,\n",
       "       -1.75065760e-03, -1.78042995e-03, -1.81025477e-03, -1.84013292e-03,\n",
       "       -1.87006526e-03, -1.90005263e-03, -1.93009591e-03, -1.96019594e-03,\n",
       "       -1.99035359e-03, -2.02056971e-03, -2.05084517e-03, -2.08118082e-03,\n",
       "       -2.11157753e-03, -2.14203615e-03, -2.17255755e-03, -2.20314260e-03,\n",
       "       -2.23379214e-03, -2.26450706e-03, -2.29528820e-03, -2.32613643e-03,\n",
       "       -2.35705263e-03, -2.38803765e-03, -2.41909236e-03, -2.45021762e-03,\n",
       "       -2.48141431e-03, -2.51268329e-03, -2.54402543e-03, -2.57544159e-03,\n",
       "       -2.60693265e-03, -2.63849948e-03, -2.67014294e-03, -2.70186391e-03,\n",
       "       -2.73366326e-03, -2.76554186e-03, -2.79750058e-03, -2.82954029e-03,\n",
       "       -2.86166188e-03, -2.89386621e-03, -2.92615415e-03, -2.95852659e-03,\n",
       "       -2.99098440e-03, -3.02352846e-03, -3.05615963e-03, -3.08887881e-03,\n",
       "       -3.12168687e-03, -3.15458468e-03, -3.18757313e-03, -3.22065310e-03,\n",
       "       -3.25382546e-03, -3.28709110e-03, -3.32045091e-03, -3.35390575e-03,\n",
       "       -3.38745652e-03, -3.42110410e-03, -3.45484937e-03, -3.48869321e-03,\n",
       "       -3.52263652e-03, -3.55668017e-03, -3.59082506e-03, -3.62507207e-03,\n",
       "       -3.65942208e-03, -3.69387600e-03, -3.72843469e-03, -3.76309906e-03,\n",
       "       -3.79786999e-03, -3.83274837e-03, -3.86773510e-03, -3.90283106e-03,\n",
       "       -3.93803715e-03, -3.97335425e-03, -4.00878327e-03, -4.04432508e-03,\n",
       "       -4.07998060e-03, -4.11575071e-03, -4.15163631e-03, -4.18763828e-03,\n",
       "       -4.22375754e-03, -4.25999497e-03, -4.29635147e-03, -4.33282794e-03,\n",
       "       -4.36942527e-03, -4.40614437e-03, -4.44298613e-03, -4.47995145e-03,\n",
       "       -4.51704124e-03, -4.55425638e-03, -4.59159778e-03, -4.62906635e-03,\n",
       "       -4.66666298e-03, -4.70438857e-03, -4.74224403e-03, -4.78023026e-03,\n",
       "       -4.81834815e-03, -4.85659863e-03, -4.89498258e-03, -4.93350091e-03,\n",
       "       -4.97215452e-03, -5.01094433e-03, -5.04987123e-03, -5.08893613e-03,\n",
       "       -5.12813993e-03, -5.16748354e-03, -5.20696787e-03, -5.24659382e-03,\n",
       "       -5.28636229e-03, -5.32627420e-03, -5.36633046e-03, -5.40653195e-03,\n",
       "       -5.44687961e-03, -5.48737432e-03, -5.52801700e-03, -5.56880856e-03,\n",
       "       -5.60974991e-03, -5.65084194e-03, -5.69208557e-03, -5.73348171e-03,\n",
       "       -5.77503127e-03, -5.81673515e-03, -5.85859426e-03, -5.90060951e-03,\n",
       "       -5.94278180e-03, -5.98511205e-03, -6.02760116e-03, -6.07025004e-03,\n",
       "       -6.11305960e-03, -6.15603075e-03, -6.19916439e-03, -6.24246142e-03,\n",
       "       -6.28592277e-03, -6.32954933e-03, -6.37334201e-03, -6.41730172e-03,\n",
       "       -6.46142936e-03, -6.50572584e-03, -6.55019207e-03, -6.59482895e-03,\n",
       "       -6.63963738e-03, -6.68461828e-03, -6.72977254e-03, -6.77510107e-03,\n",
       "       -6.82060477e-03, -6.86628455e-03, -6.91214130e-03, -6.95817594e-03,\n",
       "       -7.00438936e-03, -7.05078245e-03, -7.09735614e-03, -7.14411130e-03,\n",
       "       -7.19104885e-03, -7.23816967e-03, -7.28547468e-03, -7.33296475e-03,\n",
       "       -7.38064080e-03, -7.42850372e-03, -7.47655439e-03, -7.52479372e-03,\n",
       "       -7.57322260e-03, -7.62184192e-03, -7.67065256e-03, -7.71965543e-03,\n",
       "       -7.76885141e-03, -7.81824138e-03, -7.86782624e-03, -7.91760687e-03,\n",
       "       -7.96758416e-03, -8.01775899e-03, -8.06813223e-03, -8.11870478e-03,\n",
       "       -8.16947751e-03, -8.22045130e-03, -8.27162703e-03, -8.32300558e-03,\n",
       "       -8.37458781e-03, -8.42637460e-03, -8.47836683e-03, -8.53056536e-03,\n",
       "       -8.58297106e-03, -8.63558479e-03, -8.68840743e-03, -8.74143984e-03,\n",
       "       -8.79468287e-03, -8.84813739e-03, -8.90180426e-03, -8.95568433e-03,\n",
       "       -9.00977846e-03, -9.06408749e-03, -9.11861228e-03, -9.17335368e-03,\n",
       "       -9.22831254e-03, -9.28348969e-03, -9.33888598e-03, -9.39450225e-03,\n",
       "       -9.45033934e-03, -9.50639808e-03, -9.56267931e-03, -9.61918385e-03,\n",
       "       -9.67591253e-03, -9.73286619e-03, -9.79004563e-03, -9.84745169e-03,\n",
       "       -9.90508518e-03, -9.96294692e-03, -1.00210377e-02, -1.00793584e-02,\n",
       "       -1.01379097e-02, -1.01966925e-02, -1.02557076e-02, -1.03149558e-02,\n",
       "       -1.03744378e-02, -1.04341545e-02, -1.04941066e-02, -1.05542950e-02,\n",
       "       -1.06147204e-02, -1.06753836e-02, -1.07362853e-02, -1.07974265e-02,\n",
       "       -1.08588077e-02, -1.09204298e-02, -1.09822935e-02, -1.10443996e-02,\n",
       "       -1.11067489e-02, -1.11693420e-02, -1.12321798e-02, -1.12952630e-02,\n",
       "       -1.13585923e-02, -1.14221685e-02, -1.14859922e-02, -1.15500643e-02,\n",
       "       -1.16143853e-02, -1.16789562e-02, -1.17437774e-02, -1.18088499e-02,\n",
       "       -1.18741742e-02, -1.19397511e-02, -1.20055813e-02, -1.20716654e-02,\n",
       "       -1.21380041e-02, -1.22045982e-02, -1.22714482e-02, -1.23385549e-02,\n",
       "       -1.24059190e-02, -1.24735410e-02, -1.25414216e-02, -1.26095616e-02,\n",
       "       -1.26779615e-02, -1.27466219e-02, -1.28155435e-02, -1.28847270e-02,\n",
       "       -1.29541729e-02, -1.30238819e-02, -1.30938545e-02, -1.31640915e-02,\n",
       "       -1.32345933e-02, -1.33053605e-02, -1.33763939e-02, -1.34476938e-02,\n",
       "       -1.35192610e-02, -1.35910959e-02, -1.36631991e-02, -1.37355712e-02,\n",
       "       -1.38082128e-02, -1.38811243e-02, -1.39543063e-02, -1.40277594e-02,\n",
       "       -1.41014840e-02, -1.41754806e-02, -1.42497498e-02, -1.43242921e-02,\n",
       "       -1.43991079e-02, -1.44741978e-02, -1.45495621e-02, -1.46252015e-02,\n",
       "       -1.47011163e-02, -1.47773069e-02, -1.48537739e-02, -1.49305177e-02,\n",
       "       -1.50075386e-02, -1.50848372e-02, -1.51624138e-02, -1.52402688e-02,\n",
       "       -1.53184027e-02, -1.53968157e-02, -1.54755084e-02, -1.55544810e-02,\n",
       "       -1.56337339e-02, -1.57132676e-02, -1.57930822e-02, -1.58731781e-02,\n",
       "       -1.59535558e-02, -1.60342154e-02, -1.61151573e-02, -1.61963817e-02,\n",
       "       -1.62778891e-02, -1.63596796e-02, -1.64417535e-02, -1.65241111e-02,\n",
       "       -1.66067526e-02, -1.66896782e-02, -1.67728882e-02, -1.68563828e-02,\n",
       "       -1.69401622e-02, -1.70242266e-02, -1.71085761e-02, -1.71932110e-02,\n",
       "       -1.72781314e-02, -1.73633375e-02, -1.74488293e-02, -1.75346071e-02,\n",
       "       -1.76206709e-02, -1.77070209e-02, -1.77936571e-02, -1.78805796e-02,\n",
       "       -1.79677885e-02, -1.80552839e-02, -1.81430657e-02, -1.82311341e-02,\n",
       "       -1.83194891e-02, -1.84081306e-02, -1.84970586e-02, -1.85862732e-02,\n",
       "       -1.86757744e-02, -1.87655620e-02, -1.88556360e-02, -1.89459963e-02,\n",
       "       -1.90366429e-02, -1.91275757e-02, -1.92187946e-02, -1.93102994e-02,\n",
       "       -1.94020901e-02, -1.94941663e-02, -1.95865281e-02, -1.96791752e-02,\n",
       "       -1.97721075e-02, -1.98653246e-02, -1.99588265e-02, -2.00526128e-02,\n",
       "       -2.01466834e-02, -2.02410379e-02, -2.03356761e-02, -2.04305976e-02,\n",
       "       -2.05258023e-02, -2.06212897e-02, -2.07170594e-02, -2.08131113e-02,\n",
       "       -2.09094448e-02, -2.10060596e-02, -2.11029553e-02, -2.12001315e-02,\n",
       "       -2.12975877e-02, -2.13953235e-02, -2.14933384e-02, -2.15916319e-02,\n",
       "       -2.16902035e-02, -2.17890527e-02, -2.18881790e-02, -2.19875818e-02,\n",
       "       -2.20872606e-02, -2.21872147e-02, -2.22874435e-02, -2.23879465e-02,\n",
       "       -2.24887229e-02, -2.25897721e-02, -2.26910935e-02, -2.27926863e-02,\n",
       "       -2.28945499e-02, -2.29966834e-02, -2.30990862e-02, -2.32017575e-02,\n",
       "       -2.33046964e-02, -2.34079022e-02, -2.35113740e-02, -2.36151110e-02,\n",
       "       -2.37191123e-02, -2.38233771e-02, -2.39279044e-02, -2.40326933e-02,\n",
       "       -2.41377429e-02, -2.42430521e-02, -2.43486200e-02, -2.44544457e-02,\n",
       "       -2.45605279e-02, -2.46668658e-02, -2.47734582e-02, -2.48803041e-02,\n",
       "       -2.49874023e-02, -2.50947517e-02, -2.52023511e-02, -2.53101994e-02,\n",
       "       -2.54182953e-02, -2.55266377e-02, -2.56352253e-02, -2.57440568e-02,\n",
       "       -2.58531309e-02, -2.59624463e-02, -2.60720018e-02, -2.61817958e-02,\n",
       "       -2.62918272e-02, -2.64020943e-02, -2.65125959e-02, -2.66233305e-02,\n",
       "       -2.67342966e-02, -2.68454926e-02, -2.69569172e-02, -2.70685687e-02,\n",
       "       -2.71804455e-02, -2.72925461e-02, -2.74048689e-02, -2.75174122e-02,\n",
       "       -2.76301743e-02, -2.77431536e-02, -2.78563483e-02, -2.79697567e-02,\n",
       "       -2.80833771e-02, -2.81972075e-02, -2.83112463e-02, -2.84254916e-02,\n",
       "       -2.85399414e-02, -2.86545939e-02, -2.87694473e-02, -2.88844994e-02,\n",
       "       -2.89997485e-02, -2.91151923e-02, -2.92308290e-02, -2.93466565e-02,\n",
       "       -2.94626727e-02, -2.95788754e-02, -2.96952626e-02, -2.98118321e-02,\n",
       "       -2.99285816e-02, -3.00455091e-02, -3.01626121e-02, -3.02798886e-02,\n",
       "       -3.03973360e-02, -3.05149522e-02, -3.06327347e-02, -3.07506813e-02,\n",
       "       -3.08687893e-02, -3.09870565e-02, -3.11054803e-02, -3.12240583e-02,\n",
       "       -3.13427878e-02, -3.14616664e-02, -3.15806915e-02, -3.16998603e-02,\n",
       "       -3.18191704e-02, -3.19386190e-02, -3.20582033e-02, -3.21779207e-02,\n",
       "       -3.22977684e-02, -3.24177436e-02, -3.25378435e-02, -3.26580651e-02,\n",
       "       -3.27784056e-02, -3.28988622e-02, -3.30194317e-02, -3.31401113e-02,\n",
       "       -3.32608980e-02, -3.33817886e-02, -3.35027801e-02, -3.36238695e-02,\n",
       "       -3.37450535e-02, -3.38663290e-02, -3.39876928e-02, -3.41091416e-02,\n",
       "       -3.42306722e-02, -3.43522813e-02, -3.44739656e-02, -3.45957216e-02,\n",
       "       -3.47175461e-02, -3.48394355e-02, -3.49613864e-02, -3.50833953e-02,\n",
       "       -3.52054587e-02, -3.53275730e-02, -3.54497346e-02, -3.55719400e-02,\n",
       "       -3.56941854e-02, -3.58164671e-02, -3.59387815e-02, -3.60611247e-02,\n",
       "       -3.61834930e-02, -3.63058826e-02, -3.64282895e-02, -3.65507100e-02,\n",
       "       -3.66731400e-02, -3.67955756e-02, -3.69180128e-02, -3.70404476e-02,\n",
       "       -3.71628759e-02, -3.72852937e-02, -3.74076967e-02, -3.75300808e-02,\n",
       "       -3.76524419e-02, -3.77747756e-02, -3.78970777e-02, -3.80193440e-02,\n",
       "       -3.81415700e-02, -3.82637514e-02, -3.83858838e-02, -3.85079627e-02,\n",
       "       -3.86299837e-02, -3.87519422e-02, -3.88738337e-02, -3.89956536e-02,\n",
       "       -3.91173974e-02, -3.92390602e-02, -3.93606375e-02, -3.94821245e-02,\n",
       "       -3.96035165e-02, -3.97248087e-02, -3.98459962e-02, -3.99670742e-02,\n",
       "       -4.00880377e-02, -4.02088819e-02, -4.03296017e-02, -4.04501922e-02,\n",
       "       -4.05706483e-02, -4.06909650e-02, -4.08111370e-02, -4.09311594e-02,\n",
       "       -4.10510268e-02, -4.11707341e-02, -4.12902760e-02, -4.14096472e-02,\n",
       "       -4.15288424e-02, -4.16478563e-02, -4.17666834e-02, -4.18853183e-02,\n",
       "       -4.20037556e-02, -4.21219897e-02, -4.22400151e-02, -4.23578262e-02,\n",
       "       -4.24754174e-02, -4.25927831e-02, -4.27099176e-02, -4.28268152e-02,\n",
       "       -4.29434701e-02, -4.30598766e-02, -4.31760288e-02, -4.32919208e-02,\n",
       "       -4.34075469e-02, -4.35229010e-02, -4.36379772e-02, -4.37527695e-02,\n",
       "       -4.38672719e-02, -4.39814783e-02, -4.40953827e-02, -4.42089788e-02,\n",
       "       -4.43222606e-02, -4.44352218e-02, -4.45478562e-02, -4.46601575e-02,\n",
       "       -4.47721194e-02, -4.48837356e-02, -4.49949998e-02, -4.51059054e-02,\n",
       "       -4.52164462e-02, -4.53266155e-02, -4.54364070e-02, -4.55458140e-02,\n",
       "       -4.56548301e-02, -4.57634485e-02, -4.58716627e-02, -4.59794660e-02,\n",
       "       -4.60868517e-02, -4.61938131e-02, -4.63003434e-02, -4.64064358e-02,\n",
       "       -4.65120835e-02, -4.66172796e-02, -4.67220172e-02, -4.68262895e-02,\n",
       "       -4.69300894e-02, -4.70334100e-02, -4.71362442e-02, -4.72385851e-02,\n",
       "       -4.73404255e-02, -4.74417583e-02, -4.75425765e-02, -4.76428728e-02,\n",
       "       -4.77426400e-02, -4.78418709e-02, -4.79405583e-02, -4.80386949e-02,\n",
       "       -4.81362734e-02, -4.82332864e-02, -4.83297265e-02, -4.84255865e-02,\n",
       "       -4.85208588e-02, -4.86155359e-02, -4.87096106e-02, -4.88030751e-02,\n",
       "       -4.88959220e-02, -4.89881438e-02, -4.90797328e-02, -4.91706815e-02,\n",
       "       -4.92609822e-02, -4.93506272e-02, -4.94396090e-02, -4.95279196e-02,\n",
       "       -4.96155516e-02, -4.97024970e-02, -4.97887481e-02, -4.98742971e-02,\n",
       "       -4.99591362e-02, -5.00432575e-02, -5.01266532e-02, -5.02093153e-02,\n",
       "       -5.02912360e-02, -5.03724073e-02, -5.04528213e-02, -5.05324700e-02,\n",
       "       -5.06113453e-02, -5.06894394e-02, -5.07667441e-02, -5.08432514e-02,\n",
       "       -5.09189532e-02, -5.09938415e-02, -5.10679081e-02, -5.11411449e-02,\n",
       "       -5.12135438e-02, -5.12850966e-02, -5.13557951e-02, -5.14256312e-02,\n",
       "       -5.14945966e-02, -5.15626832e-02, -5.16298826e-02, -5.16961868e-02,\n",
       "       -5.17615873e-02, -5.18260759e-02, -5.18896444e-02, -5.19522845e-02,\n",
       "       -5.20139878e-02, -5.20747460e-02, -5.21345508e-02, -5.21933939e-02,\n",
       "       -5.22512669e-02, -5.23081615e-02, -5.23640692e-02, -5.24189818e-02,\n",
       "       -5.24728909e-02, -5.25257880e-02, -5.25776648e-02, -5.26285129e-02,\n",
       "       -5.26783239e-02, -5.27270894e-02, -5.27748009e-02, -5.28214502e-02,\n",
       "       -5.28670286e-02, -5.29115279e-02, -5.29549396e-02, -5.29972554e-02,\n",
       "       -5.30384667e-02, -5.30785652e-02, -5.31175424e-02, -5.31553900e-02,\n",
       "       -5.31920995e-02, -5.32276625e-02, -5.32620707e-02, -5.32953155e-02,\n",
       "       -5.33273887e-02, -5.33582818e-02, -5.33879864e-02, -5.34164943e-02,\n",
       "       -5.34437969e-02, -5.34698860e-02, -5.34947531e-02, -5.35183900e-02,\n",
       "       -5.35407883e-02, -5.35619398e-02, -5.35818360e-02, -5.36004687e-02,\n",
       "       -5.36178297e-02, -5.36339105e-02, -5.36487031e-02, -5.36621992e-02,\n",
       "       -5.36743905e-02, -5.36852688e-02, -5.36948260e-02, -5.37030539e-02,\n",
       "       -5.37099443e-02, -5.37154891e-02, -5.37196803e-02, -5.37225097e-02,\n",
       "       -5.37239692e-02, -5.37240509e-02, -5.37227467e-02, -5.37200486e-02,\n",
       "       -5.37159487e-02, -5.37104390e-02, -5.37035117e-02, -5.36951588e-02,\n",
       "       -5.36853725e-02, -5.36741451e-02, -5.36614686e-02, -5.36473353e-02,\n",
       "       -5.36317376e-02, -5.36146677e-02, -5.35961180e-02, -5.35760808e-02,\n",
       "       -5.35545486e-02, -5.35315139e-02, -5.35069690e-02, -5.34809067e-02,\n",
       "       -5.34533193e-02, -5.34241996e-02, -5.33935402e-02, -5.33613338e-02,\n",
       "       -5.33275732e-02, -5.32922510e-02, -5.32553603e-02, -5.32168937e-02,\n",
       "       -5.31768444e-02, -5.31352051e-02, -5.30919691e-02, -5.30471293e-02,\n",
       "       -5.30006788e-02, -5.29526109e-02, -5.29029188e-02, -5.28515958e-02,\n",
       "       -5.27986351e-02, -5.27440303e-02, -5.26877747e-02, -5.26298619e-02,\n",
       "       -5.25702855e-02, -5.25090391e-02, -5.24461163e-02, -5.23815110e-02,\n",
       "       -5.23152170e-02, -5.22472281e-02, -5.21775383e-02, -5.21061417e-02,\n",
       "       -5.20330322e-02, -5.19582042e-02, -5.18816517e-02, -5.18033691e-02,\n",
       "       -5.17233508e-02, -5.16415912e-02, -5.15580848e-02, -5.14728263e-02,\n",
       "       -5.13858102e-02, -5.12970313e-02, -5.12064844e-02, -5.11141646e-02,\n",
       "       -5.10200666e-02, -5.09241856e-02, -5.08265168e-02, -5.07270553e-02,\n",
       "       -5.06257966e-02, -5.05227359e-02, -5.04178688e-02, -5.03111908e-02,\n",
       "       -5.02026977e-02, -5.00923851e-02, -4.99802490e-02, -4.98662852e-02,\n",
       "       -4.97504898e-02, -4.96328590e-02, -4.95133889e-02, -4.93920759e-02,\n",
       "       -4.92689163e-02, -4.91439068e-02, -4.90170439e-02, -4.88883244e-02,\n",
       "       -4.87577450e-02, -4.86253028e-02, -4.84909947e-02, -4.83548178e-02,\n",
       "       -4.82167695e-02, -4.80768470e-02, -4.79350479e-02, -4.77913697e-02,\n",
       "       -4.76458101e-02, -4.74983669e-02, -4.73490380e-02, -4.71978214e-02,\n",
       "       -4.70447153e-02, -4.68897179e-02, -4.67328276e-02, -4.65740429e-02,\n",
       "       -4.64133624e-02, -4.62507849e-02, -4.60863092e-02, -4.59199343e-02,\n",
       "       -4.57516593e-02, -4.55814835e-02, -4.54094062e-02, -4.52354269e-02,\n",
       "       -4.50595452e-02, -4.48817608e-02, -4.47020738e-02, -4.45204840e-02,\n",
       "       -4.43369916e-02, -4.41515969e-02, -4.39643003e-02, -4.37751024e-02,\n",
       "       -4.35840038e-02, -4.33910054e-02, -4.31961082e-02, -4.29993133e-02,\n",
       "       -4.28006219e-02, -4.26000354e-02, -4.23975554e-02, -4.21931836e-02,\n",
       "       -4.19869217e-02, -4.17787718e-02, -4.15687360e-02, -4.13568166e-02,\n",
       "       -4.11430159e-02, -4.09273367e-02, -4.07097815e-02, -4.04903534e-02,\n",
       "       -4.02690553e-02, -4.00458904e-02, -3.98208620e-02, -3.95939738e-02,\n",
       "       -3.93652293e-02, -3.91346324e-02, -3.89021870e-02, -3.86678973e-02,\n",
       "       -3.84317676e-02, -3.81938024e-02, -3.79540063e-02, -3.77123841e-02,\n",
       "       -3.74689407e-02, -3.72236813e-02, -3.69766112e-02, -3.67277359e-02,\n",
       "       -3.64770609e-02, -3.62245921e-02, -3.59703355e-02, -3.57142971e-02,\n",
       "       -3.54564833e-02, -3.51969007e-02, -3.49355558e-02, -3.46724554e-02,\n",
       "       -3.44076067e-02, -3.41410167e-02, -3.38726929e-02, -3.36026428e-02,\n",
       "       -3.33308741e-02, -3.30573947e-02, -3.27822127e-02, -3.25053363e-02,\n",
       "       -3.22267739e-02, -3.19465343e-02, -3.16646261e-02, -3.13810584e-02,\n",
       "       -3.10958404e-02, -3.08089813e-02, -3.05204908e-02, -3.02303785e-02,\n",
       "       -2.99386543e-02, -2.96453284e-02, -2.93504110e-02, -2.90539125e-02,\n",
       "       -2.87558437e-02, -2.84562154e-02, -2.81550385e-02, -2.78523244e-02,\n",
       "       -2.75480844e-02, -2.72423301e-02, -2.69350733e-02, -2.66263259e-02,\n",
       "       -2.63161003e-02, -2.60044086e-02, -2.56912635e-02, -2.53766777e-02,\n",
       "       -2.50606641e-02, -2.47432358e-02, -2.44244063e-02, -2.41041889e-02,\n",
       "       -2.37825974e-02, -2.34596457e-02, -2.31353479e-02, -2.28097183e-02,\n",
       "       -2.24827713e-02, -2.21545216e-02, -2.18249840e-02, -2.14941738e-02,\n",
       "       -2.11621060e-02, -2.08287961e-02, -2.04942598e-02, -2.01585130e-02,\n",
       "       -1.98215715e-02, -1.94834518e-02, -1.91441701e-02, -1.88037431e-02,\n",
       "       -1.84621876e-02, -1.81195206e-02, -1.77757593e-02, -1.74309210e-02,\n",
       "       -1.70850234e-02, -1.67380841e-02, -1.63901213e-02, -1.60411529e-02,\n",
       "       -1.56911974e-02, -1.53402733e-02, -1.49883993e-02, -1.46355943e-02,\n",
       "       -1.42818774e-02, -1.39272680e-02, -1.35717855e-02, -1.32154496e-02,\n",
       "       -1.28582801e-02, -1.25002972e-02, -1.21415209e-02, -1.17819718e-02,\n",
       "       -1.14216705e-02, -1.10606377e-02, -1.06988944e-02, -1.03364618e-02,\n",
       "       -9.97336122e-03, -9.60961420e-03, -9.24524244e-03, -8.88026783e-03,\n",
       "       -8.51471242e-03, -8.14859847e-03, -7.78194840e-03, -7.41478481e-03,\n",
       "       -7.04713048e-03, -6.67900835e-03, -6.31044155e-03, -5.94145337e-03,\n",
       "       -5.57206730e-03, -5.20230697e-03, -4.83219619e-03, -4.46175894e-03,\n",
       "       -4.09101936e-03, -3.72000177e-03, -3.34873065e-03, -2.97723063e-03,\n",
       "       -2.60552652e-03, -2.23364328e-03, -1.86160603e-03, -1.48944006e-03,\n",
       "       -1.11717080e-03, -7.44823850e-04, -3.72424950e-04])"
      ]
     },
     "metadata": {},
     "output_type": "display_data"
    }
   ],
   "source": [
    "#Eigenvalue and eigenvector of LHS-operator\n",
    "val,vect=np.linalg.eigh(LHS_operator) #it returns eigenval(1D array) and eigenvector(2d array) and size of val=999,shape of vect=(999,999) \n",
    "\n",
    "#display(\"1st(smallest) eigenvalue\",val[0]) THIS VAL IS -VE AND VERY SMALL    #eigenvalues are in ascending order \n",
    "#display(\"1st corresponding eigenvector\",vect[:,0])  #eigenvectors are aligned vertically in the 2d array\n",
    "\n",
    "display(\"1st(biggest/last) eigenvalue\",val[-1])     #eigenvalues are in ascending order \n",
    "display(\"1st corresponding eigenvector\",vect[:,-1])  #eigenvectors are aligned vertically in the 2d array\n",
    "\n"
   ]
  },
  {
   "cell_type": "code",
   "execution_count": 490,
   "metadata": {},
   "outputs": [
    {
     "name": "stderr",
     "output_type": "stream",
     "text": [
      "<>:3: SyntaxWarning: invalid escape sequence '\\l'\n",
      "<>:4: SyntaxWarning: invalid escape sequence '\\l'\n",
      "<>:5: SyntaxWarning: invalid escape sequence '\\l'\n",
      "<>:6: SyntaxWarning: invalid escape sequence '\\l'\n",
      "<>:3: SyntaxWarning: invalid escape sequence '\\l'\n",
      "<>:4: SyntaxWarning: invalid escape sequence '\\l'\n",
      "<>:5: SyntaxWarning: invalid escape sequence '\\l'\n",
      "<>:6: SyntaxWarning: invalid escape sequence '\\l'\n",
      "/tmp/ipykernel_2431/1314686846.py:3: SyntaxWarning: invalid escape sequence '\\l'\n",
      "  plt.plot(vect[:,-1],label='$\\lambda_{1}=29$')  #corresp to 1st eigenval\n",
      "/tmp/ipykernel_2431/1314686846.py:4: SyntaxWarning: invalid escape sequence '\\l'\n",
      "  plt.plot(vect[:,-2],label='$\\lambda_{2}=-10$')  #corresp to 1st eigenval\n",
      "/tmp/ipykernel_2431/1314686846.py:5: SyntaxWarning: invalid escape sequence '\\l'\n",
      "  plt.plot(vect[:,-3],label='$\\lambda_{3}=-58$')  #corresp to 1st eigenval\n",
      "/tmp/ipykernel_2431/1314686846.py:6: SyntaxWarning: invalid escape sequence '\\l'\n",
      "  plt.plot(vect[:,-4],label='$\\lambda_{4}=-126$')  #corresp to 1st eigenval\n"
     ]
    },
    {
     "data": {
      "text/plain": [
       "<matplotlib.legend.Legend at 0x7909e0ec8550>"
      ]
     },
     "execution_count": 490,
     "metadata": {},
     "output_type": "execute_result"
    },
    {
     "data": {
      "image/png": "[encoded data removed]",
      "text/plain": [
       "<Figure size 350x262.5 with 1 Axes>"
      ]
     },
     "metadata": {},
     "output_type": "display_data"
    }
   ],
   "source": [
    "#Plot the eigenvectors corresponding to 1st biggest,2nd biggest,3rd biggest,4th biggest eigenval\n",
    "\n",
    "plt.plot(vect[:,-1],label='$\\lambda_{1}=29$')  #corresp to 1st eigenval\n",
    "plt.plot(vect[:,-2],label='$\\lambda_{2}=-10$')  #corresp to 1st eigenval\n",
    "plt.plot(vect[:,-3],label='$\\lambda_{3}=-58$')  #corresp to 1st eigenval \n",
    "plt.plot(vect[:,-4],label='$\\lambda_{4}=-126$')  #corresp to 1st eigenval\n",
    "plt.legend()"
   ]
  },
  {
   "cell_type": "code",
   "execution_count": null,
   "metadata": {},
   "outputs": [],
   "source": []
  },
  {
   "cell_type": "code",
   "execution_count": null,
   "metadata": {},
   "outputs": [],
   "source": []
  }
 ],
 "metadata": {
  "kernelspec": {
   "display_name": "Python 3 (ipykernel)",
   "language": "python",
   "name": "python3"
  },
  "language_info": {
   "codemirror_mode": {
    "name": "ipython",
    "version": 3
   },
   "file_extension": ".py",
   "mimetype": "text/x-python",
   "name": "python",
   "nbconvert_exporter": "python",
   "pygments_lexer": "ipython3",
   "version": "3.13.1"
  },
  "widgets": {
   "application/vnd.jupyter.widget-state+json": {
    "state": {},
    "version_major": 2,
    "version_minor": 0
   }
  }
 },
 "nbformat": 4,
 "nbformat_minor": 4
}
